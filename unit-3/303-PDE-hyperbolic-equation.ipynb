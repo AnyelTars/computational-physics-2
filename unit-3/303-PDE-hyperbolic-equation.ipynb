{
 "cells": [
  {
   "cell_type": "markdown",
   "id": "d458dffe",
   "metadata": {},
   "source": [
    "## Problem: Harmonic density waves"
   ]
  },
  {
   "cell_type": "code",
   "execution_count": 1,
   "id": "fc506a91",
   "metadata": {},
   "outputs": [],
   "source": [
    "import numpy as np\n",
    "\n",
    "import matplotlib.pyplot as plt"
   ]
  },
  {
   "cell_type": "code",
   "execution_count": 6,
   "id": "6b4e8725",
   "metadata": {},
   "outputs": [],
   "source": [
    "# Discretisation\n",
    "N_x = 10\n",
    "N_t = 20\n",
    "\n",
    "# x-Limits\n",
    "x_0 = 0\n",
    "x_f = 1\n",
    "\n",
    "# t-Limits\n",
    "t_0 = 0\n",
    "t_f = 2\n",
    "\n",
    "# Step sizes\n",
    "delta_x = (x_f - x_0)/N_x\n",
    "delta_t = (t_f - t_0)/N_t\n",
    "\n",
    "# Axes\n",
    "x = np.arange(x_0, x_f+delta_x, delta_x)\n",
    "t = np.arange(t_0, t_f+delta_t, delta_t)\n",
    "\n",
    "# Meshgrid\n",
    "X, Y = np.meshgrid(x, t)"
   ]
  },
  {
   "cell_type": "code",
   "execution_count": null,
   "id": "e4759974",
   "metadata": {},
   "outputs": [],
   "source": [
    "# Function for the analytical solution\n",
    "\n"
   ]
  }
 ],
 "metadata": {
  "kernelspec": {
   "display_name": "Python 3 (ipykernel)",
   "language": "python",
   "name": "python3"
  },
  "language_info": {
   "codemirror_mode": {
    "name": "ipython",
    "version": 3
   },
   "file_extension": ".py",
   "mimetype": "text/x-python",
   "name": "python",
   "nbconvert_exporter": "python",
   "pygments_lexer": "ipython3",
   "version": "3.7.13"
  }
 },
 "nbformat": 4,
 "nbformat_minor": 5
}
