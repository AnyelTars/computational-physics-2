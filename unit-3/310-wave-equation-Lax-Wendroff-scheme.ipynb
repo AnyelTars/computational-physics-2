{
 "cells": [
  {
   "cell_type": "markdown",
   "id": "6c93d0a3",
   "metadata": {},
   "source": [
    "# Lax-Wendroff scheme"
   ]
  },
  {
   "cell_type": "code",
   "execution_count": 1,
   "id": "28f73a5b",
   "metadata": {},
   "outputs": [],
   "source": [
    "import matplotlib.pyplot as plt\n",
    "import numpy as np"
   ]
  },
  {
   "cell_type": "markdown",
   "id": "2463bf56",
   "metadata": {},
   "source": [
    "### Space discretisation:"
   ]
  },
  {
   "cell_type": "code",
   "execution_count": 2,
   "id": "793ef4ac",
   "metadata": {},
   "outputs": [],
   "source": [
    "nx = 101\n",
    "\n",
    "x_max = +2.\n",
    "x_min = -2.\n",
    "\n",
    "delta_x = (x_max - x_min)/(nx - 1)\n",
    "\n",
    "x = np.linspace(x_min, x_max, nx)\n",
    "#print(x.shape)"
   ]
  },
  {
   "cell_type": "markdown",
   "id": "df4a0f3a",
   "metadata": {},
   "source": [
    "### Initial condition"
   ]
  },
  {
   "cell_type": "code",
   "execution_count": 3,
   "id": "c509b345",
   "metadata": {},
   "outputs": [],
   "source": [
    "def u_x(x_axis):\n",
    "    \n",
    "    return np.exp(-0.5*(x/0.4)**2)\n"
   ]
  },
  {
   "cell_type": "code",
   "execution_count": 4,
   "id": "debf8784",
   "metadata": {},
   "outputs": [],
   "source": [
    "# Define IC:\n",
    "\n",
    "u_0 = u_x(x)"
   ]
  },
  {
   "cell_type": "code",
   "execution_count": 5,
   "id": "6c5dec77",
   "metadata": {},
   "outputs": [
    {
     "data": {
      "image/png": "[encoded data removed]",
      "text/plain": [
       "<Figure size 400x300 with 1 Axes>"
      ]
     },
     "metadata": {},
     "output_type": "display_data"
    }
   ],
   "source": [
    "# Plotting\n",
    "\n",
    "plt.figure(figsize=(4,3))\n",
    "\n",
    "plt.plot(x, u_0, label = \"u_0\")\n",
    "\n",
    "plt.xlabel(r\"$x$\")\n",
    "plt.ylabel(r\"$u$\")\n",
    "plt.legend()\n",
    "\n",
    "plt.show()\n",
    "\n"
   ]
  },
  {
   "cell_type": "markdown",
   "id": "a83df8b4",
   "metadata": {},
   "source": [
    "### Time discretisation:"
   ]
  },
  {
   "cell_type": "code",
   "execution_count": 6,
   "id": "e75e7aae",
   "metadata": {},
   "outputs": [],
   "source": [
    "# CFL number\n",
    "CFL = 0.8\n",
    "\n",
    "# Speed perturbation\n",
    "c = 1\n",
    "\n",
    "# Time step\n",
    "delta_t = CFL*delta_x/c\n",
    "\n",
    "# Min/Max time:\n",
    "t_min = 0.\n",
    "t_max = 10.\n",
    "\n",
    "# Time axis:\n",
    "\n",
    "t = np.arange(t_min, t_max, delta_t)\n",
    "\n",
    "#print(t.shape)"
   ]
  },
  {
   "cell_type": "markdown",
   "id": "c3ca0c1e",
   "metadata": {},
   "source": [
    "### Define theta (i.e. the coef of parabolic term)\n"
   ]
  },
  {
   "cell_type": "code",
   "execution_count": 7,
   "id": "f2b8f86b",
   "metadata": {},
   "outputs": [],
   "source": [
    "# For stability and consistency, theta = CFL^2\n",
    "\n",
    "theta = CFL**2\n",
    "\n",
    "#theta = 0.2\n",
    "\n",
    "#print(theta)"
   ]
  },
  {
   "cell_type": "markdown",
   "id": "ac98528e",
   "metadata": {},
   "source": [
    "### Empty solution array"
   ]
  },
  {
   "cell_type": "code",
   "execution_count": 8,
   "id": "663a7959",
   "metadata": {},
   "outputs": [
    {
     "name": "stdout",
     "output_type": "stream",
     "text": [
      "(313, 101)\n"
     ]
    }
   ],
   "source": [
    "# Empty array\n",
    "u_sln = np.zeros((len(t), len(x)))\n",
    "print(u_sln.shape)"
   ]
  },
  {
   "cell_type": "markdown",
   "id": "3ad029b8",
   "metadata": {},
   "source": [
    "### Add initial condition"
   ]
  },
  {
   "cell_type": "code",
   "execution_count": 9,
   "id": "65882e27",
   "metadata": {},
   "outputs": [],
   "source": [
    "u_sln[0, :] = u_0\n",
    "\n",
    "#print(u_sln[0, :])"
   ]
  },
  {
   "cell_type": "markdown",
   "id": "38fb1238",
   "metadata": {},
   "source": [
    "### Time loop:"
   ]
  },
  {
   "cell_type": "code",
   "execution_count": 10,
   "id": "1faa8cec",
   "metadata": {},
   "outputs": [
    {
     "name": "stdout",
     "output_type": "stream",
     "text": [
      "(313, 101)\n"
     ]
    }
   ],
   "source": [
    "for j in range(0, len(t) - 1):\n",
    "    \n",
    "    for i in range(1, nx - 1):\n",
    "        \n",
    "        # Lax-Wendroff scheme\n",
    "        u_sln[j+1, i] = u_sln[j, i] - 0.5*CFL*(u_sln[j, i+1]\\\n",
    "        - u_sln[j, i-1]) + 0.5*theta*(u_sln[j, i+1]\\\n",
    "        - 2*u_sln[j, i] + u_sln[j, i-1]) \n",
    "        \n",
    "    # Boundary conditions\n",
    "    u_sln[j+1, 0] = u_sln[j, nx - 2]\n",
    "    u_sln[j+1, nx - 1] = u_sln[j+1, 0]\n",
    "\n",
    "print(u_sln.shape)\n",
    "        "
   ]
  },
  {
   "cell_type": "markdown",
   "id": "df524c0d",
   "metadata": {},
   "source": [
    "### Solution plot:"
   ]
  },
  {
   "cell_type": "code",
   "execution_count": 11,
   "id": "32423447",
   "metadata": {},
   "outputs": [
    {
     "ename": "IndexError",
     "evalue": "index 500 is out of bounds for axis 0 with size 313",
     "output_type": "error",
     "traceback": [
      "\u001b[0;31m---------------------------------------------------------------------------\u001b[0m",
      "\u001b[0;31mIndexError\u001b[0m                                Traceback (most recent call last)",
      "Input \u001b[0;32mIn [11]\u001b[0m, in \u001b[0;36m<cell line: 8>\u001b[0;34m()\u001b[0m\n\u001b[1;32m      6\u001b[0m plt\u001b[38;5;241m.\u001b[39mplot(x, u_sln[\u001b[38;5;241m1\u001b[39m, :], label \u001b[38;5;241m=\u001b[39m \u001b[38;5;124m\"\u001b[39m\u001b[38;5;124mu_1\u001b[39m\u001b[38;5;124m\"\u001b[39m)\n\u001b[1;32m      7\u001b[0m plt\u001b[38;5;241m.\u001b[39mplot(x, u_sln[\u001b[38;5;241m4\u001b[39m, :], label \u001b[38;5;241m=\u001b[39m \u001b[38;5;124m\"\u001b[39m\u001b[38;5;124mu_4\u001b[39m\u001b[38;5;124m\"\u001b[39m)\n\u001b[0;32m----> 8\u001b[0m plt\u001b[38;5;241m.\u001b[39mplot(x, \u001b[43mu_sln\u001b[49m\u001b[43m[\u001b[49m\u001b[38;5;241;43m500\u001b[39;49m\u001b[43m,\u001b[49m\u001b[43m \u001b[49m\u001b[43m:\u001b[49m\u001b[43m]\u001b[49m, label \u001b[38;5;241m=\u001b[39m \u001b[38;5;124m\"\u001b[39m\u001b[38;5;124mu_39\u001b[39m\u001b[38;5;124m\"\u001b[39m)\n\u001b[1;32m      9\u001b[0m \u001b[38;5;66;03m#plt.plot(x, u_sln[125, :], label = \"u_125\")\u001b[39;00m\n\u001b[1;32m     11\u001b[0m plt\u001b[38;5;241m.\u001b[39mxlabel(\u001b[38;5;124mr\u001b[39m\u001b[38;5;124m\"\u001b[39m\u001b[38;5;124m$x$\u001b[39m\u001b[38;5;124m\"\u001b[39m)\n",
      "\u001b[0;31mIndexError\u001b[0m: index 500 is out of bounds for axis 0 with size 313"
     ]
    },
    {
     "data": {
      "image/png": "[encoded data removed]",
      "text/plain": [
       "<Figure size 400x300 with 1 Axes>"
      ]
     },
     "metadata": {},
     "output_type": "display_data"
    }
   ],
   "source": [
    "# Plotting\n",
    "\n",
    "plt.figure(figsize=(4,3))\n",
    "\n",
    "plt.plot(x, u_0, label = \"u_0\")\n",
    "plt.plot(x, u_sln[1, :], label = \"u_1\")\n",
    "plt.plot(x, u_sln[4, :], label = \"u_4\")\n",
    "plt.plot(x, u_sln[500, :], label = \"u_39\")\n",
    "#plt.plot(x, u_sln[125, :], label = \"u_125\")\n",
    "\n",
    "plt.xlabel(r\"$x$\")\n",
    "plt.ylabel(r\"$u$\")\n",
    "plt.legend()\n",
    "\n",
    "plt.show()\n",
    "\n"
   ]
  },
  {
   "cell_type": "code",
   "execution_count": null,
   "id": "803ceeee",
   "metadata": {},
   "outputs": [],
   "source": [
    "# Plotting\n",
    "\n",
    "plt.figure(figsize=(4,3))\n",
    "\n",
    "plt.pcolor(u_sln)\n",
    "\n",
    "plt.xlabel(r\"$x$\")\n",
    "plt.ylabel(r\"$t$\")\n",
    "#plt.legend()\n",
    "\n",
    "plt.show()\n",
    "\n"
   ]
  },
  {
   "cell_type": "code",
   "execution_count": null,
   "id": "da97ba08",
   "metadata": {},
   "outputs": [],
   "source": []
  }
 ],
 "metadata": {
  "kernelspec": {
   "display_name": "Python 3 (ipykernel)",
   "language": "python",
   "name": "python3"
  },
  "language_info": {
   "codemirror_mode": {
    "name": "ipython",
    "version": 3
   },
   "file_extension": ".py",
   "mimetype": "text/x-python",
   "name": "python",
   "nbconvert_exporter": "python",
   "pygments_lexer": "ipython3",
   "version": "3.8.13"
  }
 },
 "nbformat": 4,
 "nbformat_minor": 5
}
