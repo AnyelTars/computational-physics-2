{
 "cells": [
  {
   "cell_type": "markdown",
   "id": "e5b26571",
   "metadata": {},
   "source": [
    "## Top-hat function advection"
   ]
  },
  {
   "cell_type": "code",
   "execution_count": 1,
   "id": "1ff841b5",
   "metadata": {},
   "outputs": [],
   "source": [
    "import matplotlib.pyplot as plt\n",
    "import numpy as np"
   ]
  },
  {
   "cell_type": "markdown",
   "id": "0c819bee",
   "metadata": {},
   "source": [
    "### 1. Define our domain (spatial discretisation):"
   ]
  },
  {
   "cell_type": "code",
   "execution_count": 2,
   "id": "404b9692",
   "metadata": {},
   "outputs": [],
   "source": [
    "# limits:\n",
    "xmin = 0.\n",
    "xmax = 1.\n",
    "\n",
    "# Number of cells\n",
    "nx = 64\n",
    "\n",
    "# Number of ghost cells on each side\n",
    "ng = 2\n",
    "\n",
    "# Lowest and highest indices\n",
    "ilo = ng\n",
    "ihi = ng + nx - 1\n",
    "\n",
    "# Step size\n",
    "dx = (xmax - xmin)/(nx)\n",
    "\n",
    "# X axis vector -> we need the cell centres:\n",
    "x = xmin + (np.arange(nx + 2*ng) - ng + 0.5)*dx\n",
    "\n",
    "#print(x)\n"
   ]
  },
  {
   "cell_type": "markdown",
   "id": "6022c5b7",
   "metadata": {},
   "source": [
    "### 2. Create vector to store solution array:\n",
    "\n",
    "#### Include initial conditions: top-hat function in the middle"
   ]
  },
  {
   "cell_type": "code",
   "execution_count": 3,
   "id": "8b36b33c",
   "metadata": {},
   "outputs": [],
   "source": [
    "# Empty vector for the solution in double precision:\n",
    "a = np.zeros((nx + 2*ng), dtype = np.float64)\n",
    "\n",
    "# Add initial conditions;\n",
    "a[:] = 0.\n",
    "a[np.logical_and(x >= 1./3., x <= 2./3.)] = 1.\n",
    "\n",
    "# Make a copy of the initial condition:\n",
    "ainit = a.copy()"
   ]
  },
  {
   "cell_type": "code",
   "execution_count": 4,
   "id": "8965b7d8",
   "metadata": {},
   "outputs": [
    {
     "data": {
      "image/png": "[encoded data removed]",
      "text/plain": [
       "<Figure size 400x300 with 1 Axes>"
      ]
     },
     "metadata": {},
     "output_type": "display_data"
    }
   ],
   "source": [
    "# Plotting the initial condition\n",
    "\n",
    "plt.figure(figsize=(4,3))\n",
    "plt.plot(x, a, label = r\"$t=0$\")\n",
    "plt.legend()\n",
    "plt.show()"
   ]
  },
  {
   "cell_type": "markdown",
   "id": "d8a18a2c",
   "metadata": {},
   "source": [
    "### 3. Time discretisation:"
   ]
  },
  {
   "cell_type": "code",
   "execution_count": 5,
   "id": "ec02d560",
   "metadata": {},
   "outputs": [],
   "source": [
    "# Define perturbation velocity\n",
    "u = 1.\n",
    "\n",
    "# Define Courant number\n",
    "C = 0.7\n",
    "\n",
    "# Define number of periods\n",
    "num_periods = 5.\n",
    "\n",
    "# Calculate period \n",
    "period = (xmax - xmin)/u\n",
    "\n",
    "# Maximmum simulation time\n",
    "tmax = num_periods*period"
   ]
  },
  {
   "cell_type": "markdown",
   "id": "b0e7db48",
   "metadata": {},
   "source": [
    "### 4. Evolution Loop\n",
    "\n"
   ]
  },
  {
   "cell_type": "code",
   "execution_count": 6,
   "id": "aa51e947",
   "metadata": {},
   "outputs": [],
   "source": [
    "# Functions that will be called by the while statement\n",
    "\n",
    "def states(dx, dt):\n",
    "    \n",
    "    # Empty vector for the slope\n",
    "    slope = np.zeros((nx + 2*ng), dtype = np.float64)\n",
    "    \n",
    "    # This could be into a function\n",
    "    \n",
    "    # 1st approach: Godunov approach\n",
    "    #slope[:] = 0. \n",
    "    \n",
    "    # 2nd approach: Centred difference method\n",
    "    for i in range(ilo - 1, ihi + 2):\n",
    "        slope[i] = 0.5*(a[i + 1] - a[i-1])/dx\n",
    "    \n",
    "    # Empty vector dor the L and R states\n",
    "    al = np.zeros((nx + 2*ng), dtype = np.float64)\n",
    "    ar = np.zeros((nx + 2*ng), dtype = np.float64)\n",
    "    \n",
    "    # Add derivative calculation\n",
    "    for i in range(ilo, ihi + 2):\n",
    "        \n",
    "        # Compute L state\n",
    "        al[i] = a[i - 1] + 0.5*dx*(1. - u*dt/dx)*slope[i-1]\n",
    "        \n",
    "        # Compute R state\n",
    "        ar[i] = a[i] - 0.5*dx*(1. + u*dt/dx)*slope[i]\n",
    "        \n",
    "    return al, ar\n",
    "  \n",
    "def riemann(al, ar):\n",
    "    # Computing the flux\n",
    "    if u > 0.:\n",
    "        return u*al\n",
    "    else: \n",
    "        return u*ar\n",
    "    \n",
    "def conservative_update(dt, flux):\n",
    "    \n",
    "    # Empty vector for updated solution\n",
    "    anew = np.zeros((nx + 2*ng), dtype = np.float64)\n",
    "    \n",
    "    # Update\n",
    "    anew[ilo:ihi+1] = a[ilo:ihi+1] -\\\n",
    "    dt/dx*(flux[ilo+1:ihi+2] - flux[ilo:ihi+1])\n",
    "    \n",
    "    # Return\n",
    "    return anew"
   ]
  },
  {
   "cell_type": "code",
   "execution_count": 7,
   "id": "fa6315d9",
   "metadata": {},
   "outputs": [],
   "source": [
    "# While statement\n",
    "# Initialise\n",
    "t = 0.\n",
    "\n",
    "# We start while:\n",
    "while t < tmax:\n",
    "    \n",
    "    # Fill up the boundary conditions BCs\n",
    "    for n in range(ng):\n",
    "        # The left BC is\n",
    "        a[ilo - 1 - n] = a[ihi - n]\n",
    "        # The right BC is\n",
    "        a[ihi + 1 + n] = a[ilo + n]\n",
    "    \n",
    "    # Get time step\n",
    "    dt = C*dx/u\n",
    "    \n",
    "    if t + dt > tmax:\n",
    "        dt = tmax - t\n",
    "    \n",
    "    # Get interface states\n",
    "    al, ar = states(dx, dt)\n",
    "    \n",
    "    # Solve Riemann problem\n",
    "    flux = riemann(al, ar)\n",
    "    \n",
    "    # Do the conservative update\n",
    "    anew = conservative_update(dt, flux)\n",
    "    \n",
    "    # Retrieve solution\n",
    "    a[:] = anew[:]\n",
    "    \n",
    "    # Advance in time\n",
    "    t += dt"
   ]
  },
  {
   "cell_type": "markdown",
   "id": "b2cf9231",
   "metadata": {},
   "source": [
    "### 5. Inspect solution:"
   ]
  },
  {
   "cell_type": "code",
   "execution_count": 8,
   "id": "4881e1c6",
   "metadata": {},
   "outputs": [
    {
     "data": {
      "image/png": "[encoded data removed]",
      "text/plain": [
       "<Figure size 700x600 with 1 Axes>"
      ]
     },
     "metadata": {},
     "output_type": "display_data"
    }
   ],
   "source": [
    "# Plotting the initial condition\n",
    "\n",
    "plt.figure(figsize=(7,6))\n",
    "\n",
    "plt.plot(x[ilo:ihi+1], ainit[ilo:ihi+1], label = r\"$t=0$\")\n",
    "plt.plot(x[ilo:ihi+1], a[ilo:ihi+1], label = r\"$t=1 T$\")\n",
    "\n",
    "plt.legend()\n",
    "plt.show()"
   ]
  },
  {
   "cell_type": "code",
   "execution_count": null,
   "id": "a958ef1f",
   "metadata": {},
   "outputs": [],
   "source": []
  }
 ],
 "metadata": {
  "kernelspec": {
   "display_name": "Python 3 (ipykernel)",
   "language": "python",
   "name": "python3"
  },
  "language_info": {
   "codemirror_mode": {
    "name": "ipython",
    "version": 3
   },
   "file_extension": ".py",
   "mimetype": "text/x-python",
   "name": "python",
   "nbconvert_exporter": "python",
   "pygments_lexer": "ipython3",
   "version": "3.8.13"
  }
 },
 "nbformat": 4,
 "nbformat_minor": 5
}
