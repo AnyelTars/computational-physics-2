{
 "cells": [
  {
   "cell_type": "markdown",
   "id": "0dd80023",
   "metadata": {},
   "source": [
    "# Crank Nicolson method\n",
    "\n",
    "### Heat equation: metal heated in the middle"
   ]
  },
  {
   "cell_type": "code",
   "execution_count": 1,
   "id": "a8229bf2",
   "metadata": {},
   "outputs": [],
   "source": [
    "import numpy as np\n",
    "import matplotlib.pyplot as plt"
   ]
  },
  {
   "cell_type": "code",
   "execution_count": 6,
   "id": "d684aa64",
   "metadata": {},
   "outputs": [
    {
     "name": "stdout",
     "output_type": "stream",
     "text": [
      "41\n"
     ]
    }
   ],
   "source": [
    "# Steps:\n",
    "\n",
    "h = 0.025\n",
    "k = 0.025\n",
    "\n",
    "# Time and Space Vectors\n",
    "x = np.arange(0, 1 + h, h)\n",
    "\n",
    "t = np.arange(0, 0.1 + k, k)\n",
    "\n",
    "print(len(x)) # Matrices should n-2 x n-2 = 39x39 "
   ]
  },
  {
   "cell_type": "code",
   "execution_count": 7,
   "id": "31593c0e",
   "metadata": {},
   "outputs": [],
   "source": [
    "# Boundary conditions\n",
    "\n",
    "bcs = [0, 0]\n",
    "\n",
    "# Initial conditions\n",
    "\n",
    "ics = np.sin(np.pi*x)\n"
   ]
  },
  {
   "cell_type": "code",
   "execution_count": 8,
   "id": "f9101148",
   "metadata": {},
   "outputs": [
    {
     "name": "stdout",
     "output_type": "stream",
     "text": [
      "(41, 5)\n"
     ]
    }
   ],
   "source": [
    "# Matrix for temperatures\n",
    "\n",
    "n = len(x)\n",
    "m = len(t)\n",
    "\n",
    "T = np.zeros((n,m))\n",
    "\n",
    "print(T.shape)"
   ]
  },
  {
   "cell_type": "code",
   "execution_count": 12,
   "id": "6513e62f",
   "metadata": {},
   "outputs": [],
   "source": [
    "# Add the bcs:\n",
    "\n",
    "T[0, :] = bcs[0]\n",
    "\n",
    "T[-1, :] = bcs[1]\n",
    "\n",
    "\n",
    "# Add the ics\n",
    "\n",
    "T[:, 0] = ics\n",
    "\n",
    "#print(T)"
   ]
  },
  {
   "cell_type": "code",
   "execution_count": 15,
   "id": "0269db52",
   "metadata": {},
   "outputs": [
    {
     "name": "stdout",
     "output_type": "stream",
     "text": [
      "39.99999999999999\n"
     ]
    }
   ],
   "source": [
    "c_2 = 1\n",
    "\n",
    "r_factor = c_2*k/h**2\n",
    "\n",
    "print(r_factor)"
   ]
  },
  {
   "cell_type": "markdown",
   "id": "2408a381",
   "metadata": {},
   "source": [
    "## First matrix:"
   ]
  },
  {
   "cell_type": "code",
   "execution_count": 19,
   "id": "2ebedf47",
   "metadata": {},
   "outputs": [
    {
     "name": "stdout",
     "output_type": "stream",
     "text": [
      "[[ 82. -40.   0. ...   0.   0.   0.]\n",
      " [-40.  82. -40. ...   0.   0.   0.]\n",
      " [  0. -40.  82. ...   0.   0.   0.]\n",
      " ...\n",
      " [  0.   0.   0. ...  82. -40.   0.]\n",
      " [  0.   0.   0. ... -40.  82. -40.]\n",
      " [  0.   0.   0. ...   0. -40.  82.]]\n",
      "(39, 39)\n"
     ]
    }
   ],
   "source": [
    "D1_matrix_0 = np.diag([2 + 2*r_factor]*(n - 2), 0)\n",
    "\n",
    "D1_matrix_n = np.diag([-r_factor]*(n - 3), -1)\n",
    "\n",
    "D1_matrix_p = np.diag([-r_factor]*(n - 3), +1)\n",
    "\n",
    "D1_matrix   = D1_matrix_0 + D1_matrix_n + D1_matrix_p\n",
    "\n",
    "print(D1_matrix)\n",
    "print(D1_matrix.shape)"
   ]
  },
  {
   "cell_type": "markdown",
   "id": "e4c4be2f",
   "metadata": {},
   "source": [
    "## Second matrix:"
   ]
  },
  {
   "cell_type": "code",
   "execution_count": 20,
   "id": "fe9ef36d",
   "metadata": {},
   "outputs": [
    {
     "name": "stdout",
     "output_type": "stream",
     "text": [
      "[[-78.  40.   0. ...   0.   0.   0.]\n",
      " [ 40. -78.  40. ...   0.   0.   0.]\n",
      " [  0.  40. -78. ...   0.   0.   0.]\n",
      " ...\n",
      " [  0.   0.   0. ... -78.  40.   0.]\n",
      " [  0.   0.   0. ...  40. -78.  40.]\n",
      " [  0.   0.   0. ...   0.  40. -78.]]\n",
      "(39, 39)\n"
     ]
    }
   ],
   "source": [
    "D2_matrix_0 = np.diag([2 - 2*r_factor]*(n - 2), 0)\n",
    "\n",
    "D2_matrix_n = np.diag([r_factor]*(n - 3), -1)\n",
    "\n",
    "D2_matrix_p = np.diag([r_factor]*(n - 3), +1)\n",
    "\n",
    "D2_matrix   = D2_matrix_0 + D2_matrix_n + D2_matrix_p\n",
    "\n",
    "print(D2_matrix)\n",
    "print(D2_matrix.shape)"
   ]
  },
  {
   "cell_type": "markdown",
   "id": "79db2c04",
   "metadata": {},
   "source": [
    "### The b vector, vector of known values"
   ]
  },
  {
   "cell_type": "code",
   "execution_count": 26,
   "id": "3fa6985a",
   "metadata": {},
   "outputs": [],
   "source": [
    "for j in range(0, m-1):\n",
    "    \n",
    "    b = T[1:-1, j].copy()\n",
    "    #print(b.shape)\n",
    "    #print(b)\n",
    "    \n",
    "    b = np.dot(D2_matrix, b)\n",
    "    \n",
    "    # Append missing values\n",
    "    \n",
    "    b[0]  = b[0]  + r_factor*(T[0, j+1] + T[0, j])\n",
    "    b[-1] = b[-1] + r_factor*(T[-1, j+1] + T[-1, j])\n",
    "    \n",
    "    "
   ]
  },
  {
   "cell_type": "code",
   "execution_count": null,
   "id": "dedeb0e4",
   "metadata": {},
   "outputs": [],
   "source": []
  }
 ],
 "metadata": {
  "kernelspec": {
   "display_name": "Python 3 (ipykernel)",
   "language": "python",
   "name": "python3"
  },
  "language_info": {
   "codemirror_mode": {
    "name": "ipython",
    "version": 3
   },
   "file_extension": ".py",
   "mimetype": "text/x-python",
   "name": "python",
   "nbconvert_exporter": "python",
   "pygments_lexer": "ipython3",
   "version": "3.8.13"
  }
 },
 "nbformat": 4,
 "nbformat_minor": 5
}
