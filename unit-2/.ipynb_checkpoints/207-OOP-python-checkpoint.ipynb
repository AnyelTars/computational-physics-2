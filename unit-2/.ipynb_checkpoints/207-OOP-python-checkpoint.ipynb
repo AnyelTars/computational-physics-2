{
 "cells": [
  {
   "cell_type": "markdown",
   "id": "afee3d17",
   "metadata": {},
   "source": [
    "# Object oriented programming (OOP) with Python\n",
    "\n",
    "## A. Public, Protected, Private Members\n",
    "\n",
    "Classical object-oriented languages, such as C++ and Java, control the access to class resources by public, private, and protected keywords.\n",
    "\n",
    "Private members of the class are denied access from the environment outside the class. They can be handled only from within the class.\n",
    "\n",
    "As we will see below, Python ONLY provides conceptual implementation of public, protected, and private access modifiers, but not like other languages like C#, Java, C++.\n",
    "\n",
    "\n",
    "\n",
    "#### Lecture reference: \n",
    "\n",
    "https://www.tutorialsteacher.com/python/public-private-protected-modifiers\n",
    "\n",
    "### Public Members\n",
    "Public members (generally methods declared in a class) are accessible from outside the class.\n",
    "\n",
    "The object of the same class is required to invoke a public method. This arrangement of private instance variables and public methods ensures the principle of data encapsulation.\n",
    "\n",
    "All members in a Python class are public by default. Any member can be accessed from outside the class environment."
   ]
  },
  {
   "cell_type": "code",
   "execution_count": 50,
   "id": "2981fc65",
   "metadata": {},
   "outputs": [],
   "source": [
    "class Student:\n",
    "    schoolName = 'Yachay Tech Unversity' # class attribute\n",
    "\n",
    "    def __init__(self, name, age):\n",
    "        self.name=name # instance attribute\n",
    "        self.age=age # instance attribute"
   ]
  },
  {
   "cell_type": "markdown",
   "id": "0f674316",
   "metadata": {},
   "source": [
    "You can access the Student class's attributes and also modify their values, as shown below."
   ]
  },
  {
   "cell_type": "code",
   "execution_count": 51,
   "id": "09ac56cc",
   "metadata": {},
   "outputs": [
    {
     "name": "stdout",
     "output_type": "stream",
     "text": [
      "Yachay Tech Unversity\n",
      "Ferenc\n"
     ]
    }
   ],
   "source": [
    "std = Student(\"Ferenc\", 22)\n",
    "\n",
    "print(std.schoolName)  #'XYZ School'\n",
    "print(std.name)  #'Steve'"
   ]
  },
  {
   "cell_type": "code",
   "execution_count": 54,
   "id": "11c2eb77",
   "metadata": {},
   "outputs": [
    {
     "name": "stdout",
     "output_type": "stream",
     "text": [
      "20\n"
     ]
    }
   ],
   "source": [
    "# Modify age value\n",
    "std.age = 20\n",
    "\n",
    "print(std.age)"
   ]
  },
  {
   "cell_type": "markdown",
   "id": "90acb572",
   "metadata": {},
   "source": [
    "## Protected Members\n",
    "Protected members of a class are accessible from within the class and are also available to its sub-classes.\n",
    "\n",
    "No other environment is permitted access to it. This enables specific resources of the parent class to be inherited by the child class.\n",
    "\n",
    "Python's convention to make an instance variable protected is to add a prefix _ (single underscore) to it. This effectively prevents it from being accessed unless it is from within a sub-class."
   ]
  },
  {
   "cell_type": "code",
   "execution_count": 55,
   "id": "d4f68521",
   "metadata": {},
   "outputs": [],
   "source": [
    "class Student:\n",
    "    \n",
    "    _schoolName = 'Yachay Tech Unversity' # protected class attribute\n",
    "    \n",
    "    def __init__(self, name, age):\n",
    "        \n",
    "        self._name=name  # protected instance attribute\n",
    "        \n",
    "        self._age=age # protected instance attribute"
   ]
  },
  {
   "cell_type": "markdown",
   "id": "09ec6e48",
   "metadata": {},
   "source": [
    "Note that this doesn't prevent instance variables from accessing or modifying the instance.\n",
    "\n",
    "You can still perform the following operations:"
   ]
  },
  {
   "cell_type": "code",
   "execution_count": 58,
   "id": "f7eacc6c",
   "metadata": {},
   "outputs": [
    {
     "name": "stdout",
     "output_type": "stream",
     "text": [
      "Ferenc\n",
      "Csenge\n"
     ]
    }
   ],
   "source": [
    "std = Student(\"Ferenc\", 25)\n",
    "print(std._name)  #'Ferenc'\n",
    "\n",
    "std._name = 'Csenge'\n",
    "print(std._name)  #'Csenge'"
   ]
  },
  {
   "cell_type": "markdown",
   "id": "9e30e4dc",
   "metadata": {},
   "source": [
    "However, you can define a property using property decorator and make it protected, as shown below."
   ]
  },
  {
   "cell_type": "code",
   "execution_count": 60,
   "id": "6caeb7a2",
   "metadata": {},
   "outputs": [],
   "source": [
    "class Student:\n",
    "    \n",
    "    def __init__(self,name):\n",
    "        self._name = name\n",
    "        \n",
    "    @property\n",
    "    def name(self):\n",
    "        return self._name\n",
    "    \n",
    "    @name.setter\n",
    "    def name(self,newname):\n",
    "        self._name = newname"
   ]
  },
  {
   "cell_type": "markdown",
   "id": "cb028269",
   "metadata": {},
   "source": [
    "Above:\n",
    "\n",
    "- @property decorator is used to make the name() method a property.\n",
    "\n",
    "- @name.setter decorator is used to overload the name() method as property setter method.\n",
    "\n",
    "Now, _name is protected."
   ]
  },
  {
   "cell_type": "code",
   "execution_count": 62,
   "id": "7234b5b3",
   "metadata": {},
   "outputs": [
    {
     "name": "stdout",
     "output_type": "stream",
     "text": [
      "Ferenc\n",
      "Ferenc\n",
      "Csenge\n",
      "Csenge\n"
     ]
    }
   ],
   "source": [
    "std = Student(\"Ferenc\")\n",
    "print(std.name)  #'Ferenc'\n",
    "print(std._name) #'Ferenc'\n",
    "\n",
    "std._name = 'Csenge'\n",
    "print(std.name)  #'Csenge'\n",
    "print(std._name) #'Csenge'"
   ]
  },
  {
   "cell_type": "markdown",
   "id": "4dcdae3d",
   "metadata": {},
   "source": [
    "Above, we used std.name property to modify _name attribute.\n",
    "\n",
    "However, it is still accessible in Python.\n",
    "\n",
    "Hence, the responsible programmer would refrain from accessing and modifying instance variables prefixed with _ from outside its class."
   ]
  },
  {
   "cell_type": "markdown",
   "id": "e5917893",
   "metadata": {},
   "source": [
    "## Private Members\n",
    "\n",
    "Python doesn't have any mechanism that effectively restricts access to any instance variable or method.\n",
    "\n",
    "Python prescribes a convention of prefixing the name of the variable/method with a single or double underscore to emulate the behavior of protected and private access specifiers.\n",
    "\n",
    "The double underscore __ prefixed to a variable makes it private.\n",
    "\n",
    "It gives a strong suggestion not to touch it from outside the class.\n",
    "\n",
    "Any attempt to do so will result in an **AttributeError:**"
   ]
  },
  {
   "cell_type": "code",
   "execution_count": 63,
   "id": "903579b1",
   "metadata": {},
   "outputs": [],
   "source": [
    "class Student:\n",
    "    \n",
    "    __schoolName = 'Yachay Tech Unversity' # private class attribute\n",
    "\n",
    "    def __init__(self, name, age):\n",
    "        \n",
    "        self.__name=name  # private instance attribute\n",
    "        self.__salary=age # private instance attribute\n",
    "        \n",
    "    def __display(self):  # private method\n",
    "        \n",
    "        print('This is private method.')"
   ]
  },
  {
   "cell_type": "code",
   "execution_count": 65,
   "id": "35a113f0",
   "metadata": {},
   "outputs": [],
   "source": [
    "std = Student(\"Ferenc\", 22)"
   ]
  },
  {
   "cell_type": "code",
   "execution_count": 66,
   "id": "4adc9526",
   "metadata": {},
   "outputs": [
    {
     "ename": "AttributeError",
     "evalue": "'Student' object has no attribute '__schoolName'",
     "output_type": "error",
     "traceback": [
      "\u001b[0;31m---------------------------------------------------------------------------\u001b[0m",
      "\u001b[0;31mAttributeError\u001b[0m                            Traceback (most recent call last)",
      "\u001b[0;32m/var/folders/sw/g1jmwgb9161cw02pzv6xtvjw0000gn/T/ipykernel_52578/1343085776.py\u001b[0m in \u001b[0;36m<module>\u001b[0;34m\u001b[0m\n\u001b[0;32m----> 1\u001b[0;31m \u001b[0mprint\u001b[0m\u001b[0;34m(\u001b[0m\u001b[0mstd\u001b[0m\u001b[0;34m.\u001b[0m\u001b[0m__schoolName\u001b[0m\u001b[0;34m)\u001b[0m \u001b[0;31m#AttributeError\u001b[0m\u001b[0;34m\u001b[0m\u001b[0;34m\u001b[0m\u001b[0m\n\u001b[0m\u001b[1;32m      2\u001b[0m \u001b[0mprint\u001b[0m\u001b[0;34m(\u001b[0m\u001b[0mstd\u001b[0m\u001b[0;34m.\u001b[0m\u001b[0m__name\u001b[0m\u001b[0;34m)\u001b[0m   \u001b[0;31m#AttributeError\u001b[0m\u001b[0;34m\u001b[0m\u001b[0;34m\u001b[0m\u001b[0m\n\u001b[1;32m      3\u001b[0m \u001b[0mprint\u001b[0m\u001b[0;34m(\u001b[0m\u001b[0mstd\u001b[0m\u001b[0;34m.\u001b[0m\u001b[0m__display\u001b[0m\u001b[0;34m(\u001b[0m\u001b[0;34m)\u001b[0m\u001b[0;34m)\u001b[0m  \u001b[0;31m#AttributeError\u001b[0m\u001b[0;34m\u001b[0m\u001b[0;34m\u001b[0m\u001b[0m\n",
      "\u001b[0;31mAttributeError\u001b[0m: 'Student' object has no attribute '__schoolName'"
     ]
    }
   ],
   "source": [
    "print(std.__schoolName) #AttributeError\n",
    "print(std.__name)   #AttributeError\n",
    "print(std.__display())  #AttributeError"
   ]
  },
  {
   "cell_type": "markdown",
   "id": "26f3c459",
   "metadata": {},
   "source": [
    "Python performs name mangling of private variables.\n",
    "\n",
    "Every member with a double underscore will be changed to _object._class__variable.\n",
    "\n",
    "So, it can still be accessed from outside the class, but the practice should be refrained."
   ]
  },
  {
   "cell_type": "code",
   "execution_count": 67,
   "id": "92e9d8bd",
   "metadata": {},
   "outputs": [
    {
     "name": "stdout",
     "output_type": "stream",
     "text": [
      "Bill\n"
     ]
    }
   ],
   "source": [
    "std = Student(\"Bill\", 25)\n",
    "\n",
    "print(std._Student__name)  #'Bill'"
   ]
  },
  {
   "cell_type": "code",
   "execution_count": 69,
   "id": "11ea7918",
   "metadata": {},
   "outputs": [
    {
     "name": "stdout",
     "output_type": "stream",
     "text": [
      "Helen\n",
      "This is private method.\n"
     ]
    }
   ],
   "source": [
    "std._Student__name = 'Helen'\n",
    "\n",
    "print(std._Student__name)  #'Steve'\n",
    "\n",
    "std._Student__display()  #'This is private method.'"
   ]
  },
  {
   "cell_type": "markdown",
   "id": "f447d6d9",
   "metadata": {},
   "source": [
    "##  B. Decorators in Python\n",
    "\n",
    "In programming, a **decorator** is a design pattern that adds additional responsibilities to an object dynamically.\n",
    "\n",
    "In Python, a function is the first-order object. Thus, a decorator in Python adds additional responsibilities or functionalities to a function dynamically without modifying a function.\n",
    "\n",
    "In Python, a function can be passed as an argument to another function. It is also possible to define a function inside another function, and a function can return another function.\n",
    "\n",
    "Therefore, a decorator in Python is a function that receives another function as an argument. The behavior of the argument function is extended by the decorator without actually modifying it. The decorator function can be applied over a function using the **@decorator** syntax.\n",
    "\n",
    "#### Step-by-step example on decorators:\n",
    "\n",
    "Consider that we have the greet() function, as shown below."
   ]
  },
  {
   "cell_type": "code",
   "execution_count": 83,
   "id": "dac935d0",
   "metadata": {},
   "outputs": [],
   "source": [
    "def greet():\n",
    "    \n",
    "    print('Hola, ', end='')"
   ]
  },
  {
   "cell_type": "markdown",
   "id": "2424b0f6",
   "metadata": {},
   "source": [
    "Now, we can extend the above function's functionality without modifying it by passing it to another function, as shown below."
   ]
  },
  {
   "cell_type": "code",
   "execution_count": 86,
   "id": "71da6ad8",
   "metadata": {},
   "outputs": [],
   "source": [
    "def mydecorator(fn):\n",
    "    \n",
    "    fn()\n",
    "    \n",
    "    print('clase de Fisica Computacional 2.')"
   ]
  },
  {
   "cell_type": "code",
   "execution_count": 92,
   "id": "42c0cb1d",
   "metadata": {},
   "outputs": [
    {
     "data": {
      "text/plain": [
       "<function __main__.mydecorator.<locals>.inner_function()>"
      ]
     },
     "execution_count": 92,
     "metadata": {},
     "output_type": "execute_result"
    }
   ],
   "source": [
    "# We pass greet as fn.\n",
    "\n",
    "mydecorator(greet)  #output"
   ]
  },
  {
   "cell_type": "markdown",
   "id": "4d71b6e4",
   "metadata": {},
   "source": [
    "Above, the **mydecorator()** function takes a function as an argument. It calls the argument function and also prints some additional text. Thus, it extends the functionality of the **greet()** function without modifying it. However, it is not the actual decorator.\n",
    "\n",
    "The **mydecorator()** is not a decorator in Python. The decorator in Python can be defined over any appropriate function using the **@decorator_function_name** syntax to extend the functionality of the underlying function.\n",
    "\n",
    "The following defines the decorator for the above greet() function."
   ]
  },
  {
   "cell_type": "code",
   "execution_count": 88,
   "id": "e5ac7810",
   "metadata": {},
   "outputs": [],
   "source": [
    "def mydecorator(fn):\n",
    "    \n",
    "    def inner_function():        \n",
    "        fn()\n",
    "        print('clase de Fisica Computacional 2.')\n",
    "        \n",
    "    return inner_function"
   ]
  },
  {
   "cell_type": "markdown",
   "id": "75b00b84",
   "metadata": {},
   "source": [
    "- The **mydecorator()** function is the decorator function that takes a function (any function that does not take any argument) as an argument.\n",
    "\n",
    "\n",
    "- The inner function **inner_function()** can access the outer function's argument, so it executes some code before or after to extend the functionality before calling the argument function.\n",
    "\n",
    "\n",
    "- The **mydecorator()**  function returns an inner function.\n",
    "\n",
    "Now, we can use mydecorator as a decorator to apply over a function that does not take any argument, as shown below."
   ]
  },
  {
   "cell_type": "code",
   "execution_count": 93,
   "id": "add57318",
   "metadata": {},
   "outputs": [],
   "source": [
    "@mydecorator\n",
    "def greet():\n",
    "    \n",
    "    print('Hola, ', end='')"
   ]
  },
  {
   "cell_type": "markdown",
   "id": "d973c076",
   "metadata": {},
   "source": [
    "Now, calling the above greet() function will give the following output."
   ]
  },
  {
   "cell_type": "code",
   "execution_count": 91,
   "id": "d55b64e0",
   "metadata": {},
   "outputs": [
    {
     "name": "stdout",
     "output_type": "stream",
     "text": [
      "Hola, clase de Fisica Computacional 2.\n"
     ]
    }
   ],
   "source": [
    "greet()  #output"
   ]
  },
  {
   "cell_type": "markdown",
   "id": "bfe25427",
   "metadata": {},
   "source": [
    "The mydecorator can be applied to any function that does not require any argument. For example:"
   ]
  },
  {
   "cell_type": "code",
   "execution_count": 96,
   "id": "b5b03f65",
   "metadata": {},
   "outputs": [],
   "source": [
    "@mydecorator\n",
    "def dosomething():\n",
    "    \n",
    "    print('Pueden usar decoradores para cualquier funcion, ', end='')"
   ]
  },
  {
   "cell_type": "code",
   "execution_count": 97,
   "id": "747d36ca",
   "metadata": {},
   "outputs": [
    {
     "name": "stdout",
     "output_type": "stream",
     "text": [
      "Pueden usar decoradores para cualquier funcion, clase de Fisica Computacional 2.\n"
     ]
    }
   ],
   "source": [
    "dosomething()  #output: I am doing something. How are you?"
   ]
  },
  {
   "cell_type": "markdown",
   "id": "139d2a57",
   "metadata": {},
   "source": [
    "The typical decorator function will look like below:\n",
    "\n",
    "\n",
    "```python\n",
    "def mydecoratorfunction(some_function): # decorator function\n",
    "    \n",
    "    def inner_function(): \n",
    "        # write code to extend the behavior of some_function()\n",
    "        some_function() # call some_function\n",
    "        # write code to extend the behavior of some_function()\n",
    "\n",
    "    return inner_function # return a wrapper function\n",
    "```"
   ]
  },
  {
   "cell_type": "markdown",
   "id": "fb4a5bcc",
   "metadata": {},
   "source": [
    "## C. Built-in Decorators\n",
    "\n",
    "\n",
    "Python library contains many built-in decorators as a shortcut of defining properties, class method, static methods, etc:"
   ]
  },
  {
   "cell_type": "markdown",
   "id": "8b569711",
   "metadata": {},
   "source": [
    "### @property\n",
    "\n",
    "Declares a method as a property's setter or getter methods.\n",
    "\n",
    "\n",
    "### @classmethod\n",
    "\n",
    "Declares a method as a class's method that can be called using the class name.\n",
    "\n",
    "### @staticmethod\n",
    "\n",
    "Declares a method as a static method."
   ]
  },
  {
   "cell_type": "markdown",
   "id": "db42bc11",
   "metadata": {},
   "source": [
    "### 1. Python Property Decorator - @property\n",
    "\n",
    "The @property decorator is a built-in decorator in Python for the property() function.\n",
    "\n",
    "Use @property decorator on any method in the class to use the method as a property.\n",
    "\n",
    "You can use the following three decorators to define a property:\n",
    "\n",
    "- @property: Declares the method as a property.\n",
    "\n",
    "- @<property-name>.setter: Specifies the setter method for a property that sets the value to a property.\n",
    "    \n",
    "- @<property-name>.deleter: Specifies the delete method as a property that deletes a property.\n",
    "\n",
    "#### Declare a Property\n",
    "    \n",
    "The following declares the method as a property. This method must return the value of the property."
   ]
  },
  {
   "cell_type": "code",
   "execution_count": 99,
   "id": "a63d3f91",
   "metadata": {},
   "outputs": [],
   "source": [
    "class Student:\n",
    "\n",
    "    def __init__(self, name):\n",
    "        self.__name = name\n",
    "\n",
    "    @property\n",
    "    def name(self):\n",
    "        return self.__name"
   ]
  },
  {
   "cell_type": "markdown",
   "id": "6d191763",
   "metadata": {},
   "source": [
    "Above, the **@property** decorator is applied to the **name()** method.\n",
    "\n",
    "The **name()** method returns the private instance attribute value __name.\n",
    "\n",
    "So, we can now use the **name()** method as a property to get the value of the __name attribute, as shown below."
   ]
  },
  {
   "cell_type": "code",
   "execution_count": 100,
   "id": "c90b2995",
   "metadata": {},
   "outputs": [
    {
     "name": "stdout",
     "output_type": "stream",
     "text": [
      "Csenge\n"
     ]
    }
   ],
   "source": [
    "s = Student('Csenge')\n",
    "\n",
    "print(s.name)  #'Csenge'"
   ]
  },
  {
   "cell_type": "code",
   "execution_count": 102,
   "id": "b7ecdc20",
   "metadata": {},
   "outputs": [
    {
     "ename": "AttributeError",
     "evalue": "can't set attribute",
     "output_type": "error",
     "traceback": [
      "\u001b[0;31m---------------------------------------------------------------------------\u001b[0m",
      "\u001b[0;31mAttributeError\u001b[0m                            Traceback (most recent call last)",
      "\u001b[0;32m/var/folders/sw/g1jmwgb9161cw02pzv6xtvjw0000gn/T/ipykernel_52578/1420991268.py\u001b[0m in \u001b[0;36m<module>\u001b[0;34m\u001b[0m\n\u001b[0;32m----> 1\u001b[0;31m \u001b[0ms\u001b[0m\u001b[0;34m.\u001b[0m\u001b[0mname\u001b[0m \u001b[0;34m=\u001b[0m \u001b[0;34m\"Philip\"\u001b[0m\u001b[0;34m\u001b[0m\u001b[0;34m\u001b[0m\u001b[0m\n\u001b[0m",
      "\u001b[0;31mAttributeError\u001b[0m: can't set attribute"
     ]
    }
   ],
   "source": [
    "s.name = \"Philip\""
   ]
  },
  {
   "cell_type": "markdown",
   "id": "3c57f7ea",
   "metadata": {},
   "source": [
    "#### Property Setter\n",
    "\n",
    "Above, we defined the **name()** method as a property.\n",
    "\n",
    "We can only access the value of the name property but cannot modify it.\n",
    "\n",
    "To modify the property value, we must define the setter method for the name property using @property-name.setter decorator, as shown below."
   ]
  },
  {
   "cell_type": "code",
   "execution_count": 103,
   "id": "fc2b986a",
   "metadata": {},
   "outputs": [],
   "source": [
    "class Student:\n",
    "    \n",
    "    def __init__(self, name):\n",
    "        self.__name=name\n",
    "\n",
    "    @property\n",
    "    def name(self):\n",
    "        return self.__name\n",
    "\n",
    "    @name.setter   #property-name.setter decorator\n",
    "    def name(self, value):\n",
    "        self.__name = value"
   ]
  },
  {
   "cell_type": "markdown",
   "id": "4bcb1efa",
   "metadata": {},
   "source": [
    "Above, we have two overloads of the **name()** method: one is for the getter and another is the setter method.\n",
    "\n",
    "The setter method must have the value argument that can be used to assign to the underlying private attribute.\n",
    "\n",
    "Now, we can retrieve and modify the property value, as shown below."
   ]
  },
  {
   "cell_type": "code",
   "execution_count": 104,
   "id": "7a5048f7",
   "metadata": {},
   "outputs": [
    {
     "name": "stdout",
     "output_type": "stream",
     "text": [
      "Csenge\n",
      "Philip\n"
     ]
    }
   ],
   "source": [
    "s = Student('Csenge')\n",
    "\n",
    "print(s.name)  #'Csenge'\n",
    "\n",
    "s.name = \"Philip\"\n",
    "\n",
    "print(s.name)  #'Philip'"
   ]
  },
  {
   "cell_type": "markdown",
   "id": "b567a150",
   "metadata": {},
   "source": [
    "#### Property Deleter\n",
    "\n",
    "Use the **@property-name.deleter** decorator to define the method that deletes a property, as shown below.\n",
    "\n",
    "The deleter would be invoked when you delete the property using keyword **del**.\n",
    "\n",
    "Once you delete a property, you cannot access it again using the same instance."
   ]
  },
  {
   "cell_type": "code",
   "execution_count": 105,
   "id": "cfc83878",
   "metadata": {},
   "outputs": [],
   "source": [
    "class Student:\n",
    "    def __init__(self, name):\n",
    "        self.__name = name\n",
    "\n",
    "    @property\n",
    "    def name(self):\n",
    "        return self.__name\n",
    "    \n",
    "    @name.setter\n",
    "    def name(self, value):\n",
    "        self.__name=value\n",
    "    \n",
    "    @name.deleter   #property-name.deleter decorator\n",
    "    def name(self):\n",
    "        print('Deleting..')\n",
    "        del self.__name"
   ]
  },
  {
   "cell_type": "code",
   "execution_count": 106,
   "id": "9e222c2b",
   "metadata": {},
   "outputs": [
    {
     "name": "stdout",
     "output_type": "stream",
     "text": [
      "Deleting..\n"
     ]
    },
    {
     "ename": "AttributeError",
     "evalue": "'Student' object has no attribute '_Student__name'",
     "output_type": "error",
     "traceback": [
      "\u001b[0;31m---------------------------------------------------------------------------\u001b[0m",
      "\u001b[0;31mAttributeError\u001b[0m                            Traceback (most recent call last)",
      "\u001b[0;32m/var/folders/sw/g1jmwgb9161cw02pzv6xtvjw0000gn/T/ipykernel_52578/3307513482.py\u001b[0m in \u001b[0;36m<module>\u001b[0;34m\u001b[0m\n\u001b[1;32m      3\u001b[0m \u001b[0;32mdel\u001b[0m \u001b[0mstd\u001b[0m\u001b[0;34m.\u001b[0m\u001b[0mname\u001b[0m\u001b[0;34m\u001b[0m\u001b[0;34m\u001b[0m\u001b[0m\n\u001b[1;32m      4\u001b[0m \u001b[0;34m\u001b[0m\u001b[0m\n\u001b[0;32m----> 5\u001b[0;31m \u001b[0mprint\u001b[0m\u001b[0;34m(\u001b[0m\u001b[0mstd\u001b[0m\u001b[0;34m.\u001b[0m\u001b[0mname\u001b[0m\u001b[0;34m)\u001b[0m  \u001b[0;31m#AttributeError\u001b[0m\u001b[0;34m\u001b[0m\u001b[0;34m\u001b[0m\u001b[0m\n\u001b[0m",
      "\u001b[0;32m/var/folders/sw/g1jmwgb9161cw02pzv6xtvjw0000gn/T/ipykernel_52578/1010179468.py\u001b[0m in \u001b[0;36mname\u001b[0;34m(self)\u001b[0m\n\u001b[1;32m      5\u001b[0m     \u001b[0;34m@\u001b[0m\u001b[0mproperty\u001b[0m\u001b[0;34m\u001b[0m\u001b[0;34m\u001b[0m\u001b[0m\n\u001b[1;32m      6\u001b[0m     \u001b[0;32mdef\u001b[0m \u001b[0mname\u001b[0m\u001b[0;34m(\u001b[0m\u001b[0mself\u001b[0m\u001b[0;34m)\u001b[0m\u001b[0;34m:\u001b[0m\u001b[0;34m\u001b[0m\u001b[0;34m\u001b[0m\u001b[0m\n\u001b[0;32m----> 7\u001b[0;31m         \u001b[0;32mreturn\u001b[0m \u001b[0mself\u001b[0m\u001b[0;34m.\u001b[0m\u001b[0m__name\u001b[0m\u001b[0;34m\u001b[0m\u001b[0;34m\u001b[0m\u001b[0m\n\u001b[0m\u001b[1;32m      8\u001b[0m \u001b[0;34m\u001b[0m\u001b[0m\n\u001b[1;32m      9\u001b[0m     \u001b[0;34m@\u001b[0m\u001b[0mname\u001b[0m\u001b[0;34m.\u001b[0m\u001b[0msetter\u001b[0m\u001b[0;34m\u001b[0m\u001b[0;34m\u001b[0m\u001b[0m\n",
      "\u001b[0;31mAttributeError\u001b[0m: 'Student' object has no attribute '_Student__name'"
     ]
    }
   ],
   "source": [
    "std = Student('Steve')\n",
    "\n",
    "del std.name\n",
    "\n",
    "print(std.name)  #AttributeError"
   ]
  },
  {
   "cell_type": "markdown",
   "id": "544918f4",
   "metadata": {},
   "source": [
    "### 2. Python Class Method Decorator @classmethod\n",
    "\n",
    "In Python, the **@classmethod** decorator is used to declare a method in the class as a class method that can be called using **ClassName.MethodName()**.\n",
    "\n",
    "The class method can also be called using an object of the class.\n",
    "\n",
    "The **@classmethod** is an alternative of the classmethod() function.\n",
    "\n",
    "It is recommended to use the **@classmethod** decorator instead of the function because it simplifies the syntax.\n",
    "\n",
    "### @classmethod characteristics:\n",
    "\n",
    "- Declares a class method.\n",
    "\n",
    "- The first parameter must be **cls**, which can be used to access class attributes.\n",
    "\n",
    "- The class method can only access the class attributes but **not** the instance attributes.\n",
    "\n",
    "- The class method can be called using **ClassName.MethodName()** and also using object.\n",
    "\n",
    "- It can return an object of the class.\n",
    "\n",
    "The following example declares a class method."
   ]
  },
  {
   "cell_type": "code",
   "execution_count": 109,
   "id": "f73e940e",
   "metadata": {},
   "outputs": [],
   "source": [
    "class Student:\n",
    "    \n",
    "    name = 'unknown' # class attribute\n",
    "    \n",
    "    def __init__(self):\n",
    "        \n",
    "        self.age = 20  # instance attribute\n",
    "\n",
    "    @classmethod\n",
    "    def tostring(cls):\n",
    "        \n",
    "        print('Student Class Attributes: name=', cls.name)"
   ]
  },
  {
   "cell_type": "code",
   "execution_count": 108,
   "id": "cbf69b4d",
   "metadata": {},
   "outputs": [
    {
     "name": "stdout",
     "output_type": "stream",
     "text": [
      "Student Class Attributes: name= unknown\n"
     ]
    }
   ],
   "source": [
    "Student.tostring()  #Student Class Attributes: name=unknown"
   ]
  },
  {
   "cell_type": "markdown",
   "id": "0fda688d",
   "metadata": {},
   "source": [
    "Above, the Student class contains a class attribute name and an instance attribute age.\n",
    "\n",
    "The **tostring()** method is decorated with the **@classmethod** decorator that makes it a class method, which can be called using the **Student.tostring()**.\n",
    "\n",
    "You can call the class method as **classname.method()** or using class object **object.method()**.\n",
    "\n",
    "#### Note: The first parameter of any class method must be cls that can be used to access the class's attributes. You can give any name to the first parameter instead of cls.\n",
    "\n",
    "The class method can only access class attributes, but not the instance attributes. It will raise an error if trying to access the instance attribute in the class method."
   ]
  },
  {
   "cell_type": "code",
   "execution_count": 110,
   "id": "64813a06",
   "metadata": {},
   "outputs": [],
   "source": [
    "class Student:\n",
    "    name = 'unknown' # class attribute\n",
    "    def __init__(self):\n",
    "        self.age = 20  # instance attribute\n",
    "\n",
    "    @classmethod\n",
    "    def tostring(cls):\n",
    "        print('Student Class Attributes: name=',cls.name,', age=', cls.age)"
   ]
  },
  {
   "cell_type": "code",
   "execution_count": 111,
   "id": "ae6efefb",
   "metadata": {},
   "outputs": [
    {
     "ename": "AttributeError",
     "evalue": "type object 'Student' has no attribute 'age'",
     "output_type": "error",
     "traceback": [
      "\u001b[0;31m---------------------------------------------------------------------------\u001b[0m",
      "\u001b[0;31mAttributeError\u001b[0m                            Traceback (most recent call last)",
      "\u001b[0;32m/var/folders/sw/g1jmwgb9161cw02pzv6xtvjw0000gn/T/ipykernel_52578/205799273.py\u001b[0m in \u001b[0;36m<module>\u001b[0;34m\u001b[0m\n\u001b[0;32m----> 1\u001b[0;31m \u001b[0mStudent\u001b[0m\u001b[0;34m.\u001b[0m\u001b[0mtostring\u001b[0m\u001b[0;34m(\u001b[0m\u001b[0;34m)\u001b[0m \u001b[0;31m#calling class method\u001b[0m\u001b[0;34m\u001b[0m\u001b[0;34m\u001b[0m\u001b[0m\n\u001b[0m",
      "\u001b[0;32m/var/folders/sw/g1jmwgb9161cw02pzv6xtvjw0000gn/T/ipykernel_52578/450036791.py\u001b[0m in \u001b[0;36mtostring\u001b[0;34m(cls)\u001b[0m\n\u001b[1;32m      6\u001b[0m     \u001b[0;34m@\u001b[0m\u001b[0mclassmethod\u001b[0m\u001b[0;34m\u001b[0m\u001b[0;34m\u001b[0m\u001b[0m\n\u001b[1;32m      7\u001b[0m     \u001b[0;32mdef\u001b[0m \u001b[0mtostring\u001b[0m\u001b[0;34m(\u001b[0m\u001b[0mcls\u001b[0m\u001b[0;34m)\u001b[0m\u001b[0;34m:\u001b[0m\u001b[0;34m\u001b[0m\u001b[0;34m\u001b[0m\u001b[0m\n\u001b[0;32m----> 8\u001b[0;31m         \u001b[0mprint\u001b[0m\u001b[0;34m(\u001b[0m\u001b[0;34m'Student Class Attributes: name='\u001b[0m\u001b[0;34m,\u001b[0m\u001b[0mcls\u001b[0m\u001b[0;34m.\u001b[0m\u001b[0mname\u001b[0m\u001b[0;34m,\u001b[0m\u001b[0;34m', age='\u001b[0m\u001b[0;34m,\u001b[0m \u001b[0mcls\u001b[0m\u001b[0;34m.\u001b[0m\u001b[0mage\u001b[0m\u001b[0;34m)\u001b[0m\u001b[0;34m\u001b[0m\u001b[0;34m\u001b[0m\u001b[0m\n\u001b[0m",
      "\u001b[0;31mAttributeError\u001b[0m: type object 'Student' has no attribute 'age'"
     ]
    }
   ],
   "source": [
    "Student.tostring() #calling class method"
   ]
  },
  {
   "cell_type": "markdown",
   "id": "f389f5dd",
   "metadata": {},
   "source": [
    "The class method can also be used as a factory method to get an object of the class, as shown below."
   ]
  },
  {
   "cell_type": "code",
   "execution_count": 112,
   "id": "63e8b68e",
   "metadata": {},
   "outputs": [],
   "source": [
    "class Student:\n",
    "    def __init__(self, name, age):\n",
    "        self.name = name  # instance attribute\n",
    "        self.age = age # instance attribute\n",
    "\n",
    "    @classmethod\n",
    "    def getobject(cls):\n",
    "        return cls('Steve', 25)"
   ]
  },
  {
   "cell_type": "code",
   "execution_count": 113,
   "id": "806a41f3",
   "metadata": {},
   "outputs": [
    {
     "name": "stdout",
     "output_type": "stream",
     "text": [
      "Steve\n",
      "25\n"
     ]
    }
   ],
   "source": [
    "std = Student.getobject()\n",
    "\n",
    "print(std.name)  #'Steve'    \n",
    "print(std.age)   #25"
   ]
  },
  {
   "cell_type": "markdown",
   "id": "783bd285",
   "metadata": {},
   "source": [
    "### 3. Static Method using @staticmethod Decorator in Python\n",
    "\n",
    "The @staticmethod is a built-in decorator that defines a static method in the class in Python. A static method doesn't receive any reference argument whether it is called by an instance of a class or by the class itself.\n",
    "\n",
    "#### @staticmethod characteristics\n",
    "\n",
    "- Declares a static method in the class.\n",
    "- It **cannot** have **cls** or **self** parameter.\n",
    "- The static method cannot access the class attributes or the instance attributes.\n",
    "- The static method can be called using **ClassName.MethodName()** and also using **object.MethodName()**.\n",
    "- It can return an object of the class.\n",
    "\n",
    "\n",
    "The following example demonstrates how to define a static method in the class:"
   ]
  },
  {
   "cell_type": "code",
   "execution_count": 116,
   "id": "fa188413",
   "metadata": {},
   "outputs": [],
   "source": [
    "class Student:\n",
    "    name = 'unknown' # class attribute\n",
    "    \n",
    "    def __init__(self):\n",
    "        self.age = 20  # instance attribute\n",
    "\n",
    "    @staticmethod\n",
    "    def tostring():\n",
    "        print('YT Student Class')"
   ]
  },
  {
   "cell_type": "markdown",
   "id": "a47f4416",
   "metadata": {},
   "source": [
    "Above, the **Student** class declares the **tostring()** method as a static method using the **@staticmethod** decorator. Note that it cannot have **self** or **cls** parameter.\n",
    "\n",
    "The static method can be called using the **ClassName.MethodName()** or **object.MethodName()**, as shown below."
   ]
  },
  {
   "cell_type": "code",
   "execution_count": 118,
   "id": "7016bc2f",
   "metadata": {},
   "outputs": [
    {
     "name": "stdout",
     "output_type": "stream",
     "text": [
      "YT Student Class\n",
      "YT Student Class\n",
      "YT Student Class\n"
     ]
    }
   ],
   "source": [
    "#calling static method    \n",
    "Student.tostring()   #'YT Student Class'\n",
    "Student().tostring() #'YT Student Class'\n",
    "\n",
    "std = Student()\n",
    "std.tostring()     #'YT Student Class'"
   ]
  },
  {
   "cell_type": "markdown",
   "id": "98fd5dfb",
   "metadata": {},
   "source": [
    "The static method cannot access the class attributes or instance attributes. It will raise an error if try to do so."
   ]
  },
  {
   "cell_type": "code",
   "execution_count": 119,
   "id": "8c33d366",
   "metadata": {},
   "outputs": [],
   "source": [
    "class Student:\n",
    "    name = 'unknown' # class attribute\n",
    "    \n",
    "    def __init__(self):\n",
    "        self.age = 20  # instance attribute\n",
    "\n",
    "    @staticmethod\n",
    "    def tostring():\n",
    "        print('name=',name,'age=',self.age)\n",
    "\n"
   ]
  },
  {
   "cell_type": "code",
   "execution_count": 120,
   "id": "deff1e36",
   "metadata": {},
   "outputs": [
    {
     "ename": "NameError",
     "evalue": "name 'name' is not defined",
     "output_type": "error",
     "traceback": [
      "\u001b[0;31m---------------------------------------------------------------------------\u001b[0m",
      "\u001b[0;31mNameError\u001b[0m                                 Traceback (most recent call last)",
      "\u001b[0;32m/var/folders/sw/g1jmwgb9161cw02pzv6xtvjw0000gn/T/ipykernel_52578/1467382380.py\u001b[0m in \u001b[0;36m<module>\u001b[0;34m\u001b[0m\n\u001b[0;32m----> 1\u001b[0;31m \u001b[0mStudent\u001b[0m\u001b[0;34m.\u001b[0m\u001b[0mtostring\u001b[0m\u001b[0;34m(\u001b[0m\u001b[0;34m)\u001b[0m   \u001b[0;31m#error\u001b[0m\u001b[0;34m\u001b[0m\u001b[0;34m\u001b[0m\u001b[0m\n\u001b[0m",
      "\u001b[0;32m/var/folders/sw/g1jmwgb9161cw02pzv6xtvjw0000gn/T/ipykernel_52578/1654509982.py\u001b[0m in \u001b[0;36mtostring\u001b[0;34m()\u001b[0m\n\u001b[1;32m      7\u001b[0m     \u001b[0;34m@\u001b[0m\u001b[0mstaticmethod\u001b[0m\u001b[0;34m\u001b[0m\u001b[0;34m\u001b[0m\u001b[0m\n\u001b[1;32m      8\u001b[0m     \u001b[0;32mdef\u001b[0m \u001b[0mtostring\u001b[0m\u001b[0;34m(\u001b[0m\u001b[0;34m)\u001b[0m\u001b[0;34m:\u001b[0m\u001b[0;34m\u001b[0m\u001b[0;34m\u001b[0m\u001b[0m\n\u001b[0;32m----> 9\u001b[0;31m         \u001b[0mprint\u001b[0m\u001b[0;34m(\u001b[0m\u001b[0;34m'name='\u001b[0m\u001b[0;34m,\u001b[0m\u001b[0mname\u001b[0m\u001b[0;34m,\u001b[0m\u001b[0;34m'age='\u001b[0m\u001b[0;34m,\u001b[0m\u001b[0mself\u001b[0m\u001b[0;34m.\u001b[0m\u001b[0mage\u001b[0m\u001b[0;34m)\u001b[0m\u001b[0;34m\u001b[0m\u001b[0;34m\u001b[0m\u001b[0m\n\u001b[0m\u001b[1;32m     10\u001b[0m \u001b[0;34m\u001b[0m\u001b[0m\n",
      "\u001b[0;31mNameError\u001b[0m: name 'name' is not defined"
     ]
    }
   ],
   "source": [
    "\n",
    "Student.tostring()   #error"
   ]
  },
  {
   "cell_type": "markdown",
   "id": "d01eeb53",
   "metadata": {},
   "source": [
    "### @classmethod vs @staticmethod\n",
    "\n",
    "The following table lists the difference between the class method and the static method:\n",
    "\n",
    "#### @classmethod\n",
    "\n",
    "- Declares a class method.\t\n",
    "- It can access class attributes, but not the instance attributes.\t\n",
    "\n",
    "- It can be called using the ClassName.MethodName() or object.MethodName().\t\n",
    "\n",
    "- It can be used to declare a factory method that returns objects of the class.\t\n",
    "\n",
    "#### @staticmethod\n",
    "- Declares a static method.\n",
    "\n",
    "- It cannot access either class attributes or instance attributes.\n",
    "\n",
    "- It can be called using the ClassName.MethodName() or object.MethodName().\n",
    "\n",
    "- It cannot return an object of the class."
   ]
  },
  {
   "cell_type": "code",
   "execution_count": null,
   "id": "46043f1b",
   "metadata": {},
   "outputs": [],
   "source": []
  }
 ],
 "metadata": {
  "kernelspec": {
   "display_name": "Python 3 (ipykernel)",
   "language": "python",
   "name": "python3"
  },
  "language_info": {
   "codemirror_mode": {
    "name": "ipython",
    "version": 3
   },
   "file_extension": ".py",
   "mimetype": "text/x-python",
   "name": "python",
   "nbconvert_exporter": "python",
   "pygments_lexer": "ipython3",
   "version": "3.7.16"
  }
 },
 "nbformat": 4,
 "nbformat_minor": 5
}
