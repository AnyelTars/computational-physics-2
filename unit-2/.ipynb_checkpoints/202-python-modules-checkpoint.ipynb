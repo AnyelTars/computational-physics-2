{
 "cells": [
  {
   "cell_type": "markdown",
   "id": "b67b8d61",
   "metadata": {},
   "source": [
    "# Python Scopes and Modules\n",
    "\n",
    "## Python Scopes:\n",
    "\n",
    "Scopes are environments within which variables are defined.\n",
    "\n",
    "- A variable is only available from inside the region where it is created.\n",
    "\n",
    "We have two types:\n",
    "\n",
    "\n",
    "## 1. Local scope:\n",
    "\n",
    "A variable created inside a function belongs to the local scope of that function, and can only be used inside that function.\n"
   ]
  },
  {
   "cell_type": "code",
   "execution_count": 1,
   "id": "fe7f5f2f",
   "metadata": {},
   "outputs": [],
   "source": [
    "# Example\n",
    "\n",
    "def function_example():\n",
    "    # a is defined as a local variable/scope\n",
    "    a = \"computational physics II\"\n",
    "    print(a)"
   ]
  },
  {
   "cell_type": "code",
   "execution_count": 2,
   "id": "5084f14c",
   "metadata": {},
   "outputs": [
    {
     "name": "stdout",
     "output_type": "stream",
     "text": [
      "computational physics II\n"
     ]
    }
   ],
   "source": [
    "# Call the funtion\n",
    "\n",
    "function_example()\n",
    "\n",
    "#print(a) # produces an error"
   ]
  },
  {
   "cell_type": "code",
   "execution_count": 3,
   "id": "083dd690",
   "metadata": {},
   "outputs": [],
   "source": [
    "# 2nd Example\n",
    "\n",
    "def function_example():\n",
    "    # a is defined as a local variable/scope\n",
    "    a = \"computational physics II\"\n",
    "    def function_example2():\n",
    "        print(a)\n",
    "    function_example2()"
   ]
  },
  {
   "cell_type": "code",
   "execution_count": 4,
   "id": "9300855f",
   "metadata": {},
   "outputs": [
    {
     "name": "stdout",
     "output_type": "stream",
     "text": [
      "computational physics II\n"
     ]
    }
   ],
   "source": [
    "function_example()"
   ]
  },
  {
   "cell_type": "code",
   "execution_count": 5,
   "id": "bd080164",
   "metadata": {},
   "outputs": [],
   "source": [
    "# 3rd Example\n",
    "\n",
    "def function_example():\n",
    "    def function_example2():\n",
    "        # a is defined as a local variable/scope\n",
    "        a = \"computational physics II\"\n",
    "        print(a)\n",
    "    function_example2()"
   ]
  },
  {
   "cell_type": "code",
   "execution_count": 6,
   "id": "a6f0b519",
   "metadata": {},
   "outputs": [
    {
     "name": "stdout",
     "output_type": "stream",
     "text": [
      "computational physics II\n"
     ]
    }
   ],
   "source": [
    "function_example()"
   ]
  },
  {
   "cell_type": "code",
   "execution_count": 7,
   "id": "4edb19e1",
   "metadata": {},
   "outputs": [],
   "source": [
    "#print(a)"
   ]
  },
  {
   "cell_type": "markdown",
   "id": "84d90400",
   "metadata": {},
   "source": [
    "## 2. Global scope:\n",
    "\n",
    "A variable created in the main body of the Python code is a global variable and belongs to the global scope.\n",
    "\n",
    "Global variables are available from within any scope, global and local."
   ]
  },
  {
   "cell_type": "code",
   "execution_count": 8,
   "id": "23311be4",
   "metadata": {},
   "outputs": [],
   "source": [
    "# a is defined as a global variable/scope\n",
    "a = \"computational physics II\""
   ]
  },
  {
   "cell_type": "code",
   "execution_count": 9,
   "id": "16c2f6b5",
   "metadata": {},
   "outputs": [],
   "source": [
    "# 4th Example\n",
    "\n",
    "def function_example():\n",
    "    def function_example2():\n",
    "        print(a)\n",
    "    function_example2()"
   ]
  },
  {
   "cell_type": "code",
   "execution_count": 10,
   "id": "e3ad0528",
   "metadata": {},
   "outputs": [
    {
     "name": "stdout",
     "output_type": "stream",
     "text": [
      "computational physics II\n"
     ]
    }
   ],
   "source": [
    "function_example()"
   ]
  },
  {
   "cell_type": "code",
   "execution_count": 11,
   "id": "ac6d7174",
   "metadata": {},
   "outputs": [
    {
     "name": "stdout",
     "output_type": "stream",
     "text": [
      "computational physics II\n"
     ]
    }
   ],
   "source": [
    "print(a)"
   ]
  },
  {
   "cell_type": "code",
   "execution_count": 12,
   "id": "a3016856",
   "metadata": {},
   "outputs": [],
   "source": [
    "# Free the memory/remove the variable\n",
    "del(a)"
   ]
  },
  {
   "cell_type": "code",
   "execution_count": 13,
   "id": "edde5fe8",
   "metadata": {},
   "outputs": [],
   "source": [
    "#print(a) # prints an error"
   ]
  },
  {
   "cell_type": "markdown",
   "id": "be040fd9",
   "metadata": {},
   "source": [
    "## Hierarchy:"
   ]
  },
  {
   "cell_type": "code",
   "execution_count": 14,
   "id": "ed040b8f",
   "metadata": {},
   "outputs": [],
   "source": [
    "# Global vriable\n",
    "\n",
    "a = \"physics\"\n",
    "\n",
    "def function_example3():\n",
    "    a = \"biology\"\n",
    "    print(a)"
   ]
  },
  {
   "cell_type": "code",
   "execution_count": 15,
   "id": "4d399e37",
   "metadata": {},
   "outputs": [
    {
     "name": "stdout",
     "output_type": "stream",
     "text": [
      "biology\n"
     ]
    }
   ],
   "source": [
    "function_example3()"
   ]
  },
  {
   "cell_type": "code",
   "execution_count": 16,
   "id": "281a075a",
   "metadata": {},
   "outputs": [
    {
     "name": "stdout",
     "output_type": "stream",
     "text": [
      "physics\n"
     ]
    }
   ],
   "source": [
    "print(a)"
   ]
  },
  {
   "cell_type": "markdown",
   "id": "2c717781",
   "metadata": {},
   "source": [
    "### Creating global variable from a local scope:\n",
    "\n",
    "\n",
    "We use **global** (local -> global)"
   ]
  },
  {
   "cell_type": "code",
   "execution_count": 17,
   "id": "f19988f1",
   "metadata": {},
   "outputs": [],
   "source": [
    "# Example\n",
    "\n",
    "a = \"physics\"\n",
    "\n",
    "def function_example4():\n",
    "    # We use the keyword global\n",
    "    \n",
    "    global a\n",
    "    a = \"biology\"\n",
    "    print(a)\n",
    "    "
   ]
  },
  {
   "cell_type": "code",
   "execution_count": 18,
   "id": "5e0a2e56",
   "metadata": {},
   "outputs": [
    {
     "name": "stdout",
     "output_type": "stream",
     "text": [
      "physics\n"
     ]
    }
   ],
   "source": [
    "# Print the global variable \n",
    "print(a)"
   ]
  },
  {
   "cell_type": "code",
   "execution_count": 19,
   "id": "f150dfb6",
   "metadata": {},
   "outputs": [
    {
     "name": "stdout",
     "output_type": "stream",
     "text": [
      "biology\n"
     ]
    }
   ],
   "source": [
    "# Print function output\n",
    "function_example4()"
   ]
  },
  {
   "cell_type": "code",
   "execution_count": 20,
   "id": "d4420cff",
   "metadata": {},
   "outputs": [
    {
     "name": "stdout",
     "output_type": "stream",
     "text": [
      "biology\n"
     ]
    }
   ],
   "source": [
    "# Print the global variable \n",
    "print(a)"
   ]
  },
  {
   "cell_type": "markdown",
   "id": "475ce268",
   "metadata": {},
   "source": [
    "## What is stored in memory?"
   ]
  },
  {
   "cell_type": "code",
   "execution_count": 21,
   "id": "cc0d56ae",
   "metadata": {
    "scrolled": false
   },
   "outputs": [],
   "source": [
    "# View all the variables, methods that are being used in memory\n",
    "#globals()"
   ]
  },
  {
   "cell_type": "code",
   "execution_count": 22,
   "id": "946d59c6",
   "metadata": {
    "scrolled": false
   },
   "outputs": [],
   "source": [
    "#locals()"
   ]
  },
  {
   "cell_type": "code",
   "execution_count": 23,
   "id": "b43fc902",
   "metadata": {},
   "outputs": [
    {
     "name": "stdout",
     "output_type": "stream",
     "text": [
      "Variable            Type        Data/Info\n",
      "-----------------------------------------\n",
      "a                   str         biology\n",
      "function_example    function    <function function_example at 0x7fda79090b00>\n",
      "function_example3   function    <function function_example3 at 0x7fda79087c20>\n",
      "function_example4   function    <function function_example4 at 0x7fda790a28c0>\n"
     ]
    }
   ],
   "source": [
    "# Names of variables:\n",
    "\n",
    "%whos"
   ]
  },
  {
   "cell_type": "code",
   "execution_count": 24,
   "id": "aecf5ae1",
   "metadata": {},
   "outputs": [
    {
     "name": "stdout",
     "output_type": "stream",
     "text": [
      "biology\n"
     ]
    }
   ],
   "source": [
    "print(a)"
   ]
  },
  {
   "cell_type": "code",
   "execution_count": 25,
   "id": "0bd1d4b6",
   "metadata": {},
   "outputs": [],
   "source": [
    "del(a)"
   ]
  },
  {
   "cell_type": "code",
   "execution_count": 26,
   "id": "76474c4a",
   "metadata": {},
   "outputs": [
    {
     "name": "stdout",
     "output_type": "stream",
     "text": [
      "Variable            Type        Data/Info\n",
      "-----------------------------------------\n",
      "function_example    function    <function function_example at 0x7fda79090b00>\n",
      "function_example3   function    <function function_example3 at 0x7fda79087c20>\n",
      "function_example4   function    <function function_example4 at 0x7fda790a28c0>\n"
     ]
    }
   ],
   "source": [
    "# Names of variables:\n",
    "\n",
    "%whos"
   ]
  },
  {
   "cell_type": "markdown",
   "id": "938aeb59",
   "metadata": {},
   "source": [
    "## Python Modules:\n",
    "\n",
    "- A module is a code library.\n",
    "\n",
    "\n",
    "- It is a file with .py extension\n",
    "\n",
    "\n",
    "- It contains a set of classes/functions.\n",
    "\n",
    "#### Reference:\n",
    "\n",
    "https://sbu-python-class.github.io/python-science/01-python/w4-python-modules.html\n"
   ]
  },
  {
   "cell_type": "markdown",
   "id": "1d7c631e",
   "metadata": {},
   "source": [
    "## Creating/Viewing modules\n",
    "To create a module, save or edit python code in a file with the file extension **.py**:"
   ]
  },
  {
   "cell_type": "code",
   "execution_count": 28,
   "id": "fee6a010",
   "metadata": {},
   "outputs": [
    {
     "name": "stdout",
     "output_type": "stream",
     "text": [
      "# Define a basic python function\r\n",
      "\r\n",
      "def print_message(msg):\r\n",
      "    \"\"\"\r\n",
      "    Function to print a message(msg).\r\n",
      "    \"\"\"\r\n",
      "    print(\"Hola, \" + msg)\r\n"
     ]
    }
   ],
   "source": [
    "!cat ./first_module.py"
   ]
  },
  {
   "cell_type": "markdown",
   "id": "c0221f95",
   "metadata": {},
   "source": [
    "## Using modules\n",
    "\n",
    "We can use these modules using the **import** statement.\n",
    "\n",
    "Module can contain functions and/or variables of all types (arrays, dictionaries, objects etc)."
   ]
  },
  {
   "cell_type": "code",
   "execution_count": 31,
   "id": "c56b871c",
   "metadata": {},
   "outputs": [],
   "source": [
    "# We import our module\n",
    "import first_module "
   ]
  },
  {
   "cell_type": "code",
   "execution_count": 32,
   "id": "50dbcd3c",
   "metadata": {},
   "outputs": [
    {
     "name": "stdout",
     "output_type": "stream",
     "text": [
      "Hola, Clase de Fisica Computacional II.\n"
     ]
    }
   ],
   "source": [
    "# We use it defining a str\n",
    "\n",
    "first_module.print_message(\"Clase de Fisica Computacional II.\")"
   ]
  },
  {
   "cell_type": "markdown",
   "id": "9c2a8349",
   "metadata": {},
   "source": [
    "### Script Example:\n",
    "\n",
    "\n"
   ]
  },
  {
   "cell_type": "code",
   "execution_count": 33,
   "id": "b123d42c",
   "metadata": {},
   "outputs": [],
   "source": [
    "import myprofile"
   ]
  },
  {
   "cell_type": "code",
   "execution_count": null,
   "id": "8ac55c93",
   "metadata": {},
   "outputs": [],
   "source": [
    "help(myprofile)"
   ]
  },
  {
   "cell_type": "markdown",
   "id": "40c1f43b",
   "metadata": {},
   "source": [
    "This module simply provides a way to time routines (python and ipython have built-in methods for this too)"
   ]
  },
  {
   "cell_type": "code",
   "execution_count": null,
   "id": "a093bd2b",
   "metadata": {},
   "outputs": [],
   "source": [
    "t = myprofile.Timer(\"main loop\")\n",
    "t.begin()\n",
    "\n",
    "# Your own code\n",
    "sum = 0.0\n",
    "for n in range(10000):\n",
    "    sum += n**2\n",
    "\n",
    "\n",
    "t.end()\n",
    "myprofile.time_report()\n",
    "\n",
    "print(sum)"
   ]
  },
  {
   "cell_type": "markdown",
   "id": "c2b8f261",
   "metadata": {},
   "source": [
    "### Running scripts:\n",
    "\n",
    "1. python myprofile.py\n",
    "\n",
    "\n",
    "2. %run myprofile"
   ]
  },
  {
   "cell_type": "code",
   "execution_count": null,
   "id": "aa3b675f",
   "metadata": {},
   "outputs": [],
   "source": [
    "%run myprofile"
   ]
  },
  {
   "cell_type": "markdown",
   "id": "fabf664b",
   "metadata": {},
   "source": [
    "# Exceptions\n",
    "\n",
    "There are a lot of different types of exceptions that you can catch, and you can catch multiple ones per except clause or have multiple except clauses.\n",
    "\n",
    "You probably won't be able to anticipate every failure mode in advance.  In that case, when you run and your code crashes because of an exception, the python interpreter will print out the name of the exception and you can then modify your code to take the appropriate action.\n",
    "\n",
    "Python raises exceptions when it encounters an error.  The idea is that you can trap these exceptions and take an appropriate action instead of causing the code to crash.  The mechanism for this is `try` / `except`.  Here's an example that causes an exception, `ZeroDivisionError`:"
   ]
  },
  {
   "cell_type": "code",
   "execution_count": null,
   "id": "57d17e15",
   "metadata": {},
   "outputs": [],
   "source": [
    "a = 1/0"
   ]
  },
  {
   "cell_type": "markdown",
   "id": "ac18926e",
   "metadata": {},
   "source": [
    "and here we handle this  "
   ]
  },
  {
   "cell_type": "code",
   "execution_count": null,
   "id": "cc1dd2df",
   "metadata": {},
   "outputs": [],
   "source": [
    "try:\n",
    "    a = 1/0\n",
    "except ZeroDivisionError:\n",
    "    print(\"warning: you divided by zero\")\n",
    "    a = 1"
   ]
  },
  {
   "cell_type": "code",
   "execution_count": null,
   "id": "ce293dff",
   "metadata": {},
   "outputs": [],
   "source": [
    "print(a)"
   ]
  },
  {
   "cell_type": "markdown",
   "id": "2f5d7daa",
   "metadata": {},
   "source": [
    "Another example; trying to access a key that doesn't exist in a dictionary:"
   ]
  },
  {
   "cell_type": "code",
   "execution_count": null,
   "id": "be399b43",
   "metadata": {},
   "outputs": [],
   "source": [
    "dict = {\"a\":1, \"b\":2, \"c\":3}\n",
    "print(dict[\"d\"])\n"
   ]
  },
  {
   "cell_type": "markdown",
   "id": "76da0c73",
   "metadata": {},
   "source": [
    "`KeyError` is the exception that was raised.  We can check for this and take the appropriate action instead"
   ]
  },
  {
   "cell_type": "code",
   "execution_count": null,
   "id": "f5742da9",
   "metadata": {},
   "outputs": [],
   "source": [
    "try:\n",
    "    val = dict[\"d\"]\n",
    "except KeyError:\n",
    "    val = None\n",
    "\n",
    "print(val)"
   ]
  },
  {
   "cell_type": "markdown",
   "id": "0d8eb4c6",
   "metadata": {},
   "source": [
    "When you open a file, you get an object which you can then interact with. \n",
    "\n",
    "Here we try to open a file for reading that does not already exist."
   ]
  },
  {
   "cell_type": "code",
   "execution_count": null,
   "id": "b3aaba54",
   "metadata": {},
   "outputs": [],
   "source": [
    "f = open(\"file.txt\", \"r\")"
   ]
  },
  {
   "cell_type": "code",
   "execution_count": null,
   "id": "4e93013c",
   "metadata": {},
   "outputs": [],
   "source": [
    "try:\n",
    "    f = open(\"file.txt\", \"r\")\n",
    "except IOError:\n",
    "    print(\"error: that file does not exist\")\n"
   ]
  },
  {
   "cell_type": "markdown",
   "id": "63c9ee84",
   "metadata": {},
   "source": [
    "## I/O with classes:\n",
    "\n",
    "One of the main things that we want to do in scientific computing is get data into and out of our programs.  In addition to plain text files, there are modules that can read lots of different data formats we might encounter.\n"
   ]
  },
  {
   "cell_type": "markdown",
   "id": "c96b745d",
   "metadata": {},
   "source": [
    "### Print\n",
    "\n",
    "We've already been using print quite a bit, but now we'll look at how to control how information is printed."
   ]
  },
  {
   "cell_type": "code",
   "execution_count": null,
   "id": "11dc4823",
   "metadata": {},
   "outputs": [],
   "source": [
    "x = 1\n",
    "y = 0.0000354\n",
    "z = 3.0\n",
    "s = \"my string\"\n"
   ]
  },
  {
   "cell_type": "code",
   "execution_count": null,
   "id": "89de2abb",
   "metadata": {},
   "outputs": [],
   "source": [
    "print(x, y, z, s)"
   ]
  },
  {
   "cell_type": "markdown",
   "id": "f90c0de9",
   "metadata": {},
   "source": [
    "We write a string with `{}` embedded to indicate where variables are to be inserted.  Note that `{}` can take arguments.  We use the `format()` method on the string to match the variables to the `{}`."
   ]
  },
  {
   "cell_type": "code",
   "execution_count": null,
   "id": "139b13cc",
   "metadata": {},
   "outputs": [],
   "source": [
    "print(\"x = {}, y = {}, z = {}, s = {}\".format(x, y, z, s))"
   ]
  },
  {
   "cell_type": "markdown",
   "id": "0a0f6f75",
   "metadata": {},
   "source": [
    "We can give an optional index/position/descriptor of the value we want to print.\n",
    "\n",
    "We give a format specifier. It has a number field and a type, like `f` and `g` to describe how floating point numbers appear and how much precision to show.   Other bits are possible as well (like justification). "
   ]
  },
  {
   "cell_type": "code",
   "execution_count": null,
   "id": "226624e8",
   "metadata": {},
   "outputs": [],
   "source": [
    "print(\"x = {0}, y = {1:10.5g}, z = {2:.3f}, s = {3}\".format(x, y, z, s))"
   ]
  },
  {
   "cell_type": "markdown",
   "id": "2c72455a",
   "metadata": {},
   "source": [
    "There are other formatting things, like justification, etc. "
   ]
  },
  {
   "cell_type": "code",
   "execution_count": null,
   "id": "fc3ec530",
   "metadata": {},
   "outputs": [],
   "source": [
    "print(\"{:^100}\".format(\"centered string\"))"
   ]
  },
  {
   "cell_type": "markdown",
   "id": "bdda5331",
   "metadata": {},
   "source": [
    "## File I/O\n",
    "\n",
    "As expected, a file is an object.\n",
    "\n",
    "Here we'll use the `try`, `except` block to capture exceptions (like if the file cannot be opened). "
   ]
  },
  {
   "cell_type": "code",
   "execution_count": null,
   "id": "4c7d5067",
   "metadata": {},
   "outputs": [],
   "source": [
    "try: f = open(\"./sample1.txt\", \"w\")   # open for writing -- any file of the same name will be overwritten\n",
    "except: \n",
    "    print(\"cannot open the file\")\n",
    "\n",
    "print(f)"
   ]
  },
  {
   "cell_type": "code",
   "execution_count": null,
   "id": "914fdad8",
   "metadata": {},
   "outputs": [],
   "source": [
    "f.write(\"Hellpo, this is my second write\\n\")\n",
    "f.close()"
   ]
  },
  {
   "cell_type": "markdown",
   "id": "4f9c9610",
   "metadata": {},
   "source": [
    "We can easily loop over the lines in a file"
   ]
  },
  {
   "cell_type": "code",
   "execution_count": null,
   "id": "25df8175",
   "metadata": {},
   "outputs": [],
   "source": [
    "try: \n",
    "    f = open(\"./sample1.txt\", \"r\")\n",
    "except:\n",
    "    print(\"error: cannot open the file\")\n",
    "    \n",
    "for line in f:\n",
    "    print(line.split())\n",
    "    \n",
    "f.close()"
   ]
  },
  {
   "cell_type": "markdown",
   "id": "4a198d09",
   "metadata": {},
   "source": [
    "As mentioned earlier, there are lots of string functions. \n",
    "\n",
    "Above we used `split()` to remove the trailing whitespace and returns"
   ]
  },
  {
   "cell_type": "markdown",
   "id": "bfa4d9aa",
   "metadata": {},
   "source": [
    "## CSV Files\n",
    "\n",
    "Comma-separated values (CSV) are an easy way to exchange data -- you can generate these from a spreadsheet program.\n",
    "\n",
    "In the example below, we are assuming that the first line of the spreadsheet/csv file gives the headings that identify the columns.  \n",
    "\n",
    "Note that there is an amazing amount of variation in terms of what can be in a CSV file and what the format is -- the csv module does a good job sorting this all out for you."
   ]
  },
  {
   "cell_type": "code",
   "execution_count": null,
   "id": "c5767f14",
   "metadata": {},
   "outputs": [],
   "source": [
    "class Item(object):\n",
    "    def __init__(self):\n",
    "        self.name = \"\"\n",
    "        self.quantity = 0\n",
    "        self.unitprice = 0.0\n",
    "        self.total = 0.0\n"
   ]
  },
  {
   "cell_type": "code",
   "execution_count": null,
   "id": "76d7d2a8",
   "metadata": {},
   "outputs": [],
   "source": [
    "import csv"
   ]
  },
  {
   "cell_type": "code",
   "execution_count": null,
   "id": "c7bbcaf3",
   "metadata": {},
   "outputs": [],
   "source": [
    "reader = csv.reader(open(\"shopping.csv\", \"r\"))\n",
    "\n",
    "headings = None\n",
    "\n",
    "shopping_list = []\n",
    "\n",
    "for row in reader:\n",
    "    if headings == None:\n",
    "        # first row\n",
    "        headings = row\n",
    "    else:\n",
    "        my_item = Item()\n",
    "        my_item.name = row[headings.index(\"item\")]\n",
    "        my_item.quantity = row[headings.index(\"quantity\")]\n",
    "        my_item.unitprice = row[headings.index(\"unit price\")]\n",
    "        my_item.total = row[headings.index(\"total\")]\n",
    "        shopping_list.append(my_item)"
   ]
  },
  {
   "cell_type": "code",
   "execution_count": null,
   "id": "316653d3",
   "metadata": {},
   "outputs": [],
   "source": [
    "print(shopping_list)"
   ]
  },
  {
   "cell_type": "code",
   "execution_count": null,
   "id": "f96d054b",
   "metadata": {},
   "outputs": [],
   "source": [
    "for i in shopping_list:\n",
    "    print (\"item: {}, quantity: {}, unit price: {}, total: {}\".format(i.name, i.quantity, i.unitprice, i.total))\n"
   ]
  },
  {
   "cell_type": "markdown",
   "id": "c2ef40bf",
   "metadata": {},
   "source": [
    "# Configuration (ini) Files\n",
    "\n",
    "INI or Config files are a common way of specifying options to a program.  They can take the form (from the `ConfigParser` page):\n",
    "\n",
    "```\n",
    "[My Section]\n",
    "foodir: %(dir)s/whatever\n",
    "dir=frob\n",
    "long: this value continues\n",
    "   in the next line\n",
    "```\n",
    "\n",
    "Here we look at how to read in options and store them in a dictionary of the form `dict[\"sec.option\"] = value`\n",
    "\n",
    "We'll use a sample .ini file from a regression test suite (`tests.ini`)."
   ]
  },
  {
   "cell_type": "code",
   "execution_count": null,
   "id": "ca6d703a",
   "metadata": {},
   "outputs": [],
   "source": [
    "import configparser"
   ]
  },
  {
   "cell_type": "code",
   "execution_count": null,
   "id": "3dfe8d93",
   "metadata": {},
   "outputs": [],
   "source": [
    "options = {}\n",
    "\n",
    "cp = configparser.ConfigParser()\n",
    "cp.optionxform = str    # this makes options case-sensitive\n",
    "cp.read(\"tests.ini\")\n",
    "\n",
    "for sec in cp.sections():\n",
    "    for opt in cp.options(sec):\n",
    "        key = str(sec) + \".\" + str(opt)\n",
    "        value = cp.get(sec,opt)\n",
    "        options[key] = value\n",
    "    \n",
    "for k, v in options.items():\n",
    "    print(\"{:32s}: {}\".format(k, v))\n"
   ]
  },
  {
   "cell_type": "code",
   "execution_count": null,
   "id": "0178b37a",
   "metadata": {},
   "outputs": [],
   "source": []
  }
 ],
 "metadata": {
  "kernelspec": {
   "display_name": "Python 3 (ipykernel)",
   "language": "python",
   "name": "python3"
  },
  "language_info": {
   "codemirror_mode": {
    "name": "ipython",
    "version": 3
   },
   "file_extension": ".py",
   "mimetype": "text/x-python",
   "name": "python",
   "nbconvert_exporter": "python",
   "pygments_lexer": "ipython3",
   "version": "3.7.16"
  }
 },
 "nbformat": 4,
 "nbformat_minor": 5
}
