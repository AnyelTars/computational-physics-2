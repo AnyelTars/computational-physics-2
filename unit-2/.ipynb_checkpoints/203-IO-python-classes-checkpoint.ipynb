{
 "cells": [
  {
   "cell_type": "markdown",
   "id": "437c905a",
   "metadata": {},
   "source": [
    "# I/O with python classes:\n",
    "\n",
    "One of the main things that we want to do in scientific computing is get data into and out of our programs. \n",
    "\n",
    "In addition to plain text files, there are modules that can read lots of different data formats we might encounter."
   ]
  },
  {
   "cell_type": "markdown",
   "id": "a092731d",
   "metadata": {},
   "source": [
    "### Print\n",
    "\n",
    "We've already been using print quite a bit, but now we'll look at how to control how information is printed.\n"
   ]
  },
  {
   "cell_type": "code",
   "execution_count": 2,
   "id": "bc2db38b",
   "metadata": {},
   "outputs": [
    {
     "name": "stdout",
     "output_type": "stream",
     "text": [
      "1 3.54e-05 3.0 my string\n"
     ]
    }
   ],
   "source": [
    "x = 1\n",
    "y = 0.0000354\n",
    "z = 3.0\n",
    "s = \"my string\"\n",
    "\n",
    "print(x, y, z, s)"
   ]
  },
  {
   "cell_type": "markdown",
   "id": "446264d4",
   "metadata": {},
   "source": [
    "We write a string with `{}` embedded to indicate where variables are to be inserted.  Note that `{}` can take arguments.  We use the `format()` method on the string to match the variables to the `{}`."
   ]
  },
  {
   "cell_type": "code",
   "execution_count": 3,
   "id": "6ce80503",
   "metadata": {},
   "outputs": [
    {
     "name": "stdout",
     "output_type": "stream",
     "text": [
      "x = 1, y = 3.54e-05, z = 3.0, s = my string\n"
     ]
    }
   ],
   "source": [
    "print(\"x = {}, y = {}, z = {}, s = {}\".format(x, y, z, s))"
   ]
  },
  {
   "cell_type": "markdown",
   "id": "6d0d543d",
   "metadata": {},
   "source": [
    "We can give an optional index/position/descriptor of the value we want to print.\n",
    "\n",
    "We give a format specifier. It has a number field and a type, like `f` and `g` to describe how floating point numbers appear and how much precision to show. Other bits are possible as well (like justification). "
   ]
  },
  {
   "cell_type": "code",
   "execution_count": 4,
   "id": "b8e4ade6",
   "metadata": {},
   "outputs": [
    {
     "name": "stdout",
     "output_type": "stream",
     "text": [
      "x = 1, y =   3.54e-05, z = 3.000, s = my string\n"
     ]
    }
   ],
   "source": [
    "print(\"x = {0}, y = {1:10.5g}, z = {2:.3f}, s = {3}\".format(x, y, z, s))"
   ]
  },
  {
   "cell_type": "markdown",
   "id": "84dfb758",
   "metadata": {},
   "source": [
    "There are other formatting things, like justification, etc. "
   ]
  },
  {
   "cell_type": "code",
   "execution_count": 7,
   "id": "2a9ba931",
   "metadata": {},
   "outputs": [
    {
     "name": "stdout",
     "output_type": "stream",
     "text": [
      "                                          centered string                                           \n"
     ]
    }
   ],
   "source": [
    "print(\"{:^100}\".format(\"centered string\"))"
   ]
  },
  {
   "cell_type": "markdown",
   "id": "a0081fe8",
   "metadata": {},
   "source": [
    "## File I/O\n",
    "\n",
    "As expected, a file is an object.\n",
    "\n",
    "Here we'll use the `try`, `except` block to capture exceptions (like if the file cannot be opened). "
   ]
  },
  {
   "cell_type": "code",
   "execution_count": 10,
   "id": "fe4b92d8",
   "metadata": {},
   "outputs": [
    {
     "name": "stdout",
     "output_type": "stream",
     "text": [
      "Hello, this is my first text file.\r\n"
     ]
    }
   ],
   "source": [
    "!cat ./text_files/sample1.txt"
   ]
  },
  {
   "cell_type": "code",
   "execution_count": 12,
   "id": "273a73e7",
   "metadata": {},
   "outputs": [],
   "source": [
    "# Code with an exception\n",
    "\n",
    "try:\n",
    "    f = open(\"./text_files/sample2.txt\", \"w\")\n",
    "except:\n",
    "    print(\"File cannnot be opened\")\n"
   ]
  },
  {
   "cell_type": "code",
   "execution_count": 13,
   "id": "1688b2b9",
   "metadata": {},
   "outputs": [],
   "source": [
    "f.write(\"Hello, this is my second text file.\\n\")\n",
    "\n",
    "f.close()"
   ]
  },
  {
   "cell_type": "markdown",
   "id": "620a572e",
   "metadata": {},
   "source": [
    "We can easily loop over the lines in a file:"
   ]
  },
  {
   "cell_type": "code",
   "execution_count": 19,
   "id": "aa9a4469",
   "metadata": {},
   "outputs": [],
   "source": [
    "try: \n",
    "    f = open(\"./text_files/sample1.txt\", \"r\")\n",
    "    \n",
    "except:\n",
    "    print(\"error: cannot open the file\")"
   ]
  },
  {
   "cell_type": "code",
   "execution_count": 20,
   "id": "1b4fbd67",
   "metadata": {},
   "outputs": [
    {
     "name": "stdout",
     "output_type": "stream",
     "text": [
      "['Hello,', 'this', 'is', 'my', 'first', 'text', 'file.']\n"
     ]
    }
   ],
   "source": [
    "for line in f:\n",
    "    \n",
    "    print(line.split())\n",
    "    \n",
    "f.close()"
   ]
  },
  {
   "cell_type": "code",
   "execution_count": null,
   "id": "4e7487eb",
   "metadata": {},
   "outputs": [],
   "source": []
  }
 ],
 "metadata": {
  "kernelspec": {
   "display_name": "Python 3 (ipykernel)",
   "language": "python",
   "name": "python3"
  },
  "language_info": {
   "codemirror_mode": {
    "name": "ipython",
    "version": 3
   },
   "file_extension": ".py",
   "mimetype": "text/x-python",
   "name": "python",
   "nbconvert_exporter": "python",
   "pygments_lexer": "ipython3",
   "version": "3.9.12"
  }
 },
 "nbformat": 4,
 "nbformat_minor": 5
}
