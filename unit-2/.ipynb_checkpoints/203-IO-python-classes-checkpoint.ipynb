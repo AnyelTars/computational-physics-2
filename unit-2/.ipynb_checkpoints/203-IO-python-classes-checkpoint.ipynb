{
 "cells": [
  {
   "cell_type": "markdown",
   "id": "79a26852",
   "metadata": {},
   "source": [
    "# I/O with python classes:\n",
    "\n",
    "One of the main things that we want to do in scientific computing is get data into and out of our programs. \n",
    "\n",
    "In addition to plain text files, there are modules that can read lots of different data formats we might encounter."
   ]
  },
  {
   "cell_type": "markdown",
   "id": "74f474d5",
   "metadata": {},
   "source": [
    "### Print\n",
    "\n",
    "We've already been using print quite a bit, but now we'll look at how to control how information is printed.\n"
   ]
  },
  {
   "cell_type": "code",
   "execution_count": 2,
   "id": "2f779752",
   "metadata": {},
   "outputs": [
    {
     "name": "stdout",
     "output_type": "stream",
     "text": [
      "1 3.54e-05 3.0 my string\n"
     ]
    }
   ],
   "source": [
    "x = 1\n",
    "y = 0.0000354\n",
    "z = 3.0\n",
    "s = \"my string\"\n",
    "\n",
    "print(x, y, z, s)"
   ]
  },
  {
   "cell_type": "markdown",
   "id": "a187db82",
   "metadata": {},
   "source": [
    "We write a string with `{}` embedded to indicate where variables are to be inserted.  Note that `{}` can take arguments.  We use the `format()` method on the string to match the variables to the `{}`."
   ]
  },
  {
   "cell_type": "code",
   "execution_count": 3,
   "id": "de8a589e",
   "metadata": {},
   "outputs": [
    {
     "name": "stdout",
     "output_type": "stream",
     "text": [
      "x = 1, y = 3.54e-05, z = 3.0, s = my string\n"
     ]
    }
   ],
   "source": [
    "print(\"x = {}, y = {}, z = {}, s = {}\".format(x, y, z, s))"
   ]
  },
  {
   "cell_type": "markdown",
   "id": "d61175b6",
   "metadata": {},
   "source": [
    "We can give an optional index/position/descriptor of the value we want to print.\n",
    "\n",
    "We give a format specifier. It has a number field and a type, like `f` and `g` to describe how floating point numbers appear and how much precision to show. Other bits are possible as well (like justification). "
   ]
  },
  {
   "cell_type": "code",
   "execution_count": 4,
   "id": "75950847",
   "metadata": {},
   "outputs": [
    {
     "name": "stdout",
     "output_type": "stream",
     "text": [
      "x = 1, y =   3.54e-05, z = 3.000, s = my string\n"
     ]
    }
   ],
   "source": [
    "print(\"x = {0}, y = {1:10.5g}, z = {2:.3f}, s = {3}\".format(x, y, z, s))"
   ]
  },
  {
   "cell_type": "markdown",
   "id": "de70c753",
   "metadata": {},
   "source": [
    "There are other formatting things, like justification, etc. "
   ]
  },
  {
   "cell_type": "code",
   "execution_count": 7,
   "id": "b6083520",
   "metadata": {},
   "outputs": [
    {
     "name": "stdout",
     "output_type": "stream",
     "text": [
      "                                          centered string                                           \n"
     ]
    }
   ],
   "source": [
    "print(\"{:^100}\".format(\"centered string\"))"
   ]
  },
  {
   "cell_type": "markdown",
   "id": "a3fc9a7c",
   "metadata": {},
   "source": [
    "## File I/O\n",
    "\n",
    "As expected, a file is an object.\n",
    "\n",
    "Here we'll use the `try`, `except` block to capture exceptions (like if the file cannot be opened). "
   ]
  },
  {
   "cell_type": "code",
   "execution_count": 10,
   "id": "46cd3106",
   "metadata": {},
   "outputs": [
    {
     "name": "stdout",
     "output_type": "stream",
     "text": [
      "Hello, this is my first text file.\r\n"
     ]
    }
   ],
   "source": [
    "!cat ./text_files/sample1.txt"
   ]
  },
  {
   "cell_type": "code",
   "execution_count": 12,
   "id": "de45e875",
   "metadata": {},
   "outputs": [],
   "source": [
    "# Code with an exception\n",
    "\n",
    "try:\n",
    "    f = open(\"./text_files/sample2.txt\", \"w\")\n",
    "except:\n",
    "    print(\"File cannnot be opened\")\n"
   ]
  },
  {
   "cell_type": "code",
   "execution_count": 13,
   "id": "d6d0a6c8",
   "metadata": {},
   "outputs": [],
   "source": [
    "f.write(\"Hello, this is my second text file.\\n\")\n",
    "\n",
    "f.close()"
   ]
  },
  {
   "cell_type": "markdown",
   "id": "bb18a2e6",
   "metadata": {},
   "source": [
    "We can easily loop over the lines in a file:"
   ]
  },
  {
   "cell_type": "code",
   "execution_count": 19,
   "id": "3481cda2",
   "metadata": {},
   "outputs": [],
   "source": [
    "try: \n",
    "    f = open(\"./text_files/sample1.txt\", \"r\")\n",
    "    \n",
    "except:\n",
    "    print(\"error: cannot open the file\")"
   ]
  },
  {
   "cell_type": "code",
   "execution_count": 20,
   "id": "c7d12f87",
   "metadata": {},
   "outputs": [
    {
     "name": "stdout",
     "output_type": "stream",
     "text": [
      "['Hello,', 'this', 'is', 'my', 'first', 'text', 'file.']\n"
     ]
    }
   ],
   "source": [
    "for line in f:\n",
    "    \n",
    "    print(line.split())\n",
    "    \n",
    "f.close()"
   ]
  },
  {
   "cell_type": "markdown",
   "id": "43a7048c",
   "metadata": {},
   "source": [
    "## CSV Files\n",
    "\n",
    "Comma-separated values (CSV) are an easy way to exchange data -- you can generate these from a spreadsheet program.\n",
    "\n",
    "In the example below, we are assuming that the first line of the spreadsheet/csv file gives the headings that identify the columns.  \n",
    "\n",
    "Note that there is an amazing amount of variation in terms of what can be in a CSV file and what the format is -- the csv module does a good job sorting this all out for you."
   ]
  },
  {
   "cell_type": "code",
   "execution_count": 23,
   "id": "5c692acf",
   "metadata": {},
   "outputs": [],
   "source": [
    "class Item(object):\n",
    "    \n",
    "    # Init function\n",
    "    def __int__(self):\n",
    "        self.name = \"\"\n",
    "        self.quantity = 0\n",
    "        self.unitprice = 0.0\n",
    "        self.total = 0.0"
   ]
  },
  {
   "cell_type": "code",
   "execution_count": 25,
   "id": "16350eba",
   "metadata": {},
   "outputs": [],
   "source": [
    "# Import CSV library\n",
    "\n",
    "import csv"
   ]
  },
  {
   "cell_type": "code",
   "execution_count": 35,
   "id": "cb005c74",
   "metadata": {},
   "outputs": [
    {
     "name": "stdout",
     "output_type": "stream",
     "text": [
      "item,quantity,unit price,total\r\n",
      "apples,2,0.33,0.66\r\n",
      "bananas,5,0.1,0.5\r\n",
      "milk,1,2.5,2.5\r\n",
      "soda,3,1,3\r\n",
      "rolls,12,0.33,3.96\r\n",
      "eggs,1,2.5,2.5\r\n"
     ]
    }
   ],
   "source": [
    "!cat ./shopping.csv"
   ]
  },
  {
   "cell_type": "code",
   "execution_count": 38,
   "id": "3fe61bce",
   "metadata": {},
   "outputs": [],
   "source": [
    "# We want to define reader\n",
    "\n",
    "reader = csv.reader(open(\"shopping.csv\", \"r\"))\n",
    "\n",
    "headings = None\n",
    "\n",
    "shopping_list = []\n",
    "\n",
    "for row in reader:\n",
    "    if headings == None:\n",
    "        # First row\n",
    "        headings = row\n",
    "    else:\n",
    "        my_item = Item()\n",
    "        my_item.name = row[headings.index(\"item\")]\n",
    "        my_item.quantity = row[headings.index(\"quantity\")]\n",
    "        my_item.unitprice = row[headings.index(\"unit price\")]\n",
    "        my_item.total = row[headings.index(\"total\")]\n",
    "        \n",
    "        shopping_list.append(my_item)\n"
   ]
  },
  {
   "cell_type": "code",
   "execution_count": 41,
   "id": "283b2d61",
   "metadata": {},
   "outputs": [
    {
     "name": "stdout",
     "output_type": "stream",
     "text": [
      "[<__main__.Item object at 0x7ffa61fa53d0>, <__main__.Item object at 0x7ffa623bca30>, <__main__.Item object at 0x7ffa6212f130>, <__main__.Item object at 0x7ffa6213bb80>, <__main__.Item object at 0x7ffa6213bd90>, <__main__.Item object at 0x7ffa6213bb50>]\n"
     ]
    }
   ],
   "source": [
    "print(shopping_list)"
   ]
  },
  {
   "cell_type": "code",
   "execution_count": 42,
   "id": "cfc5d4bb",
   "metadata": {},
   "outputs": [
    {
     "name": "stdout",
     "output_type": "stream",
     "text": [
      "item: apples, quantity: 2, unit price: 0.33, total: 0.66\n",
      "item: bananas, quantity: 5, unit price: 0.1, total: 0.5\n",
      "item: milk, quantity: 1, unit price: 2.5, total: 2.5\n",
      "item: soda, quantity: 3, unit price: 1, total: 3\n",
      "item: rolls, quantity: 12, unit price: 0.33, total: 3.96\n",
      "item: eggs, quantity: 1, unit price: 2.5, total: 2.5\n"
     ]
    }
   ],
   "source": [
    "# Loop over the list and print the items\n",
    "\n",
    "for i in shopping_list:\n",
    "    print (\"item: {}, quantity: {}, unit price: {}, total: {}\".format(i.name, i.quantity, i.unitprice, i.total))\n"
   ]
  },
  {
   "cell_type": "code",
   "execution_count": null,
   "id": "f5df8932",
   "metadata": {},
   "outputs": [],
   "source": []
  }
 ],
 "metadata": {
  "kernelspec": {
   "display_name": "Python 3 (ipykernel)",
   "language": "python",
   "name": "python3"
  },
  "language_info": {
   "codemirror_mode": {
    "name": "ipython",
    "version": 3
   },
   "file_extension": ".py",
   "mimetype": "text/x-python",
   "name": "python",
   "nbconvert_exporter": "python",
   "pygments_lexer": "ipython3",
   "version": "3.7.16"
  }
 },
 "nbformat": 4,
 "nbformat_minor": 5
}
