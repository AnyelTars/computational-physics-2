{
 "cells": [
  {
   "cell_type": "markdown",
   "id": "2c0768e7",
   "metadata": {},
   "source": [
    "# Heat equation:"
   ]
  },
  {
   "cell_type": "code",
   "execution_count": 1,
   "id": "67157061",
   "metadata": {},
   "outputs": [],
   "source": [
    "# Import libraries\n",
    "import numpy as np\n",
    "import matplotlib.pyplot as plt"
   ]
  },
  {
   "cell_type": "code",
   "execution_count": 6,
   "id": "e2d360ad",
   "metadata": {},
   "outputs": [],
   "source": [
    "# Steps\n",
    "\n",
    "k = 0.025 # TIME STEP\n",
    "h = 0.025 # SPACE STEP\n",
    "\n",
    "# Limits\n",
    "a = 1\n",
    "b = 0.1\n",
    "\n",
    "# Axes\n",
    "t = np.arange(0, b + k , k)\n",
    "x = np.arange(0, a + h , h)\n",
    "\n",
    "#print(x)"
   ]
  },
  {
   "cell_type": "code",
   "execution_count": 7,
   "id": "a8bf3ce2",
   "metadata": {},
   "outputs": [],
   "source": [
    "# Boundary Conditions\n",
    "\n",
    "bcs = [0, 0]\n",
    "\n",
    "# Initial conditions\n",
    "\n",
    "ics = np.sin(np.pi*x)"
   ]
  },
  {
   "cell_type": "code",
   "execution_count": 9,
   "id": "9ef4a088",
   "metadata": {},
   "outputs": [
    {
     "name": "stdout",
     "output_type": "stream",
     "text": [
      "(41, 5)\n"
     ]
    }
   ],
   "source": [
    "# Matrix T\n",
    "\n",
    "n = len(x)\n",
    "m = len(t)\n",
    "\n",
    "T = np.zeros((n, m))\n",
    "\n",
    "print(T.shape)"
   ]
  },
  {
   "cell_type": "code",
   "execution_count": null,
   "id": "72127b55",
   "metadata": {},
   "outputs": [],
   "source": []
  }
 ],
 "metadata": {
  "kernelspec": {
   "display_name": "Python 3 (ipykernel)",
   "language": "python",
   "name": "python3"
  },
  "language_info": {
   "codemirror_mode": {
    "name": "ipython",
    "version": 3
   },
   "file_extension": ".py",
   "mimetype": "text/x-python",
   "name": "python",
   "nbconvert_exporter": "python",
   "pygments_lexer": "ipython3",
   "version": "3.9.12"
  }
 },
 "nbformat": 4,
 "nbformat_minor": 5
}
