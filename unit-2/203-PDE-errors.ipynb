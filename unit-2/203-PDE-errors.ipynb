{
 "cells": [
  {
   "cell_type": "markdown",
   "id": "bc960fa4",
   "metadata": {},
   "source": [
    "# Sources of Error\n"
   ]
  },
  {
   "cell_type": "markdown",
   "id": "9a1ec26f",
   "metadata": {},
   "source": [
    "## Truncation and round-off errors\n",
    "\n",
    "When we are doing numerical analysis, there are usually two sources of error:\n",
    "\n",
    "\n",
    "- The **truncation errors** are due to the approximate nature of the method used. They are usually from using an approximation in place of an exact mathematical procedure, such as that we use the Taylor series to approximate a function.\n",
    "\n",
    "\n",
    "- The **round-off errors** are due to the inexactness in the representation of real numbers on a computer and the arithmetic operations done with them."
   ]
  },
  {
   "cell_type": "markdown",
   "id": "ea7a3365",
   "metadata": {},
   "source": [
    "### Truncation errors in Taylor series:\n",
    "\n",
    "We can use Taylor series to approximate the function $e^x$:\n",
    "\n",
    "$$e^x = 1+x+\\frac{x^2}{2!} + \\frac{x^3}{3!} + \\frac{x^4}{4!} + \\dots$$\n",
    "\n",
    "Since it takes the infinite sequence to approximate the function, if we only take a few items, we will have a truncation error. For example, if we only use the first 4 items to approximate $e^2$, which will be:\n",
    "\n",
    "$$e^2 \\approx 1+2+\\frac{2^2}{2!} + \\frac{2^3}{3!} = 6.3333$$\n",
    "\n",
    "We see there is an error associated with it, since we truncate the rest of the terms in the Taylor series. Therefore the function $f(x)$ can be written as the Taylor series approximation plus a truncation error term:\n",
    "\n",
    "$$f(x) = f_n(x) + E(n)$$\n",
    "\n",
    "with more terms we use, the approximation will be more close to the exact value. Let's use Python to see the above example. "
   ]
  },
  {
   "cell_type": "markdown",
   "id": "50bc146a",
   "metadata": {},
   "source": [
    "### Example:\n",
    "\n",
    "Approximate $e^2$ using different order of Taylor series. \n",
    "\n",
    "Print out the results and the errors.\n",
    "\n",
    "Make a plot of the errors versus order of the Taylor series."
   ]
  },
  {
   "cell_type": "code",
   "execution_count": null,
   "id": "efb9e073",
   "metadata": {},
   "outputs": [],
   "source": []
  }
 ],
 "metadata": {
  "kernelspec": {
   "display_name": "Python 3 (ipykernel)",
   "language": "python",
   "name": "python3"
  },
  "language_info": {
   "codemirror_mode": {
    "name": "ipython",
    "version": 3
   },
   "file_extension": ".py",
   "mimetype": "text/x-python",
   "name": "python",
   "nbconvert_exporter": "python",
   "pygments_lexer": "ipython3",
   "version": "3.7.13"
  }
 },
 "nbformat": 4,
 "nbformat_minor": 5
}
