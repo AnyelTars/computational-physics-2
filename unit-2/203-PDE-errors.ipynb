{
 "cells": [
  {
   "cell_type": "markdown",
   "id": "dbf74880",
   "metadata": {},
   "source": [
    "# Sources of Error\n"
   ]
  },
  {
   "cell_type": "markdown",
   "id": "e2277752",
   "metadata": {},
   "source": [
    "## Truncation and round-off errors\n",
    "\n",
    "When we are doing numerical analysis, there are usually two sources of error:\n",
    "\n",
    "\n",
    "- The **truncation errors** are due to the approximate nature of the method used. They are usually from using an approximation in place of an exact mathematical procedure, such as that we use the Taylor series to approximate a function.\n",
    "\n",
    "\n",
    "- The **round-off errors** are due to the inexactness in the representation of real numbers on a computer and the arithmetic operations done with them."
   ]
  },
  {
   "cell_type": "markdown",
   "id": "004964a1",
   "metadata": {},
   "source": [
    "### Truncation errors in Taylor series:\n",
    "\n",
    "We can use Taylor series to approximate the function $e^x$:\n",
    "\n",
    "$$e^x = \\sum_{n=0}^{\\infty}\\frac{x^n}{n!}$$\n",
    "\n",
    "$$e^x = 1+x+\\frac{x^2}{2!} + \\frac{x^3}{3!} + \\frac{x^4}{4!} + \\dots$$\n",
    "\n",
    "Since it takes the infinite sequence to approximate the function, if we only take a few items, we will have a truncation error. For example, if we only use the first 4 items to approximate $e^2$, which will be:\n",
    "\n",
    "$$e^2 \\approx 1+2+\\frac{2^2}{2!} + \\frac{2^3}{3!} = 6.3333$$\n",
    "\n",
    "We see there is an error associated with it, since we truncate the rest of the terms in the Taylor series. Therefore the function $f(x)$ can be written as the Taylor series approximation plus a truncation error term:\n",
    "\n",
    "$$f(x) = f_n(x) + E(n)$$\n",
    "\n",
    "with more terms we use, the approximation will be more close to the exact value. Let's use Python to see the above example. "
   ]
  },
  {
   "cell_type": "markdown",
   "id": "19c8f860",
   "metadata": {},
   "source": [
    "### Example:\n",
    "\n",
    "Approximate $e^2$ using different order Taylor series. \n",
    "\n",
    "Print out the results and the errors.\n",
    "\n",
    "Make a plot of the errors versus order of the Taylor series."
   ]
  },
  {
   "cell_type": "code",
   "execution_count": 1,
   "id": "ac41506f",
   "metadata": {},
   "outputs": [],
   "source": [
    "# Import libraries\n",
    "import numpy as np\n",
    "import matplotlib.pyplot as plt"
   ]
  },
  {
   "cell_type": "code",
   "execution_count": 2,
   "id": "5d9ec316",
   "metadata": {},
   "outputs": [
    {
     "name": "stdout",
     "output_type": "stream",
     "text": [
      "The actual of e^2 is: 7.38905609893065\n"
     ]
    }
   ],
   "source": [
    "# Actual value:\n",
    "\n",
    "actual_exp = np.exp(2)\n",
    "\n",
    "print(\"The actual of e^2 is:\", actual_exp)"
   ]
  },
  {
   "cell_type": "markdown",
   "id": "e4a209c0",
   "metadata": {},
   "source": [
    "$$e^x = \\sum_{n=0}^{\\infty}\\frac{x^n}{n!}$$"
   ]
  },
  {
   "cell_type": "code",
   "execution_count": 3,
   "id": "c16545ea",
   "metadata": {},
   "outputs": [],
   "source": [
    "# Taylor series approximation:\n",
    "\n",
    "# Initiate the series\n",
    "start_value = 0\n",
    "\n",
    "# Empty lists\n",
    "orde = [] # this is a list that will store the order of the T.S.\n",
    "texp = [] # This is the approximate value for a specific order\n",
    "errt = [] # This is the error array\n",
    "\n",
    "# Define order\n",
    "n = 50\n",
    "\n",
    "# Define x\n",
    "x = 2\n",
    "\n",
    "# Loop to calculate the Taylor series:\n",
    "\n",
    "for i in range(n):\n",
    "    #print(i)\n",
    "    \n",
    "    # Append solution to list\n",
    "    texp.append(start_value + x**i/np.math.factorial(i))\n",
    "    \n",
    "    # Change starting point\n",
    "    start_value = texp[i]\n",
    "    \n",
    "    # Append errors to list\n",
    "    errt.append(np.abs(texp[i] - actual_exp))\n",
    "    \n",
    "    # Append order of T.S.\n",
    "    orde.append(i)\n"
   ]
  },
  {
   "cell_type": "code",
   "execution_count": 4,
   "id": "6e03ef5a",
   "metadata": {},
   "outputs": [
    {
     "name": "stdout",
     "output_type": "stream",
     "text": [
      "Numerical solutions for e^2 using a T.S.\n",
      " [1.0, 3.0, 5.0, 6.333333333333333, 7.0, 7.266666666666667, 7.355555555555555, 7.3809523809523805, 7.387301587301587, 7.3887125220458545, 7.388994708994708, 7.389046015712681, 7.3890545668323435, 7.389055882389215, 7.3890560703259105, 7.389056095384136, 7.389056098516415, 7.389056098884918, 7.389056098925863, 7.3890560989301735, 7.389056098930604, 7.389056098930645, 7.389056098930649, 7.389056098930649, 7.389056098930649, 7.389056098930649, 7.389056098930649, 7.389056098930649, 7.389056098930649, 7.389056098930649, 7.389056098930649, 7.389056098930649, 7.389056098930649, 7.389056098930649, 7.389056098930649, 7.389056098930649, 7.389056098930649, 7.389056098930649, 7.389056098930649, 7.389056098930649, 7.389056098930649, 7.389056098930649, 7.389056098930649, 7.389056098930649, 7.389056098930649, 7.389056098930649, 7.389056098930649, 7.389056098930649, 7.389056098930649, 7.389056098930649]\n"
     ]
    }
   ],
   "source": [
    "print(\"Numerical solutions for e^2 using a T.S.\\n\", texp)"
   ]
  },
  {
   "cell_type": "code",
   "execution_count": 5,
   "id": "8f1462c2",
   "metadata": {},
   "outputs": [
    {
     "name": "stdout",
     "output_type": "stream",
     "text": [
      "The order of the T.S. is \n",
      " [0, 1, 2, 3, 4, 5, 6, 7, 8, 9, 10, 11, 12, 13, 14, 15, 16, 17, 18, 19, 20, 21, 22, 23, 24, 25, 26, 27, 28, 29, 30, 31, 32, 33, 34, 35, 36, 37, 38, 39, 40, 41, 42, 43, 44, 45, 46, 47, 48, 49]\n"
     ]
    }
   ],
   "source": [
    "print(\"The order of the T.S. is \\n\", orde)"
   ]
  },
  {
   "cell_type": "code",
   "execution_count": 6,
   "id": "9d1e9d64",
   "metadata": {},
   "outputs": [
    {
     "name": "stdout",
     "output_type": "stream",
     "text": [
      "The errors are:\n",
      " [6.38905609893065, 4.38905609893065, 2.3890560989306504, 1.0557227655973174, 0.3890560989306504, 0.1223894322639838, 0.033500543375095226, 0.00810371797826992, 0.0017545116290635931, 0.0003435768847959153, 6.138993594273501e-05, 1.0083217969025782e-05, 1.5320983068889404e-06, 2.1654143544935778e-07, 2.860473991006529e-08, 3.546514193430994e-09, 4.14235756807102e-10, 4.573230683035945e-11, 4.787281682183675e-12, 4.769518113789672e-13, 4.618527782440651e-14, 5.329070518200751e-15, 1.7763568394002505e-15, 1.7763568394002505e-15, 1.7763568394002505e-15, 1.7763568394002505e-15, 1.7763568394002505e-15, 1.7763568394002505e-15, 1.7763568394002505e-15, 1.7763568394002505e-15, 1.7763568394002505e-15, 1.7763568394002505e-15, 1.7763568394002505e-15, 1.7763568394002505e-15, 1.7763568394002505e-15, 1.7763568394002505e-15, 1.7763568394002505e-15, 1.7763568394002505e-15, 1.7763568394002505e-15, 1.7763568394002505e-15, 1.7763568394002505e-15, 1.7763568394002505e-15, 1.7763568394002505e-15, 1.7763568394002505e-15, 1.7763568394002505e-15, 1.7763568394002505e-15, 1.7763568394002505e-15, 1.7763568394002505e-15, 1.7763568394002505e-15, 1.7763568394002505e-15]\n"
     ]
    }
   ],
   "source": [
    "print(\"The errors are:\\n\", errt)"
   ]
  },
  {
   "cell_type": "code",
   "execution_count": 7,
   "id": "0cd2aaf1",
   "metadata": {},
   "outputs": [
    {
     "data": {
      "image/png": "[encoded data removed]",
      "text/plain": [
       "<Figure size 800x600 with 1 Axes>"
      ]
     },
     "metadata": {},
     "output_type": "display_data"
    }
   ],
   "source": [
    "# Plotting\n",
    "\n",
    "plt.figure(figsize=(8,6))\n",
    "\n",
    "plt.plot(orde, np.log10(errt), label = \"errors vs. order of T.S.\")\n",
    "\n",
    "plt.show()"
   ]
  },
  {
   "cell_type": "markdown",
   "id": "f6cde6c0",
   "metadata": {},
   "source": [
    "### Estimate truncation errors\n",
    "\n",
    "We can see the higher order we use to approximate the function at the value, the closer we are to the true value. For each order we choose, there is an error associated with it, and the approximation is only useful if we have an idea of how accurate the approximation is. This is the motivation that we need to understand more about the errors. \n",
    "\n",
    "From the Taylor series, if we use only the first $n$ terms, we can see:\n",
    "\n",
    "$$ f(x) = f_n(x) + E_n(x) = \\sum_{k = 0}^{n} \\frac{f^{(k)}(a)(x-a)^k}{k!} + E_n(x)\n",
    "$$\n",
    "\n",
    "The $E_n(x)$ is the remainder of the Taylor series, or the truncation error that measures how far off the approximation $f_n(x)$ is from $f(x)$. We can estimate the error using the **Taylor Remainder Estimation Theorem**, which states:\n",
    "\n",
    "If the function $f(x)$ has $n+1$ derivatives for all $x$ in an interval $I$ containing $a$, then, for each x in $I$, there exists $z$ between $x$ and $a$ such that \n",
    "\n",
    "$$ E_n(x) = \\frac{f^{(n+1)}(z)(x-a)^{(n+1)}}{(n+1)!}\n",
    "$$\n",
    "\n",
    "In many times, if we know $M$ is the maximum value of $|f^{(n+1)}|$ in the interval, we will have:\n",
    "\n",
    "$$ |E_n(x)| \\le \\frac{M|x-a|^{(n+1)}}{(n+1)!}\n",
    "$$\n",
    "\n",
    "Therefore, we can get a bound for the truncation error using this theorem."
   ]
  },
  {
   "cell_type": "markdown",
   "id": "bd8942e4",
   "metadata": {},
   "source": [
    "### Exercise:\n",
    "\n",
    "Estimate the remainder bound for the approximation using Taylor series for $e^2$ using $n = 9$. \n",
    "\n",
    "Let's  work on the error when we use $n = 9$. We know that $(e^x)' = e^x$, and, $a = 0$. Therefore, the error related to x = 2 is:\n",
    "\n",
    "$$ E_n(x) = \\frac{f^{(9+1)}(z)(x)^{(9+1)}}{(9+1)!} = \\frac{e^{z}2^{10}}{10!}\n",
    "$$\n",
    "\n",
    "Recall that $ 0 \\le z \\le 2$, and $e < 3$, we will have\n",
    "\n",
    "$$ |E_n(x)| \\le \\frac{3^{2}2^{10}}{10!} = 0.00254\n",
    "$$\n",
    "\n",
    "Therefore, if we use Taylor series with n = 9 to approximate $e^2$, our absolute error should be less than  0.00254. Let's also verifty it below. "
   ]
  },
  {
   "cell_type": "code",
   "execution_count": 8,
   "id": "5fb56cea",
   "metadata": {},
   "outputs": [
    {
     "name": "stdout",
     "output_type": "stream",
     "text": [
      "7.3887125220458545\n"
     ]
    }
   ],
   "source": [
    "print(texp[9])"
   ]
  },
  {
   "cell_type": "code",
   "execution_count": 9,
   "id": "49446cb6",
   "metadata": {},
   "outputs": [
    {
     "name": "stdout",
     "output_type": "stream",
     "text": [
      "0.0003435768847959153\n"
     ]
    }
   ],
   "source": [
    "print(np.abs(texp[9] - actual_exp))"
   ]
  },
  {
   "cell_type": "markdown",
   "id": "e1bb9149",
   "metadata": {},
   "source": [
    "### Round-off errors for Taylor series\n",
    "\n",
    "Numerically, to add many terms in a sum, we should be mindful of numerical accumulation of errors that is due to floating point round-off errors. Let us see the following example. "
   ]
  },
  {
   "cell_type": "markdown",
   "id": "c45b5130",
   "metadata": {},
   "source": [
    "### Exercise:\n",
    "\n",
    "Approximate $e^{-3}$ using different order of Taylor series, and print out the results. "
   ]
  },
  {
   "cell_type": "code",
   "execution_count": 10,
   "id": "35236b8b",
   "metadata": {},
   "outputs": [
    {
     "name": "stdout",
     "output_type": "stream",
     "text": [
      "The actual of e^-3 is: 0.049787068367863944\n"
     ]
    }
   ],
   "source": [
    "actual_exp3 = np.exp(-3)\n",
    "\n",
    "print(\"The actual of e^-3 is:\", actual_exp3)"
   ]
  },
  {
   "cell_type": "code",
   "execution_count": 20,
   "id": "4c2cd1c9",
   "metadata": {},
   "outputs": [],
   "source": [
    "# Taylor series approximation:\n",
    "\n",
    "# Initiate the series\n",
    "start_value = 0\n",
    "\n",
    "# Empty lists\n",
    "orde = [] # this is a list that will store the order of the T.S.\n",
    "texp = [] # This is the approximate value for a specific order\n",
    "errt = [] # This is the error array\n",
    "\n",
    "# Define order\n",
    "n = 200\n",
    "\n",
    "# Define x\n",
    "x = -3\n",
    "\n",
    "# Loop to calculate the Taylor series:\n",
    "\n",
    "for i in range(n):\n",
    "    #print(i)\n",
    "    \n",
    "    # Append solution to list\n",
    "    texp.append(start_value + x**i/np.math.factorial(i))\n",
    "    \n",
    "    # Change starting point\n",
    "    start_value = texp[i]\n",
    "    \n",
    "    # Append errors to list\n",
    "    errt.append(np.abs(texp[i] - actual_exp3))\n",
    "    \n",
    "    # Append order of T.S.\n",
    "    orde.append(i)\n"
   ]
  },
  {
   "cell_type": "code",
   "execution_count": 21,
   "id": "52cd80f8",
   "metadata": {},
   "outputs": [
    {
     "data": {
      "image/png": "[encoded data removed]",
      "text/plain": [
       "<Figure size 800x600 with 1 Axes>"
      ]
     },
     "metadata": {},
     "output_type": "display_data"
    }
   ],
   "source": [
    "# Plotting\n",
    "\n",
    "plt.figure(figsize=(8,6))\n",
    "\n",
    "plt.plot(orde, np.log10(errt), label = \"errors vs. order of T.S.\")\n",
    "\n",
    "plt.show()"
   ]
  },
  {
   "cell_type": "markdown",
   "id": "468f2451",
   "metadata": {},
   "source": [
    "From the above example, it is clear that our estimation using Taylor series are not close to the true value anymore, no matter how many terms you include into the calculation.\n",
    "\n",
    "This is due to the round-off errors we discussed before. When using negative large arguments, in order to get a small result, the Taylor series need alternating large numbers to cancel to achieve that.\n",
    "\n",
    "We need many digits of precision in the series to capture both the large and the small numbers with enough remaining digits to get the result in the desired output precision. Thus we have this error in the above example. "
   ]
  },
  {
   "cell_type": "markdown",
   "id": "098d84b3",
   "metadata": {},
   "source": [
    "### Exercise (floating-point numbers):\n",
    "\n",
    "- Create a floating point variable and initialize it to 0.1.\n",
    "\n",
    "- Now, print it out in full precision.\n",
    "\n",
    "You should see that it is not exactly 0.1 to the computer. This is the floating point error.\n",
    "\n",
    "The number 0.1 is not exactly representable in the binary format used for floating point."
   ]
  },
  {
   "cell_type": "code",
   "execution_count": 23,
   "id": "5721b1a7",
   "metadata": {},
   "outputs": [
    {
     "name": "stdout",
     "output_type": "stream",
     "text": [
      "0.1\n"
     ]
    }
   ],
   "source": [
    "a = 0.1\n",
    "\n",
    "print(a)"
   ]
  },
  {
   "cell_type": "code",
   "execution_count": 24,
   "id": "af9c5f3d",
   "metadata": {},
   "outputs": [],
   "source": [
    "# Single precision\n",
    "\n",
    "a32 = np.float32(0.1)\n",
    "\n",
    "# Single precision\n",
    "\n",
    "a64 = np.float64(0.1)\n"
   ]
  },
  {
   "cell_type": "code",
   "execution_count": 25,
   "id": "da30df91",
   "metadata": {},
   "outputs": [
    {
     "name": "stdout",
     "output_type": "stream",
     "text": [
      "0.1 0.1\n"
     ]
    }
   ],
   "source": [
    "print(a32, a64)"
   ]
  },
  {
   "cell_type": "code",
   "execution_count": 28,
   "id": "de1b9bc6",
   "metadata": {},
   "outputs": [
    {
     "name": "stdout",
     "output_type": "stream",
     "text": [
      "0.10000000149011611938 0.10000000000000000555\n"
     ]
    }
   ],
   "source": [
    "print(format(a32, '.20g'), format(a64, '.20g'))"
   ]
  },
  {
   "cell_type": "markdown",
   "id": "1310aa6b",
   "metadata": {},
   "source": [
    "### Exercise (round-off error and machine epsilon):\n",
    "\n",
    "Write a program to find the value of ε for which $1 + \\epsilon = 1$.\n",
    "\n",
    "Start with $\\epsilon = 1$ and iterate, halving $\\epsilon$ each iteration until $1+\\epsilon = 1$.\n",
    "\n",
    "This last value of $\\epsilon$ for which this was not true is the machine epsilon.\n",
    "\n",
    "You will get a different value for single- vs. double- precision floating point arithmetic.\n",
    "\n",
    "#### Reference:\n",
    "\n",
    "https://en.wikipedia.org/wiki/Machine_epsilon"
   ]
  },
  {
   "cell_type": "code",
   "execution_count": null,
   "id": "c1b8b841",
   "metadata": {},
   "outputs": [],
   "source": []
  }
 ],
 "metadata": {
  "kernelspec": {
   "display_name": "Python 3 (ipykernel)",
   "language": "python",
   "name": "python3"
  },
  "language_info": {
   "codemirror_mode": {
    "name": "ipython",
    "version": 3
   },
   "file_extension": ".py",
   "mimetype": "text/x-python",
   "name": "python",
   "nbconvert_exporter": "python",
   "pygments_lexer": "ipython3",
   "version": "3.7.13"
  }
 },
 "nbformat": 4,
 "nbformat_minor": 5
}
