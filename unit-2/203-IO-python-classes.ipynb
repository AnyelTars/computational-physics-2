{
 "cells": [
  {
   "cell_type": "markdown",
   "id": "86c46566",
   "metadata": {},
   "source": [
    "# I/O with python classes:\n",
    "\n",
    "One of the main things that we want to do in scientific computing is get data into and out of our programs. \n",
    "\n",
    "In addition to plain text files, there are modules that can read lots of different data formats we might encounter."
   ]
  },
  {
   "cell_type": "markdown",
   "id": "0599969f",
   "metadata": {},
   "source": [
    "### Print\n",
    "\n",
    "We've already been using print quite a bit, but now we'll look at how to control how information is printed.\n"
   ]
  },
  {
   "cell_type": "code",
   "execution_count": 2,
   "id": "0e3004f8",
   "metadata": {},
   "outputs": [
    {
     "name": "stdout",
     "output_type": "stream",
     "text": [
      "1 3.54e-05 3.0 my string\n"
     ]
    }
   ],
   "source": [
    "x = 1\n",
    "y = 0.0000354\n",
    "z = 3.0\n",
    "s = \"my string\"\n",
    "\n",
    "print(x, y, z, s)"
   ]
  },
  {
   "cell_type": "markdown",
   "id": "1565625f",
   "metadata": {},
   "source": [
    "We write a string with `{}` embedded to indicate where variables are to be inserted.  Note that `{}` can take arguments.  We use the `format()` method on the string to match the variables to the `{}`."
   ]
  },
  {
   "cell_type": "code",
   "execution_count": 3,
   "id": "9d173b8e",
   "metadata": {},
   "outputs": [
    {
     "name": "stdout",
     "output_type": "stream",
     "text": [
      "x = 1, y = 3.54e-05, z = 3.0, s = my string\n"
     ]
    }
   ],
   "source": [
    "print(\"x = {}, y = {}, z = {}, s = {}\".format(x, y, z, s))"
   ]
  },
  {
   "cell_type": "markdown",
   "id": "606a8b3d",
   "metadata": {},
   "source": [
    "We can give an optional index/position/descriptor of the value we want to print.\n",
    "\n",
    "We give a format specifier. It has a number field and a type, like `f` and `g` to describe how floating point numbers appear and how much precision to show. Other bits are possible as well (like justification). "
   ]
  },
  {
   "cell_type": "code",
   "execution_count": 4,
   "id": "afe52955",
   "metadata": {},
   "outputs": [
    {
     "name": "stdout",
     "output_type": "stream",
     "text": [
      "x = 1, y =   3.54e-05, z = 3.000, s = my string\n"
     ]
    }
   ],
   "source": [
    "print(\"x = {0}, y = {1:10.5g}, z = {2:.3f}, s = {3}\".format(x, y, z, s))"
   ]
  },
  {
   "cell_type": "markdown",
   "id": "12354c26",
   "metadata": {},
   "source": [
    "There are other formatting things, like justification, etc. "
   ]
  },
  {
   "cell_type": "code",
   "execution_count": 7,
   "id": "f1b685f2",
   "metadata": {},
   "outputs": [
    {
     "name": "stdout",
     "output_type": "stream",
     "text": [
      "                                          centered string                                           \n"
     ]
    }
   ],
   "source": [
    "print(\"{:^100}\".format(\"centered string\"))"
   ]
  },
  {
   "cell_type": "markdown",
   "id": "a702e585",
   "metadata": {},
   "source": [
    "## File I/O\n",
    "\n",
    "As expected, a file is an object.\n",
    "\n",
    "Here we'll use the `try`, `except` block to capture exceptions (like if the file cannot be opened). "
   ]
  },
  {
   "cell_type": "code",
   "execution_count": 10,
   "id": "dc162f66",
   "metadata": {},
   "outputs": [
    {
     "name": "stdout",
     "output_type": "stream",
     "text": [
      "Hello, this is my first text file.\r\n"
     ]
    }
   ],
   "source": [
    "!cat ./text_files/sample1.txt"
   ]
  },
  {
   "cell_type": "code",
   "execution_count": 12,
   "id": "4573c091",
   "metadata": {},
   "outputs": [],
   "source": [
    "# Code with an exception\n",
    "\n",
    "try:\n",
    "    f = open(\"./text_files/sample2.txt\", \"w\")\n",
    "except:\n",
    "    print(\"File cannnot be opened\")\n"
   ]
  },
  {
   "cell_type": "code",
   "execution_count": 13,
   "id": "53c97385",
   "metadata": {},
   "outputs": [],
   "source": [
    "f.write(\"Hello, this is my second text file.\\n\")\n",
    "\n",
    "f.close()"
   ]
  },
  {
   "cell_type": "markdown",
   "id": "b80ca711",
   "metadata": {},
   "source": [
    "We can easily loop over the lines in a file:"
   ]
  },
  {
   "cell_type": "code",
   "execution_count": 19,
   "id": "dd206d6e",
   "metadata": {},
   "outputs": [],
   "source": [
    "try: \n",
    "    f = open(\"./text_files/sample1.txt\", \"r\")\n",
    "    \n",
    "except:\n",
    "    print(\"error: cannot open the file\")"
   ]
  },
  {
   "cell_type": "code",
   "execution_count": 20,
   "id": "f7ac6bef",
   "metadata": {},
   "outputs": [
    {
     "name": "stdout",
     "output_type": "stream",
     "text": [
      "['Hello,', 'this', 'is', 'my', 'first', 'text', 'file.']\n"
     ]
    }
   ],
   "source": [
    "for line in f:\n",
    "    \n",
    "    print(line.split())\n",
    "    \n",
    "f.close()"
   ]
  },
  {
   "cell_type": "markdown",
   "id": "c93ef219",
   "metadata": {},
   "source": [
    "## CSV Files\n",
    "\n",
    "Comma-separated values (CSV) are an easy way to exchange data -- you can generate these from a spreadsheet program.\n",
    "\n",
    "In the example below, we are assuming that the first line of the spreadsheet/csv file gives the headings that identify the columns.  \n",
    "\n",
    "Note that there is an amazing amount of variation in terms of what can be in a CSV file and what the format is -- the csv module does a good job sorting this all out for you."
   ]
  },
  {
   "cell_type": "code",
   "execution_count": 23,
   "id": "b2477284",
   "metadata": {},
   "outputs": [],
   "source": [
    "class Item(object):\n",
    "    \n",
    "    # Init function\n",
    "    def __int__(self):\n",
    "        self.name = \"\"\n",
    "        self.quantity = 0\n",
    "        self.unitprice = 0.0\n",
    "        self.total = 0.0"
   ]
  },
  {
   "cell_type": "code",
   "execution_count": 25,
   "id": "8a0dac4c",
   "metadata": {},
   "outputs": [],
   "source": [
    "# Import CSV library\n",
    "\n",
    "import csv"
   ]
  },
  {
   "cell_type": "code",
   "execution_count": null,
   "id": "52fc5820",
   "metadata": {},
   "outputs": [],
   "source": [
    "# We want to define reader\n",
    "\n",
    "reader = csv.reader(open(\"shoppin.csv\", \"\"))"
   ]
  }
 ],
 "metadata": {
  "kernelspec": {
   "display_name": "Python 3 (ipykernel)",
   "language": "python",
   "name": "python3"
  },
  "language_info": {
   "codemirror_mode": {
    "name": "ipython",
    "version": 3
   },
   "file_extension": ".py",
   "mimetype": "text/x-python",
   "name": "python",
   "nbconvert_exporter": "python",
   "pygments_lexer": "ipython3",
   "version": "3.9.12"
  }
 },
 "nbformat": 4,
 "nbformat_minor": 5
}
