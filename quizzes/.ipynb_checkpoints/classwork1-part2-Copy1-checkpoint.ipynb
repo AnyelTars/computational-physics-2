{
 "cells": [
  {
   "cell_type": "markdown",
   "id": "e6d600d5",
   "metadata": {},
   "source": [
    "# Classwork 1 (part 2) - Computational Physics 2\n",
    "\n",
    "- When you finish this part, please send the **.ipynb file** via email to wbanda@yachaytech.edu.ec\n",
    "\n",
    "\n",
    "- This part can be done **individually or in pairs.**\n",
    "\n",
    "\n",
    "- You can call your notebook with your surname/s, e.g. **name-CW1p2.ipynb**, and also include your name/s on the notebook.\n",
    "\n",
    "\n",
    "## Instructions:\n",
    "\n",
    "- **Deadline: Tuesday 14 November 2023 (by 19h00)**\n",
    "\n",
    "\n",
    "- **Do not copy code from the Internet.**"
   ]
  },
  {
   "cell_type": "markdown",
   "id": "23199e35",
   "metadata": {},
   "source": [
    "## Name/s:"
   ]
  },
  {
   "cell_type": "markdown",
   "id": "3229cb6e",
   "metadata": {},
   "source": [
    "### 6. (10 points) Turbulence (Python classes for Fourier analysis)\n",
    "\n",
    "We want to study the spectral properties of turbulent flows using Fourier analysis. Let us consider an isothermal turbulence-in-a-box simulation:\n",
    "\n",
    "https://github.com/wbandabarragan/computational-physics-2/tree/main/quizzes/TURB_DRIVE_SUP_hr.zip\n",
    "\n",
    "This simulation introduces a stochastic force field to generate turbulent motions in an isothermal ($\\gamma=1$) gas initially at rest. Turbulence is continuously generated throughout the whole simulation time.\n",
    "\n",
    "The simulation folder contains 101 VTK files, jointly with:\n",
    "\n",
    "- a **units.out** file that contains the CGS normalisation values.\n",
    "- a **vtk.out** file whose second column contains the times in code units.\n",
    "- a **grid.out** file that contains information on the grid structure.\n",
    "\n",
    "Each VTK file stores the following fields:\n",
    "\n",
    "- density (rho)\n",
    "- velocity_x (vx1)\n",
    "- velocity_y (vx2)\n",
    "- magnetic_field_x (Bx1)\n",
    "- magnetic_field_y (Bx2)\n",
    "\n",
    "Design and organise your python code into a standalone module using object-oriented programming, i.e. python classes. Your module should have python classes with fixed parameters as attributes and functions as methods, which together should perform the following tasks: \n",
    "\n",
    "(a) Read and return the above data fields normalised in CGS units for any input VTK file.\n",
    "\n",
    "(b) Make 2D maps of any scalar or vector field, and scatter plots of any pair of variables. **Optional:** Remember that for high-resolution vector field maps, visualisation can be improved by adjusting the grid resolution via interpolation.\n",
    "\n",
    "(c) Carry out 2D Fourier transforms of any scalar field and return its 2D Fourier field (spectrum) with its corresponding frequencies (in the correct units).\n",
    "\n",
    "(d) Produce a 1D Fourier spectrum with the accompanying frequencies, from a 2D Fourier image by computing radial sums over different radii.\n",
    "\n",
    "(e) Apply a high-pass filter and Gaussian blurring to any 2D scalar fields.\n",
    "\n",
    "(f) Collect a set of 2D images and return a GIF animation.\n",
    "\n",
    "\n",
    "Then, create a python notebook where you import and use your own module to show the following results for the VTK file # 40:\n",
    "\n",
    "(g) Display maps of the velocity vector field and the magnetic vector field.\n",
    "\n",
    "(h) Display maps of the original density field and its 2D Fourier spectrum.\n",
    "\n",
    "(i) Display a scatter plot of the 1D Fourier spectrum together with labels identifying the turbulence generation, transfer, and dissipation regions. Finally, carry out a linear regression considering only the points associated with the inertial range. Does the spectrum follow Kolmogorov spectrum, \n",
    " \n",
    "?\n",
    "\n",
    "(j) Display the original density field, its high-pass filter map, and two images blurred with two different Gaussian variances.\n",
    "\n",
    "(k) Display a movie showing the time evolution og the high-pass filter density maps. What are you capturing in these maps?\n",
    "\n",
    "\n",
    "#### References:\n",
    "\n",
    "Please revise the relevant material on Fourier analysis in the Computational Physics 1 repository:\n",
    "\n",
    "https://github.com/wbandabarragan/computational-physics-1"
   ]
  },
  {
   "cell_type": "code",
   "execution_count": null,
   "id": "7d5aa2c8",
   "metadata": {},
   "outputs": [],
   "source": []
  }
 ],
 "metadata": {
  "kernelspec": {
   "display_name": "Python 3 (ipykernel)",
   "language": "python",
   "name": "python3"
  },
  "language_info": {
   "codemirror_mode": {
    "name": "ipython",
    "version": 3
   },
   "file_extension": ".py",
   "mimetype": "text/x-python",
   "name": "python",
   "nbconvert_exporter": "python",
   "pygments_lexer": "ipython3",
   "version": "3.7.16"
  }
 },
 "nbformat": 4,
 "nbformat_minor": 5
}
