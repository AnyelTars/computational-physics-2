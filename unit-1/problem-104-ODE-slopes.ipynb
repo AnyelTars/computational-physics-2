{
 "cells": [
  {
   "cell_type": "markdown",
   "id": "f5b72314",
   "metadata": {},
   "source": [
    "# ODE exercise 1:\n",
    "The differential equation $\\frac{dy(t)}{dt} = 3t^2 + \\sin(t)$ with initial condition $y(0) = 2$.\n",
    "\n",
    "(a) Find the analytical solutions using sympy.\n",
    "\n",
    "(b) Approximate the solution to this initial value problem between 0 and 3 in increments of 0.1 and 0.01 using the Explicit, Implicit and Trapezoidal Euler Formulae.\n",
    "\n",
    "(c) Plot the difference between the approximated solutions and the exact solution. "
   ]
  },
  {
   "cell_type": "code",
   "execution_count": 1,
   "id": "b6c274fb",
   "metadata": {},
   "outputs": [],
   "source": [
    "#Part a\n",
    "import numpy as np\n",
    "import matplotlib.pyplot as plt\n",
    "\n",
    "import sympy as sp\n",
    "from sympy import sin"
   ]
  },
  {
   "cell_type": "code",
   "execution_count": 2,
   "id": "f50a126f",
   "metadata": {},
   "outputs": [],
   "source": [
    "# Define symbols\n",
    "\n",
    "y = sp.symbols(\"y\", cls = sp.Function)\n",
    "t = sp.symbols(\"t\")"
   ]
  },
  {
   "cell_type": "code",
   "execution_count": 3,
   "id": "1ee98b61",
   "metadata": {},
   "outputs": [
    {
     "data": {
      "text/latex": [
       "$\\displaystyle - 3 t^{2} - \\sin{\\left(t \\right)} + \\frac{d}{d t} y{\\left(t \\right)} = 0$"
      ],
      "text/plain": [
       "Eq(-3*t**2 - sin(t) + Derivative(y(t), t), 0)"
      ]
     },
     "metadata": {},
     "output_type": "display_data"
    }
   ],
   "source": [
    "# Define ODE\n",
    "\n",
    "diffeq = sp.Eq(y(t).diff(t)- 3*t**2 - sin(t), 0)\n",
    "\n",
    "display(diffeq)"
   ]
  },
  {
   "cell_type": "code",
   "execution_count": 4,
   "id": "5da236fe",
   "metadata": {},
   "outputs": [
    {
     "data": {
      "text/latex": [
       "$\\displaystyle y{\\left(t \\right)} = t^{3} - \\cos{\\left(t \\right)} + 3$"
      ],
      "text/plain": [
       "Eq(y(t), t**3 - cos(t) + 3)"
      ]
     },
     "metadata": {},
     "output_type": "display_data"
    }
   ],
   "source": [
    "# Solve the ODE:\n",
    "\n",
    "result = sp.dsolve(diffeq, y(t), ics = {y(0):2})\n",
    "\n",
    "display(result)"
   ]
  },
  {
   "cell_type": "markdown",
   "id": "58575bf3",
   "metadata": {},
   "source": [
    "### Plotting:"
   ]
  },
  {
   "cell_type": "code",
   "execution_count": 5,
   "id": "3419f655",
   "metadata": {},
   "outputs": [],
   "source": [
    "# Define function f(t)\n",
    "\n",
    "b = 3\n",
    "\n",
    "y_t = lambda t: t**3 - np.cos(t) + 3 # this is y(t)\n",
    "\n",
    "# Spacing\n",
    "h_1 = 0.1\n",
    "h_2 = 0.01\n",
    "\n",
    "# t_axis\n",
    "\n",
    "t_1 = np.arange(0, b + h_1, h_1)\n",
    "t_2 = np.arange(0, b + h_2, h_2)\n",
    "\n",
    "# Initial conditions\n",
    "y0 = 2."
   ]
  },
  {
   "cell_type": "code",
   "execution_count": 7,
   "id": "efe5b4d9",
   "metadata": {},
   "outputs": [],
   "source": [
    "yval = []\n",
    "\n",
    "for i in t_1:\n",
    "    yval.append(result.subs(t,i).args[1])\n",
    "    \n",
    "yval = np.array(yval)"
   ]
  },
  {
   "cell_type": "code",
   "execution_count": 9,
   "id": "7a10f83e",
   "metadata": {},
   "outputs": [
    {
     "data": {
      "image/png": "[encoded data removed]",
      "text/plain": [
       "<Figure size 800x600 with 1 Axes>"
      ]
     },
     "metadata": {},
     "output_type": "display_data"
    }
   ],
   "source": [
    "# Plotting\n",
    "\n",
    "plt.figure(figsize = (8,6))\n",
    "\n",
    "plt.plot(t_1, y_t(t_1), \"g\", label = \"Exact solution\")\n",
    "plt.plot(t_1, yval, \"r\", linestyle = \":\", label = \"Exact solution\")\n",
    "\n",
    "plt.xlabel('t')\n",
    "plt.ylabel('f(t)')\n",
    "\n",
    "#plt.xlim(-2.0,2.0)\n",
    "#plt.ylim(-20,20)\n",
    "\n",
    "plt.legend()\n",
    "plt.show()"
   ]
  },
  {
   "cell_type": "code",
   "execution_count": 10,
   "id": "c892e60e",
   "metadata": {},
   "outputs": [],
   "source": [
    "#Define Slope\n",
    "\n",
    "def f_ode(t, y):\n",
    "    return 3*t**2 + np.sin(t)"
   ]
  },
  {
   "cell_type": "code",
   "execution_count": 11,
   "id": "7ecb2c1f",
   "metadata": {},
   "outputs": [],
   "source": [
    "# Part b\n",
    "\n",
    "# Functions to carry out Euler integration\n",
    "\n",
    "def explicit_euler(t_axis, h_step):\n",
    "    # define the solution vector\n",
    "    y_sln = np.zeros(len(t_axis)) # associated with h_1\n",
    "\n",
    "    # Assign Initial Condition\n",
    "    y_sln[0] = y0\n",
    "\n",
    "    # ODE integration\n",
    "    for k in range(0, len(t_axis) - 1):\n",
    "        y_sln[k + 1] = y_sln[k] + h_step*f_ode(t_axis[k], y_sln[k])\n",
    "\n",
    "    return y_sln\n",
    "\n",
    "\n",
    "def implicit_euler(t_axis, h_step):\n",
    "    \n",
    "    # define the y_sln vectors\n",
    "    y_sln = np.zeros(len(t_axis)) # associated with h\n",
    "\n",
    "    # add initial conditions\n",
    "    y_sln[0] = y0\n",
    "\n",
    "    # loop to fill up y_sln\n",
    "    for k in range(0, len(t_axis) - 1):\n",
    "        #print(y_sln[k + 1])\n",
    "        y_sln[k + 1] = y_sln[k] + h_step*f_ode(t_axis[k + 1], y_sln[k + 1])\n",
    "        #print(y_sln)\n",
    "        \n",
    "    return y_sln\n",
    "\n",
    "\n",
    "def trapezoidal_euler(t_axis, h_step):\n",
    "    \n",
    "    # define the y_sln vectors\n",
    "    y_sln = np.zeros(len(t_axis)) # associated with h\n",
    "\n",
    "    # add initial conditions\n",
    "    y_sln[0] = y0\n",
    "\n",
    "    # loop to fill up y_sln\n",
    "    for k in range(0, len(t_axis) - 1):\n",
    "        y_sln[k + 1] = y_sln[k] + h_step*(f_ode(t_axis[k], y_sln[k]) + f_ode(t_axis[k + 1], y_sln[k + 1]))/2\n",
    "        \n",
    "    return y_sln"
   ]
  },
  {
   "cell_type": "code",
   "execution_count": 12,
   "id": "d2e0882f",
   "metadata": {},
   "outputs": [
    {
     "data": {
      "image/png": "[encoded data removed]",
      "text/plain": [
       "<Figure size 800x600 with 1 Axes>"
      ]
     },
     "metadata": {},
     "output_type": "display_data"
    }
   ],
   "source": [
    "plt.figure(figsize = (8,6))\n",
    "\n",
    "plt.plot(t_1, y_t(t_1), \"g\", label = \"Exact solution\")\n",
    "plt.plot(t_1, explicit_euler(t_1, h_1), \"r\", linestyle =':', label = \"Explicit Euler solution, h=0.10\")\n",
    "plt.plot(t_1, implicit_euler(t_1, h_1), \"b\", linestyle =':', label = \"Implicit Euler solution, h=0.10\")\n",
    "plt.plot(t_1, trapezoidal_euler(t_1, h_1), \"magenta\", linestyle ='-.', label = \"Trapezoidal Euler solution, h=0.10\")\n",
    "\n",
    "plt.xlabel('t')\n",
    "plt.ylabel('y(t)')\n",
    "\n",
    "plt.legend()\n",
    "\n",
    "plt.show()"
   ]
  },
  {
   "cell_type": "code",
   "execution_count": null,
   "id": "b40258c3",
   "metadata": {},
   "outputs": [],
   "source": [
    "plt.figure(figsize = (8,6))\n",
    "\n",
    "#plt.plot(t_1, y_t(t_1), \"g\", label = \"Exact solution\")\n",
    "plt.plot(t_1, explicit_euler(t_1, h_1) - y_t(t_1), \"r\", linestyle =':', label = \"Explicit Euler solution, h=0.10\")\n",
    "plt.plot(t_1, implicit_euler(t_1, h_1) - y_t(t_1), \"b\", linestyle =':', label = \"Implicit Euler solution, h=0.10\")\n",
    "plt.plot(t_1, trapezoidal_euler(t_1, h_1) - y_t(t_1), \"magenta\", linestyle ='-.', label = \"Trapezoidal Euler solution, h=0.10\")\n",
    "\n",
    "plt.xlabel('t')\n",
    "plt.ylabel('y(t)')\n",
    "\n",
    "plt.legend()\n",
    "\n",
    "plt.show()"
   ]
  },
  {
   "cell_type": "markdown",
   "id": "b891ae0e",
   "metadata": {},
   "source": [
    "# ODE exercise 2:\n",
    "\n",
    "The differential equation $\\frac{dy(t)}{dt} = \\frac{t-y}{2}$ with initial condition $y(0) = 1$.\n",
    "\n",
    "(a) Find the analytical solutions using sympy.\n",
    "\n",
    "(b) Approximate the solution to this initial value problem between 0 and 3 in increments of 0.1 and 0.01 using the Explicit, Implicit and Trapezoidal Euler Formulae.\n",
    "\n",
    "(c) Plot the difference between the approximated solutions and the exact solution. "
   ]
  },
  {
   "cell_type": "code",
   "execution_count": null,
   "id": "5c36729a",
   "metadata": {},
   "outputs": [],
   "source": [
    "# Part (a)\n",
    "# Define symbols\n",
    "\n",
    "y = sp.symbols(\"y\", cls = sp.Function)\n",
    "t = sp.symbols(\"t\")"
   ]
  },
  {
   "cell_type": "code",
   "execution_count": null,
   "id": "ecfca8ab",
   "metadata": {},
   "outputs": [],
   "source": [
    "# Define ODE\n",
    "\n",
    "diffeq = sp.Eq(y(t).diff(t) + y(t)/2 - t/2, 0)\n",
    "\n",
    "display(diffeq)"
   ]
  },
  {
   "cell_type": "code",
   "execution_count": null,
   "id": "e6b0d2c9",
   "metadata": {},
   "outputs": [],
   "source": [
    "# Solve the ODE:\n",
    "\n",
    "result = sp.dsolve(diffeq, y(t), ics = {y(0):1})\n",
    "\n",
    "display(result)"
   ]
  },
  {
   "cell_type": "markdown",
   "id": "ecc418f0",
   "metadata": {},
   "source": [
    "### Plotting:"
   ]
  },
  {
   "cell_type": "code",
   "execution_count": null,
   "id": "484e7e63",
   "metadata": {},
   "outputs": [],
   "source": [
    "# Define function f(t)\n",
    "\n",
    "y_t = lambda t, s: t - 2 + 3*np.exp(-t/2) # this is y(t)\n",
    "\n",
    "# Spacing\n",
    "h_1 = 0.1\n",
    "h_2 = 0.01\n",
    "\n",
    "# t_axis\n",
    "\n",
    "t_1 = np.arange(0, 3 + h_1, h_1)\n",
    "t_2 = np.arange(0, 3 + h_2, h_2)\n",
    "\n",
    "# Initial conditions\n",
    "y0 = 1."
   ]
  },
  {
   "cell_type": "code",
   "execution_count": null,
   "id": "67f36277",
   "metadata": {},
   "outputs": [],
   "source": [
    "# Plotting\n",
    "\n",
    "plt.figure(figsize = (8,6))\n",
    "\n",
    "plt.plot(t_1, y_t(t_1, y0), \"g\", label = \"Exact solution\")\n",
    "\n",
    "plt.xlabel('t')\n",
    "plt.ylabel('f(t)')\n",
    "\n",
    "plt.legend()\n",
    "plt.show()"
   ]
  },
  {
   "cell_type": "code",
   "execution_count": null,
   "id": "bf68027c",
   "metadata": {},
   "outputs": [],
   "source": [
    "# Part b \n",
    "\n",
    "# Define the slope\n",
    "\n",
    "def f_ode(t, y):\n",
    "    return (t - y)/2"
   ]
  },
  {
   "cell_type": "markdown",
   "id": "75285448",
   "metadata": {},
   "source": [
    "### Explicit Euler Method:\n",
    "\n",
    "We want to implement:\n",
    "\n",
    "$$\n",
    "S(t_{j+1}) = S(t_j) + hF(t_j, S(t_j)).\n",
    "$$"
   ]
  },
  {
   "cell_type": "code",
   "execution_count": null,
   "id": "c0962f2e",
   "metadata": {},
   "outputs": [],
   "source": [
    "def explicit_euler(t_axis, h_step):\n",
    "    # define the solution vector\n",
    "    y_sln = np.zeros(len(t_axis)) # associated with h_1\n",
    "\n",
    "    # Assign Initial Condition\n",
    "    y_sln[0] = y0\n",
    "\n",
    "    # ODE integration\n",
    "    for k in range(0, len(t_axis) - 1):\n",
    "        y_sln[k + 1] = y_sln[k] + h_step*f_ode(t_axis[k], y_sln[k])\n",
    "\n",
    "    return y_sln"
   ]
  },
  {
   "cell_type": "code",
   "execution_count": null,
   "id": "7ba46d9f",
   "metadata": {},
   "outputs": [],
   "source": [
    "plt.figure(figsize = (8,6))\n",
    "\n",
    "plt.plot(t_1, y_t(t_1, y0), \"g\", label = \"Exact solution\")\n",
    "plt.plot(t_1, explicit_euler(t_1, h_1), \"r\", linestyle = \":\", label = \"Explicit Euler solution\")\n",
    "\n",
    "\n",
    "plt.xlabel('t')\n",
    "plt.ylabel('f(t)')\n",
    "\n",
    "plt.legend()\n",
    "plt.show()\n",
    "\n"
   ]
  },
  {
   "cell_type": "markdown",
   "id": "cc0f5fed",
   "metadata": {},
   "source": [
    "The **Implicit Euler Formula** can be derived by taking the linear approximation of $S(t)$ around $t_{j+1}$ and computing it at $t_j$:\n",
    "\n",
    "$$\n",
    "S(t_{j+1}) = S(t_j) + hF(t_{j+1}, S(t_{j+1})).\n",
    "$$\n"
   ]
  },
  {
   "cell_type": "code",
   "execution_count": null,
   "id": "cd71e879",
   "metadata": {},
   "outputs": [],
   "source": [
    "def implicit_euler(t_axis, h_step):\n",
    "    \n",
    "    # define the y_sln vectors\n",
    "    y_sln = np.zeros(len(t_axis)) # associated with h\n",
    "\n",
    "    # add initial conditions\n",
    "    y_sln[0] = y0\n",
    "\n",
    "    # loop to fill up y_sln\n",
    "    for k in range(0, len(t_axis) - 1):\n",
    "        y_sln[k + 1] = y_sln[k] + h_step*f_ode(t_axis[k], y_sln[k])\n",
    "        y_sln[k + 1] = y_sln[k] + h_step*f_ode(t_axis[k + 1], y_sln[k + 1])\n",
    "        #print(y_sln)\n",
    "        \n",
    "    return y_sln"
   ]
  },
  {
   "cell_type": "code",
   "execution_count": null,
   "id": "9ea3c61d",
   "metadata": {},
   "outputs": [],
   "source": [
    "plt.figure(figsize = (8,6))\n",
    "\n",
    "plt.plot(t_1, y_t(t_1, y0), \"g\", label = \"Exact solution\")\n",
    "plt.plot(t_1, explicit_euler(t_1, h_1), \"r\", linestyle = \":\", label = \"Explicit Euler solution\")\n",
    "plt.plot(t_1, implicit_euler(t_1, h_1), \"b\", linestyle = \"--\", label = \"Implicit Euler solution\")\n",
    "\n",
    "plt.xlabel('t')\n",
    "plt.ylabel('f(t)')\n",
    "\n",
    "plt.legend()\n",
    "plt.show()\n"
   ]
  },
  {
   "cell_type": "code",
   "execution_count": null,
   "id": "40e9c572",
   "metadata": {},
   "outputs": [],
   "source": [
    "def trapezoidal_euler(t_axis, h_step):\n",
    "    \n",
    "    # define the y_sln vectors\n",
    "    y_sln = np.zeros(len(t_axis)) # associated with h\n",
    "\n",
    "    # add initial conditions\n",
    "    y_sln[0] = y0\n",
    "\n",
    "    # loop to fill up y_sln\n",
    "    for k in range(0, len(t_axis) - 1):\n",
    "        y_sln[k + 1] = y_sln[k] + h_step*f_ode(t_axis[k], y_sln[k])\n",
    "        y_sln[k + 1] = y_sln[k] + h_step*(f_ode(t_axis[k], y_sln[k]) + f_ode(t_axis[k + 1], y_sln[k + 1]))/2\n",
    "        \n",
    "    return y_sln"
   ]
  },
  {
   "cell_type": "code",
   "execution_count": null,
   "id": "ddb815f5",
   "metadata": {},
   "outputs": [],
   "source": [
    "plt.figure(figsize = (8,6))\n",
    "\n",
    "plt.plot(t_1, y_t(t_1, y0), \"g\", label = \"Exact solution\")\n",
    "plt.plot(t_1, explicit_euler(t_1, h_1), \"r\", linestyle =':', label = \"Explicit Euler solution, h=0.1\")\n",
    "plt.plot(t_1, implicit_euler(t_1, h_1), \"magenta\", linestyle ='-', label = \"Implicit Euler solution, h=0.1\")\n",
    "plt.plot(t_1, trapezoidal_euler(t_1, h_1), \"b\", linestyle ='-.', label = \"Trapezoidal Euler solution, h=0.1\")\n",
    "\n",
    "plt.xlabel('t')\n",
    "plt.ylabel('y(t)')\n",
    "\n",
    "plt.legend()\n",
    "plt.show()"
   ]
  },
  {
   "cell_type": "code",
   "execution_count": null,
   "id": "251d2532",
   "metadata": {},
   "outputs": [],
   "source": [
    "plt.figure(figsize = (8,6))\n",
    "\n",
    "plt.plot(t_2, y_t(t_2, y0), \"g\", label = \"Exact solution\")\n",
    "plt.plot(t_2, explicit_euler(t_2, h_2), \"r\", linestyle =':', label = \"Explicit Euler solution, h=0.01\")\n",
    "plt.plot(t_2, implicit_euler(t_2, h_2), \"magenta\", linestyle ='-', label = \"Implicit Euler solution, h=0.01\")\n",
    "plt.plot(t_2, trapezoidal_euler(t_2, h_2), \"b\", linestyle ='-.', label = \"Trapezoidal Euler solution, h=0.01\")\n",
    "\n",
    "plt.xlabel('t')\n",
    "plt.ylabel('y(t)')\n",
    "\n",
    "plt.legend()\n",
    "plt.show()"
   ]
  },
  {
   "cell_type": "code",
   "execution_count": null,
   "id": "6fac4df1",
   "metadata": {},
   "outputs": [],
   "source": []
  },
  {
   "cell_type": "code",
   "execution_count": null,
   "id": "66eefe41",
   "metadata": {},
   "outputs": [],
   "source": []
  }
 ],
 "metadata": {
  "kernelspec": {
   "display_name": "Python 3 (ipykernel)",
   "language": "python",
   "name": "python3"
  },
  "language_info": {
   "codemirror_mode": {
    "name": "ipython",
    "version": 3
   },
   "file_extension": ".py",
   "mimetype": "text/x-python",
   "name": "python",
   "nbconvert_exporter": "python",
   "pygments_lexer": "ipython3",
   "version": "3.7.16"
  }
 },
 "nbformat": 4,
 "nbformat_minor": 5
}
