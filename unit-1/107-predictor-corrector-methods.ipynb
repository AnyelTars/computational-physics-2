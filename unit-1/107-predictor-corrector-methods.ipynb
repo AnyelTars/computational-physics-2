{
 "cells": [
  {
   "cell_type": "markdown",
   "id": "fa4977c3",
   "metadata": {},
   "source": [
    "## Predictor-Corrector Methods\n",
    "\n",
    "Given any time and state value, the function, $F(t, S(t))$, returns the change of state $\\frac{dS(t)}{dt}$. **Predictor-corrector** methods of solving initial value problems improve the approximation accuracy of non-predictor-corrector methods by querying the $F$ function several times at different locations (predictions), and then using a weighted average of the results (corrections) to update the state. Essentially, it uses two formulas: the **predictor** and **corrector**. The predictor is an explicit formula and first estimates the solution at $t_{j+1}$, i.e. we can use Euler method or some other methods to finish this step. After we obtain the solution $S(t_{j+1})$, we can apply the corrector to improve the accuracy. Using the found $S(t_{j+1})$ on the right-hand side of an otherwise implicit formula, the corrector can calculate a new, more accurate solution. \n",
    "\n",
    "The **midpoint method** has a predictor step:\n",
    "\n",
    "$$\n",
    "S\\left(t_{j} + \\frac{h}{2}\\right) = S(t_j) + \\frac{h}{2}F(t_j, S(t_j)),\n",
    "$$\n",
    "\n",
    "which is the prediction of the solution value halfway between $t_j$ and $t_{j+1}$.\n",
    "\n",
    "It then computes the corrector step:\n",
    "\n",
    "$$\n",
    "S(t_{j+1}) = S(t_j) + hF\\left(t_j + \\frac{h}{2}, S\\left(t_{j} +\n",
    "\\frac{h}{2}\\right)\\right) $$ \n",
    "\n",
    "which computes the solution at $S(t_{j+1})$ from $S(t_j)$ but using the derivative from $S\\left(t_{j} + \\frac{h}{2}\\right)$."
   ]
  },
  {
   "cell_type": "code",
   "execution_count": null,
   "id": "381b36ef",
   "metadata": {},
   "outputs": [],
   "source": []
  }
 ],
 "metadata": {
  "kernelspec": {
   "display_name": "Python 3 (ipykernel)",
   "language": "python",
   "name": "python3"
  },
  "language_info": {
   "codemirror_mode": {
    "name": "ipython",
    "version": 3
   },
   "file_extension": ".py",
   "mimetype": "text/x-python",
   "name": "python",
   "nbconvert_exporter": "python",
   "pygments_lexer": "ipython3",
   "version": "3.7.13"
  }
 },
 "nbformat": 4,
 "nbformat_minor": 5
}
