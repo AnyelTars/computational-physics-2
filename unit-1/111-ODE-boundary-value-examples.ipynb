{
 "cells": [
  {
   "cell_type": "markdown",
   "id": "7cd7042e",
   "metadata": {},
   "source": [
    "## Example (Shooting Method):\n",
    "\n",
    "Solve the following 2nd order ordinary differential equation using the shooting method:\n",
    "\n",
    "$$\\frac{d^2f(x)}{dx^2} = \\frac{df(x)}{dx} + 3$$\n",
    "\n",
    "if the independent variable is over the domain of [0, 20], and we know the boundary values:\n",
    "\n",
    "$f(0)  = 10$\n",
    "\n",
    "$f(20) = 10^6$"
   ]
  },
  {
   "cell_type": "code",
   "execution_count": null,
   "id": "b28d57b1",
   "metadata": {},
   "outputs": [],
   "source": []
  },
  {
   "cell_type": "markdown",
   "id": "e277d3c5",
   "metadata": {},
   "source": [
    "## Example (Finite Differences Method):\n",
    "\n",
    "Solve the following 2nd order ordinary differential equation using the finite difference method:\n",
    "\n",
    "$$\\frac{d^2f(x)}{dx^2} = \\frac{df(x)}{dx} + 3$$\n",
    "\n",
    "if the independent variable is over the domain of [0, 20], and we know the boundary values:\n",
    "\n",
    "$f(0)  = 10$\n",
    "\n",
    "$f(20) = 10^6$"
   ]
  },
  {
   "cell_type": "code",
   "execution_count": null,
   "id": "62dec807",
   "metadata": {},
   "outputs": [],
   "source": []
  }
 ],
 "metadata": {
  "kernelspec": {
   "display_name": "Python 3 (ipykernel)",
   "language": "python",
   "name": "python3"
  },
  "language_info": {
   "codemirror_mode": {
    "name": "ipython",
    "version": 3
   },
   "file_extension": ".py",
   "mimetype": "text/x-python",
   "name": "python",
   "nbconvert_exporter": "python",
   "pygments_lexer": "ipython3",
   "version": "3.7.13"
  }
 },
 "nbformat": 4,
 "nbformat_minor": 5
}
