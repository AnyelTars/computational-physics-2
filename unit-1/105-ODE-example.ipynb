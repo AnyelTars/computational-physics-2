{
 "cells": [
  {
   "cell_type": "markdown",
   "id": "f5b72314",
   "metadata": {},
   "source": [
    "# ODE exercise:\n",
    "The differential equation $\\frac{dy(t)}{dt} = 3t^2 + \\sin(t)$ with initial condition $y(0) = 2$.\n",
    "\n",
    "(a) Find the analytical solutions using sympy.\n",
    "\n",
    "(b) Approximate the solution to this initial value problem between 0 and 3 in increments of 0.1 and 0.01 using the Explicity, Implicit and Trapezoidal Euler Formulae.\n",
    "\n",
    "(c) Plot the difference between the approximated solutions and the exact solution. "
   ]
  }
 ],
 "metadata": {
  "kernelspec": {
   "display_name": "Python 3 (ipykernel)",
   "language": "python",
   "name": "python3"
  },
  "language_info": {
   "codemirror_mode": {
    "name": "ipython",
    "version": 3
   },
   "file_extension": ".py",
   "mimetype": "text/x-python",
   "name": "python",
   "nbconvert_exporter": "python",
   "pygments_lexer": "ipython3",
   "version": "3.9.12"
  }
 },
 "nbformat": 4,
 "nbformat_minor": 5
}
