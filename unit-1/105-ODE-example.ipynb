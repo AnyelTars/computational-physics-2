{
 "cells": [
  {
   "cell_type": "markdown",
   "id": "f5b72314",
   "metadata": {},
   "source": [
    "# ODE exercise 1:\n",
    "The differential equation $\\frac{dy(t)}{dt} = 3t^2 + \\sin(t)$ with initial condition $y(0) = 2$.\n",
    "\n",
    "(a) Find the analytical solutions using sympy.\n",
    "\n",
    "(b) Approximate the solution to this initial value problem between 0 and 3 in increments of 0.1 and 0.01 using the Explicit, Implicit and Trapezoidal Euler Formulae.\n",
    "\n",
    "(c) Plot the difference between the approximated solutions and the exact solution. "
   ]
  },
  {
   "cell_type": "code",
   "execution_count": 2,
   "id": "dc4280b5",
   "metadata": {},
   "outputs": [],
   "source": [
    "#Part a\n",
    "import numpy as np\n",
    "import matplotlib.pyplot as plt\n",
    "\n",
    "import sympy as sp\n",
    "from sympy import sin"
   ]
  },
  {
   "cell_type": "code",
   "execution_count": 3,
   "id": "c5689653",
   "metadata": {},
   "outputs": [],
   "source": [
    "# Define symbols\n",
    "\n",
    "y = sp.symbols(\"y\", cls = sp.Function)\n",
    "t = sp.symbols(\"t\")"
   ]
  },
  {
   "cell_type": "code",
   "execution_count": 4,
   "id": "2528df96",
   "metadata": {},
   "outputs": [
    {
     "data": {
      "text/latex": [
       "$\\displaystyle - 3 t^{2} - \\sin{\\left(t \\right)} + \\frac{d}{d t} y{\\left(t \\right)} = 0$"
      ],
      "text/plain": [
       "Eq(-3*t**2 - sin(t) + Derivative(y(t), t), 0)"
      ]
     },
     "metadata": {},
     "output_type": "display_data"
    }
   ],
   "source": [
    "# Define ODE\n",
    "\n",
    "diffeq = sp.Eq(y(t).diff(t)- 3*t**2 - sin(t), 0)\n",
    "\n",
    "display(diffeq)"
   ]
  },
  {
   "cell_type": "code",
   "execution_count": 5,
   "id": "5a1337bb",
   "metadata": {},
   "outputs": [
    {
     "data": {
      "text/latex": [
       "$\\displaystyle y{\\left(t \\right)} = t^{3} - \\cos{\\left(t \\right)} + 3$"
      ],
      "text/plain": [
       "Eq(y(t), t**3 - cos(t) + 3)"
      ]
     },
     "metadata": {},
     "output_type": "display_data"
    }
   ],
   "source": [
    "# Solve the ODE:\n",
    "\n",
    "result = sp.dsolve(diffeq, y(t), ics = {y(0):2})\n",
    "\n",
    "display(result)"
   ]
  },
  {
   "cell_type": "markdown",
   "id": "8d3d3e96",
   "metadata": {},
   "source": [
    "### Plotting:"
   ]
  },
  {
   "cell_type": "code",
   "execution_count": 6,
   "id": "00567023",
   "metadata": {},
   "outputs": [],
   "source": [
    "# Define function f(t)\n",
    "\n",
    "b = 3\n",
    "\n",
    "y_t = lambda t: t**3 - np.cos(t) + 3 # this is y(t)\n",
    "\n",
    "# Spacing\n",
    "h_1 = 0.1\n",
    "h_2 = 0.01\n",
    "\n",
    "# t_axis\n",
    "\n",
    "t_1 = np.arange(0, b + h_1, h_1)\n",
    "t_2 = np.arange(0, b + h_2, h_2)\n",
    "\n",
    "# Initial conditions\n",
    "y0 = 2."
   ]
  },
  {
   "cell_type": "code",
   "execution_count": 8,
   "id": "81da671a",
   "metadata": {},
   "outputs": [
    {
     "data": {
      "image/png": "[encoded data removed]",
      "text/plain": [
       "<Figure size 576x432 with 1 Axes>"
      ]
     },
     "metadata": {
      "needs_background": "light"
     },
     "output_type": "display_data"
    }
   ],
   "source": [
    "# Plotting\n",
    "\n",
    "plt.figure(figsize = (8,6))\n",
    "\n",
    "plt.plot(t_1, y_t(t_1), \"g\", label = \"Exact solution\")\n",
    "\n",
    "plt.xlabel('t')\n",
    "plt.ylabel('f(t)')\n",
    "\n",
    "#plt.xlim(-2.0,2.0)\n",
    "#plt.ylim(-20,20)\n",
    "\n",
    "plt.legend()\n",
    "plt.show()"
   ]
  },
  {
   "cell_type": "markdown",
   "id": "102fc0e0",
   "metadata": {},
   "source": [
    "# ODE exercise 2:\n",
    "\n",
    "The differential equation $\\frac{dy(t)}{dt} = \\frac{t-y}{2}$ with initial condition $y(0) = 1$.\n",
    "\n",
    "(a) Find the analytical solutions using sympy.\n",
    "\n",
    "(b) Approximate the solution to this initial value problem between 0 and 3 in increments of 0.1 and 0.01 using the Explicit, Implicit and Trapezoidal Euler Formulae.\n",
    "\n",
    "(c) Plot the difference between the approximated solutions and the exact solution. "
   ]
  }
 ],
 "metadata": {
  "kernelspec": {
   "display_name": "Python 3 (ipykernel)",
   "language": "python",
   "name": "python3"
  },
  "language_info": {
   "codemirror_mode": {
    "name": "ipython",
    "version": 3
   },
   "file_extension": ".py",
   "mimetype": "text/x-python",
   "name": "python",
   "nbconvert_exporter": "python",
   "pygments_lexer": "ipython3",
   "version": "3.9.12"
  }
 },
 "nbformat": 4,
 "nbformat_minor": 5
}
