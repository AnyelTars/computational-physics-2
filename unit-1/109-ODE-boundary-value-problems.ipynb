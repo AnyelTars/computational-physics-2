{
 "cells": [
  {
   "cell_type": "markdown",
   "id": "c8eb0126",
   "metadata": {},
   "source": [
    "# ODE Boundary Value Problems\n",
    "\n",
    "## Context:\n",
    "\n",
    "- In **initial value problems**, all the known values are specified at the same point of the independent variable, e.g. at the lower boundary ('initial value') of the interval.\n",
    "\n",
    "- In **boundary value problems**, the know values are specified at the extremes ('boundary values') of the independent variable.\n",
    "\n",
    "\n",
    "## Boundary-value problem:\n",
    "\n",
    "The boundary value problem statement for an $n$th-order ordinary differential equation is stated as:\n",
    "\n",
    "$$\n",
    "F\\left(x, f(x), \\frac{df(x)}{dx}, \\frac{d^2f(x)}{dx^2}, \\frac{d^3f(x)}{dx^3}, \\ldots, \\frac{d^{n-1}f(x)}{dx^{n-1}}\\right) = \\frac{d^{n}f(x)}{dx^{n}},\n",
    "$$\n",
    "\n",
    "- To solve this equation on an interval of $x\\in[a, b]$, we need $n$ known boundary conditions at value $a$ and $b$.\n",
    "\n",
    "\n",
    "- For the 2nd order case, since we can have the boundary condition either be a value of $f(x)$ or a value of derivative $f'(x)$, we can have several different cases for the specified values. We need 2 boundary conditions to get the solution.\n",
    "\n",
    "For example, we can have the boundary condition values specified as:\n",
    "\n",
    "1. Two values of $f(x)$ are given, that is $f(a)$ and $f(b)$ are known. \n",
    "\n",
    "\n",
    "2. Two derivatives of $f'(x)$ are given, that is $f'(a)$ and $f'(b)$ are known.\n",
    "\n",
    "\n",
    "3. Or mixed conditions from the above two cases are known, that is either $f(a)$ and $f'(b)$ are known or $f'(a)$ and $f(b)$ are known. \n",
    "\n",
    "\n",
    "- The second-order ODE boundary value problem is also called **two-Point boundary value problems**. The higher order ODE problems need additional boundary conditions, usually the values of higher derivatives of the independent variables.\n",
    "\n",
    "#### Reference:\n",
    "https://pythonnumericalmethods.berkeley.edu/notebooks/chapter23.01-ODE-Boundary-Value-Problem-Statement.html"
   ]
  },
  {
   "cell_type": "markdown",
   "id": "05a96223",
   "metadata": {},
   "source": [
    "## The shooting method for solving ODEs:\n",
    "\n",
    "The methods devised for initial value problems do not work for boundary value problems because there are not enough initial value conditions to solve the ODE and get a unique solution. \n",
    "\n",
    "The shooting method was developed to overcome this difficulty. **Shooting methods** convert an ODE boundary value problem into an equivalent initial value problem. The advantage is that in initial value problems, we can start at the initial value and march forward to get the solution.\n",
    "\n",
    " \n",
    "The idea is that we shoot at the target and observe whether or not it hits the target and how close it was. Then,based on the errors, we can adjust our aim and shoot again in the hope that it will hit close to the target.\n",
    "\n",
    "We can see from the analogy that the shooting method is an iterative method that also involves optimisation.\n",
    "\n",
    "### Description of the method:\n",
    "\n",
    "Let's see how the shooting methods works using the second-order ODE given $f(a) = f_a$ and $f(b) = f_b$\n",
    "\n",
    "$$\n",
    "F\\left(x, f(x), \\frac{df(x)}{dx}\\right) = \\frac{d^{2}f(x)}{dx^{2}}\n",
    "$$\n",
    "\n",
    "- **Step 1:** We start the whole process by guessing $f'(a)=\\alpha$, together with $f(a) = f_a$, we turn the above problem into an initial value problem with two conditions all on value $x=a$. This is the **aim** step. \n",
    "\n",
    "\n",
    "- **Step 2:** Using what we learned from previous chapter, i.e. we can use Runge-Kutta method, to integrate to the other boundary $b$ to find $f(b) = f_\\beta$. This is the **shooting** step.  \n",
    "\n",
    "\n",
    "- **Step 3:** Now we compare the value of $f_\\beta$ with $f_b$, usually our initial guess is not good, and $f_\\beta \\ne f_b$, but what we want is $f_\\beta - f_b = 0$, therefore, we adjust our initial guesses and repeat. Until the error is acceptable, we can stop. This is the iterative step. \n",
    "\n",
    "\n",
    "### How do we constraint the guess?\n",
    "\n",
    "- The process of comparing and finding the best guesses is not easy.\n",
    "\n",
    "\n",
    "- Fortunately, finding the best guess to get $f_\\beta - f_b = 0$ is a root-finding problem.\n",
    "\n",
    "- Therefore, we can use optimisation routines to search for the best guess. Since $f_\\beta$ is a function of $\\alpha$, therefore, the problem becomes finding the root of $g(\\alpha) - f_b = 0 $."
   ]
  },
  {
   "cell_type": "markdown",
   "id": "330f2b15",
   "metadata": {},
   "source": [
    "\n",
    "## Example:\n",
    "\n",
    "Let's consider a 2nd order ordinary differential equation:\n",
    "\n",
    "$$\\frac{d^2f(x)}{dx^2} = -10$$\n",
    "\n",
    "if the independent variable is over the domain of [0, 20].\n",
    "\n",
    "- An initial value problem would have two conditions on the same point $x=0$, i.e., we know the value of $f(x=0)$ and $f'(x=0)$.\n",
    "\n",
    "- A boundary value problem specifies the values at e.g. $x = 0$ and $x = 20$ instead:\n",
    "\n",
    "$f(0)  = 500$\n",
    "\n",
    "$f(20) = 100$\n",
    "\n",
    "In general, to solve an $n$th-order ODE, we need $n$ constraints. \n",
    "\n",
    "1. Solve the above ODE boundary value problem using sympy.\n",
    "\n",
    "\n",
    "2. Plot the solution.\n",
    "\n",
    "\n",
    "3. Now, guess the initial value of $f'(0)$ and use a shooting method to check whether the target value $f(20)$ is found.\n",
    "\n",
    "\n",
    "4. If not, guess again and check the solution again.\n",
    "\n",
    "\n",
    "5. Solve the root finding problem to best estimate the guess for $f'(0)$.\n",
    "\n",
    "\n",
    "6. Use this guess in the shooting method routine and display the results. Do we hit the target?"
   ]
  },
  {
   "cell_type": "markdown",
   "id": "b03de958",
   "metadata": {},
   "source": [
    "### 1. Solve the above ODE boundary value problem using sympy."
   ]
  },
  {
   "cell_type": "code",
   "execution_count": 1,
   "id": "430381c3",
   "metadata": {},
   "outputs": [],
   "source": [
    "import sympy as sp\n",
    "import numpy as np\n",
    "import matplotlib.pyplot as plt"
   ]
  },
  {
   "cell_type": "code",
   "execution_count": 2,
   "id": "2207b786",
   "metadata": {},
   "outputs": [],
   "source": [
    "# Define symbols\n",
    "\n",
    "f = sp.symbols(\"f\", cls = sp.Function)\n",
    "x = sp.symbols(\"x\")\n"
   ]
  },
  {
   "cell_type": "code",
   "execution_count": 3,
   "id": "5361daa0",
   "metadata": {},
   "outputs": [
    {
     "data": {
      "text/latex": [
       "$\\displaystyle \\frac{d^{2}}{d x^{2}} f{\\left(x \\right)} + 10 = 0$"
      ],
      "text/plain": [
       "Eq(Derivative(f(x), (x, 2)) + 10, 0)"
      ]
     },
     "metadata": {},
     "output_type": "display_data"
    }
   ],
   "source": [
    "# Define ODE\n",
    "\n",
    "diffeq = sp.Eq(f(x).diff(x,2) + 10, 0)\n",
    "\n",
    "display(diffeq)"
   ]
  },
  {
   "cell_type": "code",
   "execution_count": 4,
   "id": "2acaeefc",
   "metadata": {},
   "outputs": [
    {
     "data": {
      "text/latex": [
       "$\\displaystyle f{\\left(x \\right)} = - 5 x^{2} + 80 x + 500$"
      ],
      "text/plain": [
       "Eq(f(x), -5*x**2 + 80*x + 500)"
      ]
     },
     "metadata": {},
     "output_type": "display_data"
    }
   ],
   "source": [
    "# Solve the ODE:\n",
    "\n",
    "result = sp.dsolve(diffeq, f(x), ics = {f(0):500, f(20):100})\n",
    "\n",
    "display(result)"
   ]
  },
  {
   "cell_type": "code",
   "execution_count": 5,
   "id": "eb59f343",
   "metadata": {},
   "outputs": [],
   "source": [
    "# Define function f(x)\n",
    "f_x = lambda x, s: -5*x**2 + 80*x + 500 # this is y(x)\n",
    "\n",
    "# Spacing\n",
    "h_1 = 0.1\n",
    "\n",
    "# Initial/boundary conditions\n",
    "x_00 = 0.\n",
    "x_20 = 20.\n",
    "\n",
    "f_00 = 500.\n",
    "f_20 = 100.\n",
    "\n",
    "# x_axis\n",
    "x_axis = np.arange(x_00, x_20 + h_1, h_1)"
   ]
  },
  {
   "cell_type": "code",
   "execution_count": 6,
   "id": "1e52d9fa",
   "metadata": {},
   "outputs": [
    {
     "data": {
      "image/png": "[encoded data removed]",
      "text/plain": [
       "<Figure size 800x600 with 1 Axes>"
      ]
     },
     "metadata": {},
     "output_type": "display_data"
    }
   ],
   "source": [
    "# Plotting\n",
    "\n",
    "plt.figure(figsize = (8,6))\n",
    "\n",
    "plt.plot(x_axis, f_x(x_axis, f_00), \"g\", label = \"Exact solution\")\n",
    "\n",
    "plt.xlabel('x')\n",
    "plt.ylabel('f(x)')\n",
    "\n",
    "#plt.xlim(0,2.0)\n",
    "#plt.ylim(0,1.1)\n",
    "\n",
    "plt.legend()\n",
    "plt.show()"
   ]
  },
  {
   "cell_type": "code",
   "execution_count": null,
   "id": "e0d9c67c",
   "metadata": {},
   "outputs": [],
   "source": []
  },
  {
   "cell_type": "markdown",
   "id": "e56b0677",
   "metadata": {},
   "source": [
    "\n",
    "## Example 2:\n",
    "\n",
    "Let's consider a 2nd order ordinary differential equation:\n",
    "\n",
    "$$\\frac{d^2f(x)}{dx^2} = \\frac{df(x)}{dx} + 3$$\n",
    "\n",
    "if the independent variable is over the domain of [0, 20].\n",
    "\n",
    "- An initial value problem would have two conditions on the same point $x=0$, i.e., we know the value of $f(x=0)$ and $f'(x=0)$.\n",
    "\n",
    "- A boundary value problem specifies the values at e.g. $x = 0$ and $x = 20$ instead:\n",
    "\n",
    "$f(0)  = 10$\n",
    "\n",
    "$f(20) = 10^6$\n",
    "\n",
    "In general, to solve an $n$th-order ODE, we need $n$ constraints. "
   ]
  },
  {
   "cell_type": "code",
   "execution_count": null,
   "id": "c00c482a",
   "metadata": {},
   "outputs": [],
   "source": []
  }
 ],
 "metadata": {
  "kernelspec": {
   "display_name": "Python 3 (ipykernel)",
   "language": "python",
   "name": "python3"
  },
  "language_info": {
   "codemirror_mode": {
    "name": "ipython",
    "version": 3
   },
   "file_extension": ".py",
   "mimetype": "text/x-python",
   "name": "python",
   "nbconvert_exporter": "python",
   "pygments_lexer": "ipython3",
   "version": "3.7.13"
  }
 },
 "nbformat": 4,
 "nbformat_minor": 5
}
