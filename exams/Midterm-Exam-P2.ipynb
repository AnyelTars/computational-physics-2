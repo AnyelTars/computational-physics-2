{
 "cells": [
  {
   "cell_type": "markdown",
   "id": "e6d600d5",
   "metadata": {},
   "source": [
    "# Midterm Exam (part 2) - Computational Physics 2\n",
    "\n",
    "- When you finish this part, please send the **.ipynb file** via email to wbanda@yachaytech.edu.ec\n",
    "\n",
    "\n",
    "- This part is open-book and individual. **It includes short application problems.**\n",
    "\n",
    "\n",
    "- You can call your notebook with your surname, e.g. **name-midterm-p2.ipynb**, and also include your name on the notebook.\n",
    "\n",
    "\n",
    "## Instructions:\n",
    "\n",
    "- **Duration: 1 hour, 15 minutes max.**\n",
    "\n",
    "\n",
    "- Within a single python notebook, solve the following problems using python code:"
   ]
  },
  {
   "cell_type": "markdown",
   "id": "23199e35",
   "metadata": {},
   "source": [
    "## Name:"
   ]
  },
  {
   "cell_type": "markdown",
   "id": "87380d28",
   "metadata": {},
   "source": []
  },
  {
   "cell_type": "markdown",
   "id": "7878b85c",
   "metadata": {},
   "source": [
    "### 10. (5 points) Initial-value problem: Free fall with a drag force\n",
    "\n",
    "Consider an object with a mass of $0.4\\,\\rm kg$ that falls from rest under the influence of gravity (i.e., along the Y axis). The object is also subjected to a drag force that arises from friction with air molecules, so its equation of motion reads:\n",
    "\n",
    "$$m\\frac{d^2y}{dt^2}=-m\\,g + b\\frac{dy}{dt}$$\n",
    "\n",
    "where $g = 9.8\\,\\rm m\\,s^{-2}$ and $b = 3.3\\times 10^{-2}\\,\\rm kg\\,s^{-1}$. If the starting point of the object is $y(0) = 100\\,\\rm m$, its initial speed $\\dot{y}(0) = 0$, and we are interested in studying its fall during the first $3\\,\\rm s$ of motion:\n",
    "\n",
    "\n",
    "**10.1. (1 point)** Find the analytical solution for $y(t)$ using sympy.\n",
    "\n",
    "\n",
    "**10.2. (1 point)** Make a plot ($y$ vs. $t$) of the analytical solution $y(t)$.\n",
    "\n",
    "\n",
    "**10.3. (1 point)** Use scipy functions to find the numerical solution for $y(t)$ (choose a RK integrator).\n",
    "\n",
    "\n",
    "**10.4. (1 point)** Make a plot ($y$ vs. $t$) of the numerical solution plus the analytical solution.\n",
    "\n",
    "\n",
    "**10.5. (1 point)** Analyse convergence, i.e., compute and plot the $L_2$-norm errors versus different step sizes.\n"
   ]
  },
  {
   "cell_type": "code",
   "execution_count": null,
   "id": "3c5f729b",
   "metadata": {},
   "outputs": [],
   "source": []
  },
  {
   "cell_type": "markdown",
   "id": "ffb7db48",
   "metadata": {},
   "source": [
    "### 11. (5 points) 2D Laplace equation: Electrostatic potential\n",
    "\n",
    "We seek to find the electric potential for all the points inside a charge-free square with dimensions ($0.4\\times 0.4 \\,\\rm m^2$). The top and sides of the region are made up of wires that are grounded (i.e. they are kept at $0\\,\\rm V$). The bottom wire is connected to a battery that keeps it at a constant $240\\,\\rm V$ (see figure below).\n",
    "\n",
    "To find the potential, $V(x,y)$, we need to solve the 2D Laplace equation:\n",
    "\n",
    "$$\\frac{\\partial^2 V}{\\partial x^2} + \\frac{\\partial^2 V}{\\partial y^2} = 0$$\n",
    "\n",
    "\n",
    "**11.1. (1 point)** Write down the finite difference approximation of the Laplace equation. Hint: Express the answer with $V_{i,j}$ on the left-hand side.\n",
    "\n",
    "\n",
    "**11.2. (1 point)** Create an empty matrix for $V(x,y)$ and add the boundary conditions of the problem to it. Hint: A matrix with $100\\times 100$ cells would be sufficient.\n",
    "\n",
    "\n",
    "**11.3. (2 points)** Create a method that iteratively fills up the solution using the finite-difference formula that you found in item 11.1. Hint: 1000 iterations should be sufficient to capture the surface adequately.\n",
    "\n",
    "**11.4. (1 point)** Make a two-panel plot showing the solution for $V(x,y)$, as a surface (on left-hand side plot) and with contours projected onto the XY plane (on right-hand side plot).\n",
    "\n",
    "Reference image:\n",
    "\n",
    "https://github.com/wbandabarragan/computational-physics-2/blob/main/exams/electrostatics.png\n",
    "\n",
    "<img src=\"electrostatics.png\" width=\"400\" height=\"200\">"
   ]
  },
  {
   "cell_type": "code",
   "execution_count": null,
   "id": "4ea774c0",
   "metadata": {},
   "outputs": [],
   "source": []
  }
 ],
 "metadata": {
  "kernelspec": {
   "display_name": "Python 3 (ipykernel)",
   "language": "python",
   "name": "python3"
  },
  "language_info": {
   "codemirror_mode": {
    "name": "ipython",
    "version": 3
   },
   "file_extension": ".py",
   "mimetype": "text/x-python",
   "name": "python",
   "nbconvert_exporter": "python",
   "pygments_lexer": "ipython3",
   "version": "3.8.13"
  }
 },
 "nbformat": 4,
 "nbformat_minor": 5
}
