{
 "cells": [
  {
   "cell_type": "markdown",
   "id": "8e61346a",
   "metadata": {},
   "source": [
    "## Problem: Advect a top-hat function\n",
    "\n",
    "Write a code to solve the 1-d linear advection equation using a first-order explicit (upwind) discretisation scheme:\n",
    "\n",
    "$$u_i^{j+1} =u_i^j - c\\frac{\\Delta t}{\\Delta x}(u_i^j - u_{i-1}^j )$$\n",
    "\n",
    "\n",
    "on the domain $[0,1]$ with $c=1$ and periodic boundary conditions. For initial conditions, try a top-hat function:\n",
    "\n",
    "$$ \n",
    "u(x,0)= \n",
    "     \\begin{cases}\n",
    "       0, & x < 1/3\\\\\n",
    "       1, & 1/3 \\leq x \\leq 2/3,\\\\\n",
    "       0, & x > 2/3,\\\\\n",
    "     \\end{cases}\n",
    "$$\n",
    "\n",
    "**Note:**\n",
    "\n",
    "For a general treatment of boundary conditions, you would initialize the ghost points to their corresponding periodic data and apply the difference equations to zones $0,..., N − 1$. However, for periodic BCs on this grid, points $0$ and $N − 1$ are identical, so you could do the update in this special case on points $1,..., N − 1$ without the need for ghost points and then set $u_0 = u_N−1$ after the update.\n",
    "\n",
    "Run you program for one or more periods (one period is $T = 1/c$) with several different CFL numbers and notice that there is substantial numerical dissipation.\n"
   ]
  },
  {
   "cell_type": "code",
   "execution_count": 1,
   "id": "f7446b3f",
   "metadata": {},
   "outputs": [],
   "source": [
    "import numpy as np\n",
    "import matplotlib.pyplot as plt"
   ]
  },
  {
   "cell_type": "markdown",
   "id": "8ebdcc63",
   "metadata": {},
   "source": [
    "## 1. Create the domain:"
   ]
  },
  {
   "cell_type": "code",
   "execution_count": 2,
   "id": "eaaff540",
   "metadata": {},
   "outputs": [
    {
     "name": "stdout",
     "output_type": "stream",
     "text": [
      "(1003,)\n"
     ]
    }
   ],
   "source": [
    "# Create domain\n",
    "xmin = 0.\n",
    "xmax = 1.\n",
    "\n",
    "# Number of points on the grid\n",
    "nx = 1001\n",
    "\n",
    "# Number of ghost cells\n",
    "ng = 1\n",
    "\n",
    "# Step size\n",
    "delta_x = (xmax - xmin)/(nx - 1)\n",
    "\n",
    "# Define x-axis\n",
    "x = np.arange(xmin - ng*delta_x , xmax + (ng + 1)*delta_x, delta_x)\n",
    "\n",
    "print(x.shape)\n",
    "#print(x)"
   ]
  },
  {
   "cell_type": "markdown",
   "id": "1da52085",
   "metadata": {},
   "source": [
    "### 2. Define the initial profile:"
   ]
  },
  {
   "cell_type": "code",
   "execution_count": 3,
   "id": "8747a287",
   "metadata": {},
   "outputs": [],
   "source": [
    "def top_hat(x):\n",
    "    \n",
    "    \"\"\"\n",
    "    Top-hat function\n",
    "    \"\"\"\n",
    "    \n",
    "    if (1/3 <= x <= 2/3):\n",
    "        return 1.0\n",
    "    else:\n",
    "        return 0.0"
   ]
  },
  {
   "cell_type": "code",
   "execution_count": 4,
   "id": "be019b98",
   "metadata": {},
   "outputs": [
    {
     "name": "stdout",
     "output_type": "stream",
     "text": [
      "(1003,) (1003,)\n"
     ]
    }
   ],
   "source": [
    "# Empy list for the y axis\n",
    "y = []\n",
    "\n",
    "\n",
    "# Fill in the elements of the list by eveluating our piece-wise function\n",
    "\n",
    "for j in range(len(x)):\n",
    "    \n",
    "    y.append(top_hat(x[j]))\n",
    "\n",
    "y = np.array(y)\n",
    "\n",
    "print(x.shape, y.shape)"
   ]
  },
  {
   "cell_type": "markdown",
   "id": "da2c5398",
   "metadata": {},
   "source": [
    "### 3. Plotting the initial profile (top-hat:)"
   ]
  },
  {
   "cell_type": "code",
   "execution_count": 5,
   "id": "fa055c01",
   "metadata": {},
   "outputs": [
    {
     "data": {
      "image/png": "[encoded data removed]",
      "text/plain": [
       "<Figure size 600x500 with 1 Axes>"
      ]
     },
     "metadata": {},
     "output_type": "display_data"
    }
   ],
   "source": [
    "# Plot the initial profile\n",
    "\n",
    "plt.figure(figsize = (6,5))\n",
    "\n",
    "plt.plot(x, y)\n",
    "\n",
    "plt.xlabel(r\"$x$\")\n",
    "plt.ylabel(r\"$u(x,0)$\")\n",
    "plt.show()\n",
    "\n"
   ]
  },
  {
   "cell_type": "markdown",
   "id": "66a31e65",
   "metadata": {},
   "source": [
    "### 4. Create an empty solution array:"
   ]
  },
  {
   "cell_type": "code",
   "execution_count": 6,
   "id": "f47fa815",
   "metadata": {},
   "outputs": [
    {
     "name": "stdout",
     "output_type": "stream",
     "text": [
      "(1003,) (1003,)\n"
     ]
    }
   ],
   "source": [
    "# Empty array that will store our slns\n",
    "u_sln0 = np.zeros((len(x)), dtype=np.float64) # For the IC\n",
    "u_sln  = np.zeros((len(x)), dtype=np.float64) # For the t-dependent sln\n",
    "\n",
    "print(u_sln0.shape, u_sln.shape)"
   ]
  },
  {
   "cell_type": "code",
   "execution_count": 7,
   "id": "4c6a7a66",
   "metadata": {},
   "outputs": [],
   "source": [
    "# This is the initial vector\n",
    "y_0 = y.copy()\n",
    "u_sln0 = y.copy()\n",
    "\n",
    "# Alternative code for the initial vector\n",
    "\n",
    "#u_sln0[:] = 0.0\n",
    "#u_sln0[np.logical_and(x >= 1./3., x <= 2./3.)] = 1.0\n",
    "#print(u_sln0.shape)\n",
    "\n",
    "#print(u_sln0)"
   ]
  },
  {
   "cell_type": "markdown",
   "id": "9b0330f7",
   "metadata": {},
   "source": [
    "### 5. UPWIND Discretisation: "
   ]
  },
  {
   "cell_type": "code",
   "execution_count": 8,
   "id": "d6c9b136",
   "metadata": {},
   "outputs": [],
   "source": [
    "# Courant number\n",
    "cfl = 1.0 ## <= 1\n",
    "\n",
    "# Perturbation speed\n",
    "c = 1.0"
   ]
  },
  {
   "cell_type": "markdown",
   "id": "9a440dcb",
   "metadata": {},
   "source": [
    "#### Time step:\n",
    "\n",
    "$$\\Delta t= \\frac{\\Delta x\\,\\cal C}{c}$$\n",
    "\n",
    "\n",
    "#### Period:\n",
    "\n",
    "$${\\cal T}=\\frac{L}{c}$$"
   ]
  },
  {
   "cell_type": "code",
   "execution_count": 9,
   "id": "91067b8f",
   "metadata": {},
   "outputs": [
    {
     "name": "stdout",
     "output_type": "stream",
     "text": [
      "1.0\n"
     ]
    }
   ],
   "source": [
    "# Time step\n",
    "delta_t = cfl*delta_x/c\n",
    "\n",
    "# Time -> 1 period so that the profile stays on spot\n",
    "t_period = (xmax - xmin)/c\n",
    "\n",
    "print(t_period)"
   ]
  },
  {
   "cell_type": "markdown",
   "id": "74ab0a32",
   "metadata": {},
   "source": [
    "#### Simulation:"
   ]
  },
  {
   "cell_type": "code",
   "execution_count": 10,
   "id": "fc762ec4",
   "metadata": {},
   "outputs": [],
   "source": [
    "# Initialise time at t=0\n",
    "t = 0.\n",
    "\n",
    "#print(Ng-1, Nx+Ng-2)\n",
    "#print(Ng+1, Nx+Ng)\n",
    "\n",
    "# While statement\n",
    "while t < t_period:\n",
    "    \n",
    "    # Adding BCs\n",
    "    u_sln0[ng-1]  = u_sln0[nx+ng-2]\n",
    "    u_sln0[nx+ng] = u_sln0[ng+1]\n",
    "    \n",
    "    for i in range(ng, ng+nx):\n",
    "        u_sln[i] = u_sln0[i] - cfl*(u_sln0[i] - u_sln0[i-1])\n",
    "        \n",
    "    u_sln0[:] = u_sln[:]\n",
    "    t += delta_t"
   ]
  },
  {
   "cell_type": "code",
   "execution_count": 11,
   "id": "a39915f4",
   "metadata": {},
   "outputs": [
    {
     "name": "stdout",
     "output_type": "stream",
     "text": [
      "[0. 0. 0. ... 0. 0. 0.]\n"
     ]
    }
   ],
   "source": [
    "print(u_sln)"
   ]
  },
  {
   "cell_type": "code",
   "execution_count": 12,
   "id": "77776ce3",
   "metadata": {},
   "outputs": [
    {
     "data": {
      "image/png": "[encoded data removed]",
      "text/plain": [
       "<Figure size 600x400 with 1 Axes>"
      ]
     },
     "metadata": {},
     "output_type": "display_data"
    }
   ],
   "source": [
    "    \n",
    "# Plot the initial profile\n",
    "\n",
    "plt.figure(figsize = (6,4))\n",
    "plt.title(f\"CFL = {cfl}\")\n",
    "plt.plot(x, y_0, color = \"red\", label =\"initial\")\n",
    "plt.plot(x, u_sln, color = \"blue\", label=\"after 1 period\")\n",
    "\n",
    "plt.xlabel(r\"x\")\n",
    "plt.ylabel(r\"u(x)\")\n",
    "plt.legend()\n",
    "plt.show()"
   ]
  },
  {
   "cell_type": "code",
   "execution_count": 13,
   "id": "cc9d4627",
   "metadata": {},
   "outputs": [
    {
     "ename": "NameError",
     "evalue": "name 'Ng' is not defined",
     "output_type": "error",
     "traceback": [
      "\u001b[0;31m---------------------------------------------------------------------------\u001b[0m",
      "\u001b[0;31mNameError\u001b[0m                                 Traceback (most recent call last)",
      "\u001b[0;32m/var/folders/sw/g1jmwgb9161cw02pzv6xtvjw0000gn/T/ipykernel_37490/102800051.py\u001b[0m in \u001b[0;36m<module>\u001b[0;34m\u001b[0m\n\u001b[0;32m----> 1\u001b[0;31m \u001b[0milo\u001b[0m \u001b[0;34m=\u001b[0m \u001b[0mNg\u001b[0m\u001b[0;34m\u001b[0m\u001b[0;34m\u001b[0m\u001b[0m\n\u001b[0m\u001b[1;32m      2\u001b[0m \u001b[0mihi\u001b[0m \u001b[0;34m=\u001b[0m \u001b[0mNg\u001b[0m\u001b[0;34m+\u001b[0m\u001b[0mNx\u001b[0m\u001b[0;34m-\u001b[0m\u001b[0;36m1\u001b[0m\u001b[0;34m\u001b[0m\u001b[0;34m\u001b[0m\u001b[0m\n",
      "\u001b[0;31mNameError\u001b[0m: name 'Ng' is not defined"
     ]
    }
   ],
   "source": [
    "ilo = Ng\n",
    "ihi = Ng+Nx-1"
   ]
  },
  {
   "cell_type": "code",
   "execution_count": null,
   "id": "c88baed3",
   "metadata": {},
   "outputs": [],
   "source": [
    "plt.plot(x[Ng:Ng+Nx], y_0[Ng:Ng+Nx], ls=\":\", color = 'red', label=\"initial\")\n",
    "\n",
    "plt.plot(x[Ng:Ng+Nx],u_sln[Ng:Ng+Nx], color = 'blue', label=r\"$C = {}$\".format(CFL))\n",
    "\n",
    "plt.xlabel(r\"$x$\")\n",
    "plt.ylabel(r\"$u$\")\n",
    "\n",
    "plt.legend(frameon=False, loc=\"best\")\n",
    "\n",
    "plt.tight_layout()\n",
    "\n",
    "plt.show()"
   ]
  },
  {
   "cell_type": "code",
   "execution_count": null,
   "id": "3082cc03",
   "metadata": {},
   "outputs": [],
   "source": [
    "# Empty array that will store our slns\n",
    "u_sln0 = np.zeros((len(x)), dtype=np.float64)\n",
    "u_sln  = np.zeros((len(x)), dtype=np.float64)\n",
    "\n",
    "print(u_sln0.shape, u_sln.shape)\n",
    "\n",
    "# This is the initial vector\n",
    "y_0 = y.copy()\n",
    "u_sln0 = y.copy()\n",
    "\n",
    "# Alternative code for the initial vector\n",
    "\n",
    "#u_sln0[:] = 0.0\n",
    "#u_sln0[np.logical_and(x >= 1./3., x <= 2./3.)] = 1.0\n",
    "#print(u_sln0.shape)\n",
    "\n",
    "#print(u_sln0)\n",
    "\n",
    "# Time discretisation\n",
    "CFL = 0.1 ## <= 1\n",
    "c = 1.0\n",
    "\n",
    "# Time step\n",
    "delta_t = CFL*delta_x/c\n",
    "\n",
    "# Time -> 1 period so that the profile stays on spot\n",
    "t_period = (xmax - xmin)/c\n",
    "\n",
    "# Initialise time at t=0\n",
    "t = 0.\n",
    "\n",
    "#print(Ng-1, Nx+Ng-2)\n",
    "#print(Ng+1, Nx+Ng)\n",
    "\n",
    "# While statement\n",
    "while t < t_period:\n",
    "    \n",
    "    u_sln0[Ng-1]  = u_sln0[Nx+Ng-2]\n",
    "    u_sln0[Nx+Ng] = u_sln0[Ng+1]\n",
    "    \n",
    "    for i in range(Ng, Ng+Nx):\n",
    "        u_sln[i] = u_sln0[i] - CFL*(u_sln0[i] - u_sln0[i-1])\n",
    "        \n",
    "    u_sln0[:] = u_sln[:]\n",
    "    t += delta_t\n",
    "\n",
    "    \n",
    "# Plot the initial profile\n",
    "\n",
    "plt.plot(x[Ng:Ng+Nx], y_0[Ng:Ng+Nx], ls=\":\", color = 'red', label=\"initial\")\n",
    "\n",
    "plt.plot(x[Ng:Ng+Nx],u_sln[Ng:Ng+Nx], color = 'blue', label=r\"$C = {}$\".format(CFL))\n",
    "\n",
    "plt.xlabel(r\"$x$\")\n",
    "plt.ylabel(r\"$u$\")\n",
    "\n",
    "plt.legend(frameon=False, loc=\"best\")\n",
    "\n",
    "plt.tight_layout()\n",
    "\n",
    "plt.show()"
   ]
  },
  {
   "cell_type": "code",
   "execution_count": null,
   "id": "f8bf364d",
   "metadata": {},
   "outputs": [],
   "source": [
    "# Empty array that will store our slns\n",
    "u_sln0 = np.zeros((len(x)), dtype=np.float64)\n",
    "u_sln  = np.zeros((len(x)), dtype=np.float64)\n",
    "\n",
    "print(u_sln0.shape, u_sln.shape)\n",
    "\n",
    "# This is the initial vector\n",
    "y_0 = y.copy()\n",
    "u_sln0 = y.copy()\n",
    "\n",
    "# Alternative code for the initial vector\n",
    "\n",
    "#u_sln0[:] = 0.0\n",
    "#u_sln0[np.logical_and(x >= 1./3., x <= 2./3.)] = 1.0\n",
    "#print(u_sln0.shape)\n",
    "\n",
    "#print(u_sln0)\n",
    "\n",
    "# Time discretisation\n",
    "CFL = 0.9 ## <= 1\n",
    "c = 1.0\n",
    "\n",
    "# Time step\n",
    "delta_t = CFL*delta_x/c\n",
    "\n",
    "# Time -> 1 period so that the profile stays on spot\n",
    "t_period = (xmax - xmin)/c\n",
    "\n",
    "# Initialise time at t=0\n",
    "t = 0.\n",
    "\n",
    "#print(Ng-1, Nx+Ng-2)\n",
    "#print(Ng+1, Nx+Ng)\n",
    "\n",
    "# While statement\n",
    "while t < t_period:\n",
    "    \n",
    "    u_sln0[Ng-1]  = u_sln0[Nx+Ng-2]\n",
    "    u_sln0[Nx+Ng] = u_sln0[Ng+1]\n",
    "    \n",
    "    for i in range(Ng, Ng+Nx):\n",
    "        u_sln[i] = u_sln0[i] - CFL*(u_sln0[i] - u_sln0[i-1])\n",
    "        \n",
    "    u_sln0[:] = u_sln[:]\n",
    "    t += delta_t\n",
    "\n",
    "    \n",
    "# Plot the initial profile\n",
    "\n",
    "plt.plot(x[Ng:Ng+Nx], y_0[Ng:Ng+Nx], ls=\":\", color = 'red', label=\"initial\")\n",
    "\n",
    "plt.plot(x[Ng:Ng+Nx],u_sln[Ng:Ng+Nx], color = 'blue', label=r\"$C = {}$\".format(CFL))\n",
    "\n",
    "plt.xlabel(r\"$x$\")\n",
    "plt.ylabel(r\"$u$\")\n",
    "\n",
    "plt.legend(frameon=False, loc=\"best\")\n",
    "\n",
    "plt.tight_layout()\n",
    "\n",
    "plt.show()"
   ]
  },
  {
   "cell_type": "code",
   "execution_count": null,
   "id": "73f5a516",
   "metadata": {},
   "outputs": [],
   "source": [
    "# Empty array that will store our slns\n",
    "u_sln0 = np.zeros((len(x)), dtype=np.float64)\n",
    "u_sln  = np.zeros((len(x)), dtype=np.float64)\n",
    "\n",
    "print(u_sln0.shape, u_sln.shape)\n",
    "\n",
    "# This is the initial vector\n",
    "y_0 = y.copy()\n",
    "u_sln0 = y.copy()\n",
    "\n",
    "# Alternative code for the initial vector\n",
    "\n",
    "#u_sln0[:] = 0.0\n",
    "#u_sln0[np.logical_and(x >= 1./3., x <= 2./3.)] = 1.0\n",
    "#print(u_sln0.shape)\n",
    "\n",
    "#print(u_sln0)\n",
    "\n",
    "# Time discretisation\n",
    "CFL = 1.0 ## <= 1\n",
    "c = 1.0\n",
    "\n",
    "# Time step\n",
    "delta_t = CFL*delta_x/c\n",
    "\n",
    "# Time -> 1 period so that the profile stays on spot\n",
    "t_period = (xmax - xmin)/c\n",
    "\n",
    "# Initialise time at t=0\n",
    "t = 0.\n",
    "\n",
    "#print(Ng-1, Nx+Ng-2)\n",
    "#print(Ng+1, Nx+Ng)\n",
    "\n",
    "# While statement\n",
    "while t < t_period:\n",
    "    \n",
    "    u_sln0[Ng-1]  = u_sln0[Nx+Ng-2]\n",
    "    u_sln0[Nx+Ng] = u_sln0[Ng+1]\n",
    "    \n",
    "    for i in range(Ng, Ng+Nx):\n",
    "        u_sln[i] = u_sln0[i] - CFL*(u_sln0[i] - u_sln0[i-1])\n",
    "        \n",
    "    u_sln0[:] = u_sln[:]\n",
    "    t += delta_t\n",
    "\n",
    "    \n",
    "# Plot the initial profile\n",
    "\n",
    "plt.plot(x[Ng:Ng+Nx], y_0[Ng:Ng+Nx], ls=\":\", color = 'red', label=\"initial\")\n",
    "\n",
    "plt.plot(x[Ng:Ng+Nx],u_sln[Ng:Ng+Nx], color = 'blue', label=r\"$C = {}$\".format(CFL))\n",
    "\n",
    "plt.xlabel(r\"$x$\")\n",
    "plt.ylabel(r\"$u$\")\n",
    "\n",
    "plt.legend(frameon=False, loc=\"best\")\n",
    "\n",
    "plt.tight_layout()\n",
    "\n",
    "plt.show()"
   ]
  },
  {
   "cell_type": "markdown",
   "id": "cabfddc0",
   "metadata": {},
   "source": [
    "This method is stable for all CFL numbers."
   ]
  },
  {
   "cell_type": "markdown",
   "id": "e3a90e3e",
   "metadata": {},
   "source": [
    "### In a function format:"
   ]
  },
  {
   "cell_type": "code",
   "execution_count": null,
   "id": "c545d05d",
   "metadata": {},
   "outputs": [],
   "source": [
    "def upwind_method(CFL_input, t_factor):\n",
    "\n",
    "    # Empty array that will store our slns\n",
    "    u_sln0 = np.zeros((len(x)), dtype=np.float64)\n",
    "    u_sln  = np.zeros((len(x)), dtype=np.float64)\n",
    "\n",
    "    # This is the initial vector\n",
    "    y_0 = y.copy()\n",
    "    u_sln0 = y.copy()\n",
    "\n",
    "    # Time discretisation\n",
    "    CFL = CFL_input ## <= 1\n",
    "    c = 1.0\n",
    "\n",
    "    # Time step\n",
    "    delta_t = CFL*delta_x/c\n",
    "\n",
    "    # Time -> 1 period so that the profile stays on spot\n",
    "    t_period = t_factor*(xmax - xmin)/c\n",
    "\n",
    "    # Initialise time at t=0\n",
    "    t = 0.\n",
    "\n",
    "    # While statement\n",
    "    while t < t_period:\n",
    "\n",
    "        u_sln0[Ng-1]  = u_sln0[Nx+Ng-2]\n",
    "        u_sln0[Nx+Ng] = u_sln0[Ng+1]\n",
    "\n",
    "        for i in range(Ng, Ng+Nx):\n",
    "            u_sln[i] = u_sln0[i] - CFL*(u_sln0[i] - u_sln0[i-1])\n",
    "\n",
    "        u_sln0[:] = u_sln[:]\n",
    "        t += delta_t\n",
    "        \n",
    "    return y_0, u_sln"
   ]
  },
  {
   "cell_type": "code",
   "execution_count": null,
   "id": "75d5f466",
   "metadata": {},
   "outputs": [],
   "source": [
    "# Call the function:\n",
    "\n",
    "# For CFL = 1, Period = 1\n",
    "CFL1 = 1.\n",
    "factor = 1.\n",
    "s_t01, s_tf1 = upwind_method(CFL1, factor)\n",
    "\n",
    "# For CFL = 0.9, Period = 1\n",
    "CFL2 = 0.9\n",
    "s_t02, s_tf2 = upwind_method(CFL2, factor)\n",
    "\n",
    "# For CFL = 0.5, Period = 1\n",
    "CFL3 = 0.5\n",
    "s_t03, s_tf3 = upwind_method(CFL3, factor)\n",
    "\n",
    "# For CFL = 0.1, Period = 1\n",
    "CFL4 = 0.1\n",
    "s_t04, s_tf4 = upwind_method(CFL4, factor)\n"
   ]
  },
  {
   "cell_type": "code",
   "execution_count": null,
   "id": "54c6b7f7",
   "metadata": {},
   "outputs": [],
   "source": [
    "# Plot the initial profile\n",
    "\n",
    "plt.figure(figsize=(6,5))\n",
    "plt.plot(x[Ng:Ng+Nx], s_t01[Ng:Ng+Nx], ls=\":\", color = 'red', label=\"initial\")\n",
    "\n",
    "plt.plot(x[Ng:Ng+Nx], s_tf1[Ng:Ng+Nx], color = 'blue', label=r\"$CFL = {}$\".format(CFL1))\n",
    "plt.plot(x[Ng:Ng+Nx], s_tf2[Ng:Ng+Nx], color = 'green', label=r\"$CFL = {}$\".format(CFL2))\n",
    "plt.plot(x[Ng:Ng+Nx], s_tf3[Ng:Ng+Nx], color = 'magenta', label=r\"$CFL = {}$\".format(CFL3))\n",
    "plt.plot(x[Ng:Ng+Nx], s_tf4[Ng:Ng+Nx], color = 'red', label=r\"$CFL = {}$\".format(CFL4))\n",
    "\n",
    "plt.xlabel(r\"$x$\")\n",
    "plt.ylabel(r\"$u$\")\n",
    "\n",
    "plt.legend(frameon=False, loc=\"best\")\n",
    "\n",
    "plt.tight_layout()\n",
    "\n",
    "plt.show()"
   ]
  },
  {
   "cell_type": "markdown",
   "id": "09d04c75",
   "metadata": {},
   "source": [
    "# Fixed CFL number and different times:"
   ]
  },
  {
   "cell_type": "code",
   "execution_count": null,
   "id": "3eb5db6f",
   "metadata": {},
   "outputs": [],
   "source": [
    "# Call the function:\n",
    "\n",
    "# For CFL = 1, Period = 1\n",
    "CFL = 0.9\n",
    "factor1 = 1.\n",
    "s_t01, s_tf1 = upwind_method(CFL, factor1)\n",
    "\n",
    "# For CFL = 0.9, Period = 1\n",
    "factor2 = 2.\n",
    "s_t02, s_tf2 = upwind_method(CFL, factor2)\n",
    "\n",
    "# For CFL = 0.5, Period = 1\n",
    "factor3 = 3.\n",
    "s_t03, s_tf3 = upwind_method(CFL, factor3)\n",
    "\n",
    "# For CFL = 0.1, Period = 1\n",
    "factor4 = 4.\n",
    "s_t04, s_tf4 = upwind_method(CFL, factor4)\n"
   ]
  },
  {
   "cell_type": "code",
   "execution_count": null,
   "id": "58a24feb",
   "metadata": {},
   "outputs": [],
   "source": [
    "# Plot the initial profile\n",
    "\n",
    "plt.figure(figsize=(6,5))\n",
    "plt.plot(x[Ng:Ng+Nx], s_t01[Ng:Ng+Nx], ls=\":\", color = 'black', label=\"initial\")\n",
    "\n",
    "plt.plot(x[Ng:Ng+Nx], s_tf1[Ng:Ng+Nx], color = 'blue', label=r\"$T = {}$\".format(factor1))\n",
    "plt.plot(x[Ng:Ng+Nx], s_tf2[Ng:Ng+Nx], color = 'green', label=r\"$T = {}$\".format(factor2))\n",
    "plt.plot(x[Ng:Ng+Nx], s_tf3[Ng:Ng+Nx], color = 'magenta', label=r\"$T = {}$\".format(factor3))\n",
    "plt.plot(x[Ng:Ng+Nx], s_tf4[Ng:Ng+Nx], color = 'red', label=r\"$T = {}$\".format(factor4))\n",
    "\n",
    "plt.xlabel(r\"$x$\")\n",
    "plt.ylabel(r\"$u$\")\n",
    "\n",
    "plt.legend(frameon=False, loc=\"best\")\n",
    "\n",
    "plt.tight_layout()\n",
    "\n",
    "plt.show()"
   ]
  },
  {
   "cell_type": "code",
   "execution_count": null,
   "id": "16f71bae",
   "metadata": {},
   "outputs": [],
   "source": []
  }
 ],
 "metadata": {
  "kernelspec": {
   "display_name": "Python 3 (ipykernel)",
   "language": "python",
   "name": "python3"
  },
  "language_info": {
   "codemirror_mode": {
    "name": "ipython",
    "version": 3
   },
   "file_extension": ".py",
   "mimetype": "text/x-python",
   "name": "python",
   "nbconvert_exporter": "python",
   "pygments_lexer": "ipython3",
   "version": "3.7.16"
  }
 },
 "nbformat": 4,
 "nbformat_minor": 5
}
