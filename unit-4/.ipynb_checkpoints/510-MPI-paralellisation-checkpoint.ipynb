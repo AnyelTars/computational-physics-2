{
 "cells": [
  {
   "cell_type": "markdown",
   "id": "016f448e",
   "metadata": {},
   "source": [
    "# MPI parallelisation\n",
    "\n",
    "We will need to install two packages:\n",
    "\n",
    "- The python MPI package:\n",
    "\n",
    "```\n",
    "conda install mpi4py\n",
    "```\n",
    "\n",
    "- The actual MPI library:\n",
    "\n",
    "```\n",
    "conda install openmpi\n",
    "```\n",
    "\n",
    "### References: \n",
    "https://mpi4py.readthedocs.io/en/stable/tutorial.html\n",
    "\n",
    "https://education.molssi.org/parallel-programming/03-distributed-examples-mpi4py/index.html\n",
    "\n",
    "\n",
    "## 1. Basic python script:\n",
    "\n",
    "Let's create a .py script that writes \"Hello World\":\n",
    "\n",
    "\n",
    "```python\n",
    "if __name__ == \"__main__\":\n",
    "\n",
    "    print(\"Hello World!\")\n",
    "    \n",
    "```\n",
    "\n",
    "To execute it in a terminal:\n",
    "\n",
    "```\n",
    "wladimir$ python example_mpi.py\n",
    "1.py \n",
    "\n",
    "Hello World!\n",
    "```"
   ]
  },
  {
   "cell_type": "code",
   "execution_count": null,
   "id": "34d6f8fd",
   "metadata": {},
   "outputs": [],
   "source": []
  }
 ],
 "metadata": {
  "kernelspec": {
   "display_name": "Python 3 (ipykernel)",
   "language": "python",
   "name": "python3"
  },
  "language_info": {
   "codemirror_mode": {
    "name": "ipython",
    "version": 3
   },
   "file_extension": ".py",
   "mimetype": "text/x-python",
   "name": "python",
   "nbconvert_exporter": "python",
   "pygments_lexer": "ipython3",
   "version": "3.7.13"
  }
 },
 "nbformat": 4,
 "nbformat_minor": 5
}
