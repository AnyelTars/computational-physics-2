{
 "cells": [
  {
   "cell_type": "markdown",
   "id": "b4b79556",
   "metadata": {},
   "source": [
    "# 1. Multiprocessing in python\n",
    "\n",
    "The **multiprocessing library** is Python's standard library to support parallel computing using processes.\n",
    "\n",
    "See documentation here:\n",
    "\n",
    "https://docs.python.org/3/library/multiprocessing.html"
   ]
  },
  {
   "cell_type": "code",
   "execution_count": 1,
   "id": "01ef2662",
   "metadata": {},
   "outputs": [],
   "source": [
    "import multiprocessing as mp"
   ]
  },
  {
   "cell_type": "markdown",
   "id": "bcb825a0",
   "metadata": {},
   "source": [
    "Let's first print out the total number of CPUs that on my machine that can be used for parallel computing.\n",
    "\n",
    "```\n",
    "cat /proc/cpuinfo\n",
    "```"
   ]
  },
  {
   "cell_type": "code",
   "execution_count": 2,
   "id": "ae809955",
   "metadata": {},
   "outputs": [
    {
     "name": "stdout",
     "output_type": "stream",
     "text": [
      "Number of cpu: 4\n"
     ]
    }
   ],
   "source": [
    "print(f\"Number of cpu: {mp.cpu_count()}\")"
   ]
  },
  {
   "cell_type": "markdown",
   "id": "40a1a029",
   "metadata": {},
   "source": [
    "Let's use an example to show you how to use multiple cores in one machine to reduce the time of execution time. \n",
    "\n",
    "### Example 1:\n",
    "\n",
    "Generate $10^7$ random numbers between 0 and 10, and square the number. Store the results in a list. "
   ]
  },
  {
   "cell_type": "markdown",
   "id": "70936e1f",
   "metadata": {},
   "source": [
    "#### A) Serial version:\n",
    "\n",
    "Add random_square"
   ]
  },
  {
   "cell_type": "code",
   "execution_count": 4,
   "id": "a9a7a634",
   "metadata": {},
   "outputs": [],
   "source": [
    "import numpy as np\n",
    "import time\n",
    "import random_generator"
   ]
  },
  {
   "cell_type": "code",
   "execution_count": 14,
   "id": "1e928da4",
   "metadata": {},
   "outputs": [
    {
     "name": "stdout",
     "output_type": "stream",
     "text": [
      "The execution time is 0.028612852096557617 s.\n"
     ]
    }
   ],
   "source": [
    "# Timing code\n",
    "start = time.time()\n",
    "\n",
    "# Empty list for results\n",
    "results = []\n",
    "\n",
    "# Loop up to 10^7\n",
    "for i in range(10000000):\n",
    "    \n",
    "    results.append(random_generator.random_generator(i))\n",
    "\n",
    "# Time code again\n",
    "end = time.time()\n",
    "\n",
    "print(f\"The execution time is {end - start} s.\")"
   ]
  },
  {
   "cell_type": "markdown",
   "id": "97f29ab9",
   "metadata": {},
   "source": [
    "#### B) Parallel version\n",
    "\n",
    "The simplest way to do parallel computing using the multiprocessing is to use the **Pool** class.\n",
    "\n",
    "See documentation:\n",
    "\n",
    "https://superfastpython.com/multiprocessing-pool-map/\n",
    "\n",
    "https://docs.python.org/3/library/multiprocessing.html#multiprocessing.pool.Pool\n",
    "\n",
    "\n",
    "There are 4 common methods in the class that we may use often, that is:\n",
    "\n",
    "1. **apply**, \n",
    "\n",
    "\n",
    "2. **map**, \n",
    "\n",
    "\n",
    "3. **apply_async** and \n",
    "\n",
    "\n",
    "4. **map_async**.\n",
    "\n",
    "Have a look of the documentation for the differences, and we will only use **map** function below to parallel the above example.\n",
    "\n",
    "The **map(func, iterable)** function takes in two arguments, and apply the function **func** to each element in the **iterable**, and then collect the results. "
   ]
  },
  {
   "cell_type": "code",
   "execution_count": 15,
   "id": "281dde1b",
   "metadata": {},
   "outputs": [
    {
     "name": "stdout",
     "output_type": "stream",
     "text": [
      "The execution time is 0.8149571418762207 s.\n"
     ]
    }
   ],
   "source": [
    "# Timing code\n",
    "start = time.time()\n",
    "\n",
    "# Empty list for results\n",
    "results = []\n",
    "\n",
    "# Call Pool\n",
    "n_cores = mp.cpu_count()//2\n",
    "#print(type(n_cores))\n",
    "\n",
    "# Define pool\n",
    "pool = mp.Pool(processes = n_cores)\n",
    "\n",
    "# Call Pool.map(func, iter)\n",
    "results = [pool.map(random_generator.random_generator, range(10000000))]\n",
    "\n",
    "# Time code again\n",
    "end = time.time()\n",
    "\n",
    "print(f\"The execution time is {end - start} s.\")"
   ]
  },
  {
   "cell_type": "code",
   "execution_count": 13,
   "id": "5d2a52f3",
   "metadata": {},
   "outputs": [
    {
     "name": "stdout",
     "output_type": "stream",
     "text": [
      "The execution time is 27.68308401107788 s.\n"
     ]
    }
   ],
   "source": [
    "# Timing code\n",
    "start = time.time()\n",
    "\n",
    "# Empty list for results\n",
    "results = []\n",
    "\n",
    "# Call Pool\n",
    "n_cores = mp.cpu_count()\n",
    "#print(type(n_cores))\n",
    "\n",
    "# Define pool\n",
    "pool = mp.Pool(processes = n_cores)\n",
    "\n",
    "# Call Pool.map(func, iter)\n",
    "results = [pool.map(random_generator.random_generator, range(10000000))]\n",
    "\n",
    "# Time code again\n",
    "end = time.time()\n",
    "\n",
    "print(f\"The execution time is {end - start} s.\")"
   ]
  },
  {
   "cell_type": "markdown",
   "id": "2498d8ae",
   "metadata": {},
   "source": [
    "#### Notes:\n",
    "\n",
    "\n",
    "- We can see that using the above parallel version of the code, we reduce the run time from 59.18333172798157 s to 30.407769918441772 s. This is a big gain in speed, especially if we have a heavy computation, it will reduce a lot of time by running parallel computing. \n",
    "\n",
    "\n",
    "- The `pool.apply` function is similar except that it can accept more arguments. The `pool.map` and `pool.apply` will lock the main program until all the processes are finished, which is quite useful if we want to obtain results in a particular order for some applications.\n",
    "\n",
    "\n",
    "- In contrast, if we do not need the results in a particular order, we can also use `pool.apply_async` or `pool.map_async`, which will submit all processes at once and retrieve the results as soon as they are finished. Check documentation to learn more. "
   ]
  },
  {
   "cell_type": "markdown",
   "id": "14cbcfb2",
   "metadata": {},
   "source": [
    "## Visualise the execution time \n",
    "\n",
    "Let's visualise the execution time changes versus the number of data points using both the serial and parallel version.\n",
    "\n",
    "We will see that until certain point, it is better to use the serial version. "
   ]
  },
  {
   "cell_type": "code",
   "execution_count": 16,
   "id": "d3c52b5f",
   "metadata": {},
   "outputs": [],
   "source": [
    "import matplotlib.pyplot as plt"
   ]
  },
  {
   "cell_type": "code",
   "execution_count": 17,
   "id": "9cbd691a",
   "metadata": {},
   "outputs": [],
   "source": [
    "# Serial function\n",
    "\n",
    "def serial(n):\n",
    "    \n",
    "    start = time.time()\n",
    "    results = []\n",
    "    \n",
    "    for i in range(n): \n",
    "        results.append(random_square.random_square(i))\n",
    "    \n",
    "    end = time.time()\n",
    "    exec_time = end - start\n",
    "    \n",
    "    return exec_time\n",
    "\n",
    "# Parallel function\n",
    "\n",
    "def parallel(n):\n",
    "    \n",
    "    start = time.time()\n",
    "    n_cpu = mp.cpu_count()\n",
    "\n",
    "    pool = mp.Pool(processes=n_cpu)\n",
    "    \n",
    "    results = [pool.map(random_square.random_square, range(n))]\n",
    "    \n",
    "    end = time.time()\n",
    "    exec_time = end - start\n",
    "    \n",
    "    return exec_time"
   ]
  },
  {
   "cell_type": "code",
   "execution_count": 18,
   "id": "a6c9f75c",
   "metadata": {},
   "outputs": [],
   "source": [
    "# Generate numbers in log-space:\n",
    "n_run = np.logspace(1, 7, num = 7)\n",
    "\n",
    "\n",
    "# Call functions for each n_run[i]\n",
    "\n",
    "t_serial = [serial(int(n)) for n in n_run]\n",
    "\n",
    "t_parallel = [parallel(int(n)) for n in n_run]"
   ]
  },
  {
   "cell_type": "code",
   "execution_count": 19,
   "id": "efa064db",
   "metadata": {},
   "outputs": [
    {
     "data": {
      "image/png": "[encoded data removed]",
      "text/plain": [
       "<Figure size 1000x600 with 1 Axes>"
      ]
     },
     "metadata": {},
     "output_type": "display_data"
    }
   ],
   "source": [
    "plt.figure(figsize = (10, 6))\n",
    "\n",
    "plt.plot(n_run, t_serial, '-o', color = \"red\", label = 'serial')\n",
    "plt.plot(n_run, t_parallel, '-o', color = \"green\", label = 'parallel')\n",
    "\n",
    "plt.loglog()\n",
    "plt.legend()\n",
    "\n",
    "plt.ylabel('Execution time (s)')\n",
    "plt.xlabel('Number of random points')\n",
    "\n",
    "plt.show()"
   ]
  },
  {
   "cell_type": "code",
   "execution_count": null,
   "id": "53ffc424",
   "metadata": {},
   "outputs": [],
   "source": []
  }
 ],
 "metadata": {
  "kernelspec": {
   "display_name": "Python 3 (ipykernel)",
   "language": "python",
   "name": "python3"
  },
  "language_info": {
   "codemirror_mode": {
    "name": "ipython",
    "version": 3
   },
   "file_extension": ".py",
   "mimetype": "text/x-python",
   "name": "python",
   "nbconvert_exporter": "python",
   "pygments_lexer": "ipython3",
   "version": "3.8.13"
  }
 },
 "nbformat": 4,
 "nbformat_minor": 5
}
