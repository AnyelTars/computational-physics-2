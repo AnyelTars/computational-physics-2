{
 "cells": [
  {
   "cell_type": "markdown",
   "id": "7c28e65d",
   "metadata": {},
   "source": [
    "# Packaging\n",
    "\n",
    "Let's look at the structure of creating an installable python package.\n",
    "\n",
    "The python packaging system is constantly evolving, and the current recommendations\n",
    "of tools is list here:\n",
    "\n",
    "https://packaging.python.org/en/latest/guides/tool-recommendations/\n",
    "\n",
    "## Example\n",
    "\n",
    "We'll work on an example that builds on the Mandelbrot set exercise\n",
    "from our matplotlib discussion.  Our example is hosted here:\n",
    "\n",
    "https://github.com/wbandabarragan/computational-physics-2/tree/main/unit-5/mymodule\n",
    "\n",
    "On your local computer, if you have `git` installed, you can clone this via:\n",
    "\n",
    "```\n",
    "git clone https://github.com/wbandabarragan/computational-physics-2/tree/main/unit-5/mymodule.git\n",
    "```\n",
    "\n",
    "The directory structure appears as:\n",
    "\n",
    "```\n",
    "mymodule\n",
    "├── mymodule\n",
    "│   ├── __init__.py\n",
    "│   └── mandel.py\n",
    "└── README.md\n",
    "```\n",
    "\n",
    "This is a rather common way of structuring a project:\n",
    "\n",
    "* The top-level `mymodule` directory is not part of the python\n",
    "  package, but instead is where the source control (e.g. git) begins,\n",
    "  and also hosts setup files that are used for installation\n",
    "\n",
    "* `mymodule/mymodule` is the actual python module that we will load.\n",
    "   To make python recognize this as a module, we need an `__init__.py`\n",
    "   file there -- it can be completely empty.\n",
    "\n",
    "* The actual `*.py` files that make up our module are in `mymodule/mymodule`\n",
    "\n",
    "Right now, this package does not appear in our python search path, so\n",
    "the only way to load it is to work in the top-level `mymodule/`\n",
    "directory, and then we can do:\n",
    "\n",
    "```python\n",
    "import mymodule.mandel\n",
    "fig = mymodule.mandel.mandelbrot(256)\n",
    "fig.savefig(\"test.png\")\n",
    "```\n",
    "\n",
    "we could also do:\n",
    "\n",
    "```python\n",
    "from mymodule.mandel import mandelbrot\n",
    "```"
   ]
  },
  {
   "cell_type": "code",
   "execution_count": 36,
   "id": "23b9e6c9",
   "metadata": {},
   "outputs": [
    {
     "name": "stderr",
     "output_type": "stream",
     "text": [
      "/Users/wladimir/Dropbox/Yachay_Tech/Semestre2_2022/Docencia/Fisica_Computacional_2/Lectures/computational-physics-2/unit-5/mymodule/mandel.py:23: RuntimeWarning: overflow encountered in absolute\n",
      "  m[np.logical_and(np.abs(z) > 2, m == 0)] = i\n"
     ]
    },
    {
     "data": {
      "image/png": "[encoded data removed]",
      "text/plain": [
       "<Figure size 432x288 with 2 Axes>"
      ]
     },
     "metadata": {
      "needs_background": "light"
     },
     "output_type": "display_data"
    }
   ],
   "source": [
    "import mymodule\n",
    "fig = mymodule.mandel.mandelbrot(256)\n",
    "fig.savefig(\"test-mandelbrot.png\")"
   ]
  },
  {
   "cell_type": "markdown",
   "id": "c4d54802",
   "metadata": {},
   "source": [
    "\n",
    "\n",
    "## setuptools\n",
    "\n",
    "The current python package recommendation are:\n",
    "\n",
    "* Installation:\n",
    "\n",
    "  * `pip` to install packages from PyPI\n",
    "  \n",
    "  * `conda` for disctribution cross-platform software stacks\n",
    "\n",
    "* Packaging tools:\n",
    "\n",
    "  * `setuptools` to create source distributions\n",
    "  \n",
    "  * `build` for binary distributions\n",
    "  \n",
    "  * `twine` to upload to PyPI\n",
    "\n",
    "We'll look at how to use `setuptools` to package our library.  See the\n",
    "packaging guidelines here:\n",
    "https://packaging.python.org/en/latest/guides/distributing-packages-using-setuptools/\n",
    "\n",
    "The main thing we need to do is create a `setup.py` that describes our\n",
    "package and its requirements:\n",
    "\n",
    "Here's a first `setup.py`:\n",
    "\n",
    "```python\n",
    "from setuptools import setup, find_packages\n",
    "\n",
    "setup(name='mymodule',\n",
    "      description='test module',\n",
    "      url='https://github.com/sbu-python-class/mymodule',\n",
    "      author='your_name',\n",
    "      author_email='your_email',\n",
    "      license='BSD',\n",
    "      packages=find_packages(),\n",
    "      install_requires=['numpy', 'matplotlib'])\n",
    "```\n",
    "\n",
    "We can setup in a variety of ways.  Two useful ways are:\n",
    "\n",
    "* Install:\n",
    "\n",
    "  `python setup.py install --user`\n",
    "\n",
    "  This will copy the source files into your install location (likely\n",
    "  `~/.local/...`) putting them into your python search path.  Then you\n",
    "  can use this package from anywhere.\n",
    "\n",
    "* Development mode (https://setuptools.pypa.io/en/latest/userguide/development_mode.html):\n",
    "\n",
    "  `python setup.py develop --user`\n",
    "\n",
    "  This doesn't actually install anything in your user- or site-wide\n",
    "  install location, but instead it creates a special link in that\n",
    "  install directory back to your actual project code.\n",
    "\n",
    "  This allows you to continue to develop the package without needed to\n",
    "  re-install each time you change the source.\n",
    "\n",
    "  You can uninstall via:\n",
    "\n",
    "  `python setup.py develop --uninstall`\n",
    "\n",
    "The above put the package in the user-specific install location\n",
    "(because of the `--user` flag).  If you leave this off, it will try to\n",
    "install in the system-wide path, which might require admin privileges.\n"
   ]
  },
  {
   "cell_type": "code",
   "execution_count": null,
   "id": "62f6b529",
   "metadata": {},
   "outputs": [],
   "source": []
  }
 ],
 "metadata": {
  "kernelspec": {
   "display_name": "Python 3 (ipykernel)",
   "language": "python",
   "name": "python3"
  },
  "language_info": {
   "codemirror_mode": {
    "name": "ipython",
    "version": 3
   },
   "file_extension": ".py",
   "mimetype": "text/x-python",
   "name": "python",
   "nbconvert_exporter": "python",
   "pygments_lexer": "ipython3",
   "version": "3.9.12"
  }
 },
 "nbformat": 4,
 "nbformat_minor": 5
}
