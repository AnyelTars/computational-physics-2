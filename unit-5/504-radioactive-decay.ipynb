{
 "cells": [
  {
   "cell_type": "code",
   "execution_count": 1,
   "id": "270d28cf",
   "metadata": {},
   "outputs": [],
   "source": [
    "import numpy as np\n",
    "from numpy import *\n",
    "import matplotlib.pyplot as plt\n",
    "import random"
   ]
  },
  {
   "cell_type": "code",
   "execution_count": 3,
   "id": "ace38c3b",
   "metadata": {},
   "outputs": [],
   "source": [
    "lambda1 = 0.1                                   # Decay constant\n",
    "n_max = 10000\n",
    "time_max = 100\n",
    "seed = 68111\n",
    "\n",
    "number = nloop = n_max                             # Initial value\n",
    "\n",
    "y = np.zeros(time_max)\n",
    "t = np.zeros(time_max)\n"
   ]
  },
  {
   "cell_type": "code",
   "execution_count": 4,
   "id": "2b5c40fc",
   "metadata": {},
   "outputs": [],
   "source": [
    "import os"
   ]
  },
  {
   "cell_type": "code",
   "execution_count": null,
   "id": "28742935",
   "metadata": {
    "scrolled": false
   },
   "outputs": [],
   "source": [
    "for time in range(0, time_max):                 # Time loop\n",
    "    \n",
    "    for atom in range(1, number):              # Decay loop\n",
    "        decay = random.random()   \n",
    "        if (decay  <  lambda1):\n",
    "            nloop = nloop  -  1                  # A decay\n",
    "            frequency = 600 # Hertz\n",
    "            duration  = 100 # milliseconds\n",
    "            os.system('say \"Decay.\"')\\\n",
    "            \n",
    "    number  = nloop\n",
    "    y[time] = nloop\n",
    "    t[time] = time"
   ]
  },
  {
   "cell_type": "code",
   "execution_count": null,
   "id": "c6ae5ce2",
   "metadata": {},
   "outputs": [],
   "source": [
    "print(n_max)"
   ]
  },
  {
   "cell_type": "code",
   "execution_count": null,
   "id": "82d945c0",
   "metadata": {},
   "outputs": [],
   "source": [
    "plt.plot(t, np.log(y))    \n",
    "#plt.title(\"Spontaneous Decay\")\n",
    "\n",
    "plt.plot(t, np.log(n_max*np.exp(-lambda1*t)))\n",
    "plt.xlabel(\"Time\")\n",
    "plt.ylabel(\"N\")\n",
    "\n",
    "plt.ylim(-1, 12)\n",
    "plt.show()"
   ]
  },
  {
   "cell_type": "code",
   "execution_count": null,
   "id": "1d2e7f07",
   "metadata": {},
   "outputs": [],
   "source": []
  },
  {
   "cell_type": "code",
   "execution_count": null,
   "id": "a6538f31",
   "metadata": {},
   "outputs": [],
   "source": []
  },
  {
   "cell_type": "code",
   "execution_count": null,
   "id": "35a55983",
   "metadata": {},
   "outputs": [],
   "source": []
  }
 ],
 "metadata": {
  "kernelspec": {
   "display_name": "Python 3 (ipykernel)",
   "language": "python",
   "name": "python3"
  },
  "language_info": {
   "codemirror_mode": {
    "name": "ipython",
    "version": 3
   },
   "file_extension": ".py",
   "mimetype": "text/x-python",
   "name": "python",
   "nbconvert_exporter": "python",
   "pygments_lexer": "ipython3",
   "version": "3.7.16"
  }
 },
 "nbformat": 4,
 "nbformat_minor": 5
}
